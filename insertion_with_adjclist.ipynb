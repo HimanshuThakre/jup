{
  "nbformat": 4,
  "nbformat_minor": 0,
  "metadata": {
    "colab": {
      "provenance": [],
      "authorship_tag": "ABX9TyOU7ZEMid66GdhZtFiwtaRJ",
      "include_colab_link": true
    },
    "kernelspec": {
      "name": "python3",
      "display_name": "Python 3"
    },
    "language_info": {
      "name": "python"
    }
  },
  "cells": [
    {
      "cell_type": "markdown",
      "metadata": {
        "id": "view-in-github",
        "colab_type": "text"
      },
      "source": [
        "<a href=\"https://colab.research.google.com/github/HimanshuThakre/jup/blob/main/insertion_with_adjclist.ipynb\" target=\"_parent\"><img src=\"https://colab.research.google.com/assets/colab-badge.svg\" alt=\"Open In Colab\"/></a>"
      ]
    },
    {
      "cell_type": "code",
      "execution_count": null,
      "metadata": {
        "colab": {
          "base_uri": "https://localhost:8080/"
        },
        "id": "ZVONw5H3V7Fm",
        "outputId": "a32a179c-7261-4585-edfb-721d9d778a19"
      },
      "outputs": [
        {
          "output_type": "stream",
          "name": "stdout",
          "text": [
            "{'A': ['B'], 'B': ['A', 'C'], 'C': ['B']}\n"
          ]
        }
      ],
      "source": []
    },
    {
      "cell_type": "code",
      "source": [
        "#DIRECTED AND UN WEIGHT\n",
        "def add_node(v):\n",
        "  if v in graph:\n",
        "    print(V,\"is already present in graph\")\n",
        "  else:\n",
        "    graph[v] = []\n",
        "def add_edge(v1,v2):\n",
        "  if v1 not in graph:\n",
        "\n",
        "    print(v1,\"is not present in graph\")\n",
        "  elif v2 not in graph:\n",
        "    print(v2,\"is not present in graph\")\n",
        "  else:\n",
        "    #list1 = [v2,cost]\n",
        "    #list2 = [v1,cost]\n",
        "    graph[v1].append(v2)\n",
        "    #graph[v2].append(v1)\n",
        "\n",
        "\n",
        "def delete_node(v):\n",
        "  if v not in graph:\n",
        "    print(v,\"is not present in graph\")\n",
        "  else:\n",
        "    graph.pop(v)\n",
        "    for i in graph:\n",
        "      list1 =graph[i]\n",
        "      if v in list1:\n",
        "        list1.remove(v)\n",
        "def delete_edge(v1,v2):\n",
        "  if v1 not in graph:\n",
        "    print(v1,\"is not present in graph\")\n",
        "  elif v2 not in graph:\n",
        "    print(v2,\"is not present in graph\")\n",
        "  else:\n",
        "    if v2 in graph[v1]:\n",
        "      graph[v1].remove(v2)\n",
        "      #graph[v2].remove(v1)\n",
        "\n",
        "\n",
        "\n",
        "\n",
        "\n",
        "graph = {}\n",
        "add_node(\"A\")\n",
        "add_node(\"B\")\n",
        "add_node(\"C\")\n",
        "add_node(\"D\")\n",
        "add_node(\"E\")\n",
        "add_node(\"F\")\n",
        "add_node(\"G\")\n",
        "add_edge(\"A\",\"B\")\n",
        "add_edge(\"B\",\"E\")\n",
        "add_edge(\"A\",\"C\")\n",
        "add_edge(\"B\",\"D\")\n",
        "add_edge(\"F\",\"C\")\n",
        "add_edge(\"F\",\"G\")\n",
        "add_edge(\"G\",\"D\")\n",
        "print(graph)\n",
        "delete_edge(\"F\",\"G\")\n",
        "print(graph)"
      ],
      "metadata": {
        "colab": {
          "base_uri": "https://localhost:8080/"
        },
        "id": "L27KLegI5dzE",
        "outputId": "87e4992c-5ea6-4006-d9b8-99f4c3783b7b"
      },
      "execution_count": 16,
      "outputs": [
        {
          "output_type": "stream",
          "name": "stdout",
          "text": [
            "{'A': ['B', 'C'], 'B': ['E', 'D'], 'C': [], 'D': [], 'E': [], 'F': ['C', 'G'], 'G': ['D']}\n",
            "{'A': ['B', 'C'], 'B': ['E', 'D'], 'C': [], 'D': [], 'E': [], 'F': ['C'], 'G': ['D']}\n"
          ]
        }
      ]
    },
    {
      "cell_type": "code",
      "source": [
        "#unDIRECTED AND UN WEIGHT\n",
        "def add_node(v):\n",
        "  if v in graph:\n",
        "    print(V,\"is already present in graph\")\n",
        "  else:\n",
        "    graph[v] = []\n",
        "def add_edge(v1,v2):\n",
        "  if v1 not in graph:\n",
        "\n",
        "    print(v1,\"is not present in graph\")\n",
        "  elif v2 not in graph:\n",
        "    print(v2,\"is not present in graph\")\n",
        "  else:\n",
        "    #list1 = [v2,cost]\n",
        "    #list2 = [v1,cost]\n",
        "    graph[v1].append(v2)\n",
        "    graph[v2].append(v1)\n",
        "\n",
        "\n",
        "def delete_node(v):\n",
        "  if v not in graph:\n",
        "    print(v,\"is not present in graph\")\n",
        "  else:\n",
        "    graph.pop(v)\n",
        "    for i in graph:\n",
        "      list1 =graph[i]\n",
        "      if v in list1:\n",
        "        list1.remove(v)\n",
        "\n",
        "\n",
        "\n",
        "\n",
        "\n",
        "\n",
        "graph = {}\n",
        "add_node(\"A\")\n",
        "add_node(\"B\")\n",
        "add_node(\"C\")\n",
        "add_node(\"D\")\n",
        "add_node(\"E\")\n",
        "# add_node(\"F\")\n",
        "# add_node(\"G\")\n",
        "add_edge(\"A\",\"B\")\n",
        "add_edge(\"B\",\"E\")\n",
        "add_edge(\"A\",\"C\")\n",
        "add_edge(\"B\",\"D\")\n",
        "add_edge(\"C\",\"D\")\n",
        "add_edge(\"E\",\"D\")\n",
        "# add_edge(\"B\",\"D\")\n",
        "# add_edge(\"F\",\"C\")\n",
        "# add_edge(\"F\",\"G\")\n",
        "# add_edge(\"G\",\"D\")\n",
        "print(graph)\n",
        "delete_node(\"C\")\n",
        "print(graph)"
      ],
      "metadata": {
        "colab": {
          "base_uri": "https://localhost:8080/"
        },
        "id": "SHleuVoN6VDi",
        "outputId": "a844c023-1c84-4d6f-9e64-b32a8ba3ff70"
      },
      "execution_count": null,
      "outputs": [
        {
          "output_type": "stream",
          "name": "stdout",
          "text": [
            "{'A': ['B', 'C'], 'B': ['A', 'E', 'D'], 'C': ['A', 'D'], 'D': ['B', 'C', 'E'], 'E': ['B', 'D']}\n",
            "{'A': ['B'], 'B': ['A', 'E', 'D'], 'D': ['B', 'E'], 'E': ['B', 'D']}\n"
          ]
        }
      ]
    },
    {
      "cell_type": "code",
      "source": [
        "#unnweighted graph and undirected\n",
        "#unDIRECTED AND UN WEIGHT\n",
        "def add_node(v):\n",
        "  if v in graph:\n",
        "    print(V,\"is already present in graph\")\n",
        "  else:\n",
        "    graph[v] = []\n",
        "def add_edge(v1,v2,cost):\n",
        "  if v1 not in graph:\n",
        "\n",
        "    print(v1,\"is not present in graph\")\n",
        "  elif v2 not in graph:\n",
        "    print(v2,\"is not present in graph\")\n",
        "  else:\n",
        "   #list1 = [v2,cost]\n",
        "   # list2 = [v1,cost]\n",
        "    graph[v1].append(v2)\n",
        "    graph[v2].append(v1)\n",
        "\n",
        "\n",
        "def delete_node(v):\n",
        "  if v not in graph:\n",
        "    print(v,\"is not present in graph\")\n",
        "  else:\n",
        "    graph.pop(v)\n",
        "    for i in graph:\n",
        "      list1 =graph[i]\n",
        "      for j in list1:\n",
        "        if v == j[0]:\n",
        "          list1.remove(j)\n",
        "          break\n",
        "def delete_edge(v1,v2):\n",
        "  if v1 not in graph:\n",
        "    print(v1,\"is not present in graph\")\n",
        "  elif v2 not in graph:\n",
        "    print(v2,\"is not present in graph\")\n",
        "  else:\n",
        "    if v2 in graph[v1]:\n",
        "      graph[v1].remove(v2)\n",
        "      graph[v2].remove(v1)\n",
        "\n",
        "\n",
        "\n",
        "\n",
        "graph = {}\n",
        "add_node(\"A\")\n",
        "add_node(\"B\")\n",
        "add_node(\"C\")\n",
        "add_node(\"D\")\n",
        "add_node(\"E\")\n",
        "# add_node(\"F\")\n",
        "# add_node(\"G\")\n",
        "add_edge(\"A\",\"B\",12)\n",
        "add_edge(\"B\",\"E\",23)\n",
        "add_edge(\"A\",\"C\",34)\n",
        "add_edge(\"B\",\"D\",45)\n",
        "add_edge(\"C\",\"D\",36)\n",
        "add_edge(\"E\",\"D\",345)\n",
        "# add_edge(\"B\",\"D\")\n",
        "# add_edge(\"F\",\"C\")\n",
        "# add_edge(\"F\",\"G\")\n",
        "# add_edge(\"G\",\"D\")\n",
        "print(graph)\n",
        "delete_node(\"C\")\n",
        "print(graph)"
      ],
      "metadata": {
        "colab": {
          "base_uri": "https://localhost:8080/"
        },
        "id": "Rpack0ReLreb",
        "outputId": "c5c2f020-2390-482b-ee96-57f628323650"
      },
      "execution_count": 15,
      "outputs": [
        {
          "output_type": "stream",
          "name": "stdout",
          "text": [
            "{'A': ['B', 'C'], 'B': ['A', 'E', 'D'], 'C': ['A', 'D'], 'D': ['B', 'C', 'E'], 'E': ['B', 'D']}\n",
            "{'A': ['B'], 'B': ['A', 'E', 'D'], 'D': ['B', 'E'], 'E': ['B', 'D']}\n"
          ]
        }
      ]
    }
  ]
}