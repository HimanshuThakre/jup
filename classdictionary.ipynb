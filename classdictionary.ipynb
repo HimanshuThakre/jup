{
  "nbformat": 4,
  "nbformat_minor": 0,
  "metadata": {
    "colab": {
      "provenance": [],
      "authorship_tag": "ABX9TyOSgjZSabN85fguPhS6etXV",
      "include_colab_link": true
    },
    "kernelspec": {
      "name": "python3",
      "display_name": "Python 3"
    },
    "language_info": {
      "name": "python"
    }
  },
  "cells": [
    {
      "cell_type": "markdown",
      "metadata": {
        "id": "view-in-github",
        "colab_type": "text"
      },
      "source": [
        "<a href=\"https://colab.research.google.com/github/HimanshuThakre/jup/blob/main/classdictionary.ipynb\" target=\"_parent\"><img src=\"https://colab.research.google.com/assets/colab-badge.svg\" alt=\"Open In Colab\"/></a>"
      ]
    },
    {
      "cell_type": "code",
      "execution_count": 56,
      "metadata": {
        "id": "Ug8oqsmcDgzC"
      },
      "outputs": [],
      "source": [
        "class Dictionary:\n",
        "\n",
        "  def __init__(self,size):\n",
        "    self.size = size\n",
        "    self.slots = [None] * self.size\n",
        "    self.data = [None] * self.size\n",
        "\n",
        "  def put(self, key, value):\n",
        "    hash_value = self.hash_function(key)\n",
        "\n",
        "    if self.slots[hash_value] == None:\n",
        "      self.slots[hash_value] = key\n",
        "      self.data[hash_value] = value\n",
        "    else:\n",
        "\n",
        "      if self.slots[hash_value] == key:\n",
        "        self.data[hash_value] = value\n",
        "      else:\n",
        "        new_hash_value = self.rehash(hash_value, self.size)\n",
        "\n",
        "        while self.slots[new_hash_value] != None and self.slots[new_hash_value] != key:\n",
        "          new_hash_value = self.rehash(new_hash_value, self.size)\n",
        "\n",
        "        if self.slots[new_hash_value] == None:\n",
        "          self.slots[new_hash_value] = key\n",
        "          self.data[new_hash_value] = value\n",
        "        else:\n",
        "          self.data[new_hash_value] = value\n",
        "  def __setitem__(self, key, value):\n",
        "    self.put(key, value)\n",
        "\n",
        "  def rehash(self, old_hash, size):\n",
        "    return (old_hash + 1) % size\n",
        "\n",
        "  def hash_function(self, key):\n",
        "    return abs(hash(key)) % self.size"
      ]
    },
    {
      "cell_type": "code",
      "source": [
        "hash(123)"
      ],
      "metadata": {
        "colab": {
          "base_uri": "https://localhost:8080/"
        },
        "id": "6_dMxYnXVwCt",
        "outputId": "8a8116be-a88f-41d6-9f2b-df26b89c81fb"
      },
      "execution_count": 37,
      "outputs": [
        {
          "output_type": "execute_result",
          "data": {
            "text/plain": [
              "123"
            ]
          },
          "metadata": {},
          "execution_count": 37
        }
      ]
    },
    {
      "cell_type": "code",
      "source": [
        "abs(hash('afffbc')) % 5"
      ],
      "metadata": {
        "colab": {
          "base_uri": "https://localhost:8080/"
        },
        "id": "fUhugn_QV1tH",
        "outputId": "fd00754c-4f28-4095-e9ec-8233856e8b1d"
      },
      "execution_count": null,
      "outputs": [
        {
          "output_type": "execute_result",
          "data": {
            "text/plain": [
              "4"
            ]
          },
          "metadata": {},
          "execution_count": 5
        }
      ]
    },
    {
      "cell_type": "code",
      "source": [
        "hash()"
      ],
      "metadata": {
        "id": "U2v7Yk99XL4U"
      },
      "execution_count": null,
      "outputs": []
    },
    {
      "cell_type": "code",
      "source": [
        "D1 = Dictionary(3)"
      ],
      "metadata": {
        "id": "YGuzweN-tpYb"
      },
      "execution_count": 57,
      "outputs": []
    },
    {
      "cell_type": "code",
      "source": [
        "print(D1.slots)\n",
        "print(D1.data)"
      ],
      "metadata": {
        "colab": {
          "base_uri": "https://localhost:8080/"
        },
        "id": "ibkWM82htz8P",
        "outputId": "e67a1f40-3e2b-4131-fa64-29fff0fb116c"
      },
      "execution_count": 61,
      "outputs": [
        {
          "output_type": "stream",
          "name": "stdout",
          "text": [
            "[None, 'pyton', None]\n",
            "[None, 56, None]\n"
          ]
        }
      ]
    },
    {
      "cell_type": "code",
      "source": [
        "D1['pyton'] = 56"
      ],
      "metadata": {
        "id": "xk6_CEp1yxIR"
      },
      "execution_count": 60,
      "outputs": []
    },
    {
      "cell_type": "code",
      "source": [
        "D1.put(\"php\",1000)"
      ],
      "metadata": {
        "id": "wU-sJTnEt9Qr"
      },
      "execution_count": 53,
      "outputs": []
    }
  ]
}