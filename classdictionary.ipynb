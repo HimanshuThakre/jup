{
  "nbformat": 4,
  "nbformat_minor": 0,
  "metadata": {
    "colab": {
      "provenance": [],
      "authorship_tag": "ABX9TyOEcKI1R87fkq6Xdm0gLoMn",
      "include_colab_link": true
    },
    "kernelspec": {
      "name": "python3",
      "display_name": "Python 3"
    },
    "language_info": {
      "name": "python"
    }
  },
  "cells": [
    {
      "cell_type": "markdown",
      "metadata": {
        "id": "view-in-github",
        "colab_type": "text"
      },
      "source": [
        "<a href=\"https://colab.research.google.com/github/HimanshuThakre/jup/blob/main/classdictionary.ipynb\" target=\"_parent\"><img src=\"https://colab.research.google.com/assets/colab-badge.svg\" alt=\"Open In Colab\"/></a>"
      ]
    },
    {
      "cell_type": "code",
      "execution_count": 59,
      "metadata": {
        "id": "Ug8oqsmcDgzC"
      },
      "outputs": [],
      "source": [
        "class Dictionary:\n",
        "\n",
        "  def __init__(self,size):\n",
        "    self.size = size\n",
        "    self.slots = [None] * self.size\n",
        "    self.data = [None] * self.size\n",
        "\n",
        "  def put(self, key, value):\n",
        "    hash_value = self.hash_function(key)\n",
        "\n",
        "    if self.slots[hash_value] == None:\n",
        "      self.slots[hash_value] = key\n",
        "      self.data[hash_value] = value\n",
        "    else:\n",
        "\n",
        "      if self.slots[hash_value] == key:\n",
        "        self.data[hash_value] = value\n",
        "      else:\n",
        "        new_hash_value = self.rehash(hash_value, self.size)\n",
        "\n",
        "        while self.slots[new_hash_value] != None and self.slots[new_hash_value] != key:\n",
        "          new_hash_value = self.rehash(new_hash_value, self.size)\n",
        "\n",
        "        if self.slots[new_hash_value] == None:\n",
        "          self.slots[new_hash_value] = key\n",
        "          self.data[new_hash_value] = value\n",
        "        else:\n",
        "          self.data[new_hash_value] = value\n",
        "  def get(self, key):\n",
        "    start_position = self.hash_function(key)\n",
        "    current_postion = start_position\n",
        "\n",
        "    while self.slots[current_postion] != None:\n",
        "      if self.slots[current_postion] == key:\n",
        "        return self.data[current_postion]\n",
        "\n",
        "      current_postion =self.rehash(current_postion, self.size)\n",
        "      if current_postion == start_position:\n",
        "        return \"not found\"\n",
        "\n",
        "    return \"None ala not found\"\n",
        "  def __str__(self):\n",
        "\n",
        "    for i in range(self.size):\n",
        "      if self.slots[i] != None:\n",
        "        print(self.slots[i],\":\",self.data[i],end=' ')\n",
        "\n",
        "    return \"\"\n",
        "\n",
        "  def __len__(self):\n",
        "    count = 0\n",
        "    for i in range(self.size):\n",
        "      if self.slots[i] != None:\n",
        "        count += 1\n",
        "    return count\n",
        "\n",
        "\n",
        "\n",
        "\n",
        "  def __getitem__(self, key):\n",
        "    return self.get(key)\n",
        "\n",
        "  def __setitem__(self, key, value):\n",
        "    self.put(key, value)\n",
        "\n",
        "  def rehash(self, old_hash, size):\n",
        "    return (old_hash + 1) % size\n",
        "\n",
        "  def hash_function(self, key):\n",
        "    return abs(hash(key)) % self.size"
      ]
    },
    {
      "cell_type": "code",
      "source": [
        "hash(123)"
      ],
      "metadata": {
        "colab": {
          "base_uri": "https://localhost:8080/"
        },
        "id": "6_dMxYnXVwCt",
        "outputId": "8a8116be-a88f-41d6-9f2b-df26b89c81fb"
      },
      "execution_count": null,
      "outputs": [
        {
          "output_type": "execute_result",
          "data": {
            "text/plain": [
              "123"
            ]
          },
          "metadata": {},
          "execution_count": 37
        }
      ]
    },
    {
      "cell_type": "code",
      "source": [
        "abs(hash('afffbc')) % 5"
      ],
      "metadata": {
        "colab": {
          "base_uri": "https://localhost:8080/"
        },
        "id": "fUhugn_QV1tH",
        "outputId": "fd00754c-4f28-4095-e9ec-8233856e8b1d"
      },
      "execution_count": null,
      "outputs": [
        {
          "output_type": "execute_result",
          "data": {
            "text/plain": [
              "4"
            ]
          },
          "metadata": {},
          "execution_count": 5
        }
      ]
    },
    {
      "cell_type": "code",
      "source": [
        "hash()"
      ],
      "metadata": {
        "id": "U2v7Yk99XL4U"
      },
      "execution_count": null,
      "outputs": []
    },
    {
      "cell_type": "code",
      "source": [
        "D1 = Dictionary(3)"
      ],
      "metadata": {
        "id": "YGuzweN-tpYb"
      },
      "execution_count": 60,
      "outputs": []
    },
    {
      "cell_type": "code",
      "source": [
        "print(D1.slots)\n",
        "print(D1.data)"
      ],
      "metadata": {
        "colab": {
          "base_uri": "https://localhost:8080/"
        },
        "id": "ibkWM82htz8P",
        "outputId": "d98d4790-e90b-4be0-ab2a-cd9dbb0e1a3d"
      },
      "execution_count": 61,
      "outputs": [
        {
          "output_type": "stream",
          "name": "stdout",
          "text": [
            "[None, None, None]\n",
            "[None, None, None]\n"
          ]
        }
      ]
    },
    {
      "cell_type": "code",
      "source": [
        "D1['pyton'] = 56"
      ],
      "metadata": {
        "id": "xk6_CEp1yxIR"
      },
      "execution_count": 62,
      "outputs": []
    },
    {
      "cell_type": "code",
      "source": [
        "D1['c'] = 45"
      ],
      "metadata": {
        "id": "ggT7JU9LM91x"
      },
      "execution_count": 63,
      "outputs": []
    },
    {
      "cell_type": "code",
      "source": [
        "len(D1)"
      ],
      "metadata": {
        "colab": {
          "base_uri": "https://localhost:8080/"
        },
        "id": "3sH7LUsrcQLZ",
        "outputId": "a2449e72-e3f3-4913-8129-b30a4c971aae"
      },
      "execution_count": 64,
      "outputs": [
        {
          "output_type": "execute_result",
          "data": {
            "text/plain": [
              "2"
            ]
          },
          "metadata": {},
          "execution_count": 64
        }
      ]
    },
    {
      "cell_type": "code",
      "source": [
        "D1.put(\"php\",1000)"
      ],
      "metadata": {
        "id": "wU-sJTnEt9Qr"
      },
      "execution_count": 49,
      "outputs": []
    },
    {
      "cell_type": "code",
      "source": [
        "print(D1)"
      ],
      "metadata": {
        "colab": {
          "base_uri": "https://localhost:8080/"
        },
        "id": "dmtQVdqVRk6j",
        "outputId": "18547fb0-920e-4dd7-cf2b-33d45b7ff763"
      },
      "execution_count": 58,
      "outputs": [
        {
          "output_type": "stream",
          "name": "stdout",
          "text": [
            "pyton : 56 c : 45 \n"
          ]
        }
      ]
    },
    {
      "cell_type": "code",
      "source": [
        "D1[\"php\"]"
      ],
      "metadata": {
        "colab": {
          "base_uri": "https://localhost:8080/"
        },
        "id": "IXC898L3RWAy",
        "outputId": "77a555b6-4d2d-443a-a048-683ac474958c"
      },
      "execution_count": 50,
      "outputs": [
        {
          "output_type": "execute_result",
          "data": {
            "text/plain": [
              "1000"
            ]
          },
          "metadata": {},
          "execution_count": 50
        }
      ]
    },
    {
      "cell_type": "code",
      "source": [
        "D1.get(\"php\")"
      ],
      "metadata": {
        "colab": {
          "base_uri": "https://localhost:8080/",
          "height": 35
        },
        "id": "HjDpRBymMecv",
        "outputId": "9e09e36b-24d3-4ae7-e142-88bf88001349"
      },
      "execution_count": 38,
      "outputs": [
        {
          "output_type": "execute_result",
          "data": {
            "text/plain": [
              "'None ala not found'"
            ],
            "application/vnd.google.colaboratory.intrinsic+json": {
              "type": "string"
            }
          },
          "metadata": {},
          "execution_count": 38
        }
      ]
    }
  ]
}