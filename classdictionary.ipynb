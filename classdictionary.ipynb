{
  "nbformat": 4,
  "nbformat_minor": 0,
  "metadata": {
    "colab": {
      "provenance": [],
      "authorship_tag": "ABX9TyMYyV1mPNmdfI99aaIU+CLP",
      "include_colab_link": true
    },
    "kernelspec": {
      "name": "python3",
      "display_name": "Python 3"
    },
    "language_info": {
      "name": "python"
    }
  },
  "cells": [
    {
      "cell_type": "markdown",
      "metadata": {
        "id": "view-in-github",
        "colab_type": "text"
      },
      "source": [
        "<a href=\"https://colab.research.google.com/github/HimanshuThakre/jup/blob/main/classdictionary.ipynb\" target=\"_parent\"><img src=\"https://colab.research.google.com/assets/colab-badge.svg\" alt=\"Open In Colab\"/></a>"
      ]
    },
    {
      "cell_type": "code",
      "execution_count": 5,
      "metadata": {
        "id": "Ug8oqsmcDgzC"
      },
      "outputs": [],
      "source": [
        "class Dictionary:\n",
        "\n",
        "  def __init__(self,size):\n",
        "    self.size = size\n",
        "    self.slots = [None] * self.size\n",
        "    self.data = [None] * self.size\n",
        "\n",
        "  def put(self, key, value):\n",
        "    pass\n",
        "\n",
        "  def hash_function(self, key):\n",
        "    return abs(hash(key)) % self.size\n",
        "\n",
        "  def rehash(self, old_hash, size):\n",
        "    return (old_hash + 1) % size\n",
        "\n",
        "\n",
        "\n",
        "\n"
      ]
    },
    {
      "cell_type": "code",
      "source": [
        "hash(123)"
      ],
      "metadata": {
        "colab": {
          "base_uri": "https://localhost:8080/"
        },
        "id": "6_dMxYnXVwCt",
        "outputId": "4ab9b69e-aa6c-4cfc-945a-65eae3b2ee35"
      },
      "execution_count": 2,
      "outputs": [
        {
          "output_type": "execute_result",
          "data": {
            "text/plain": [
              "123"
            ]
          },
          "metadata": {},
          "execution_count": 2
        }
      ]
    },
    {
      "cell_type": "code",
      "source": [
        "abs(hash('abc'))"
      ],
      "metadata": {
        "colab": {
          "base_uri": "https://localhost:8080/"
        },
        "id": "fUhugn_QV1tH",
        "outputId": "b8d6aac0-c29f-414f-ba19-9389e4d0a18c"
      },
      "execution_count": 7,
      "outputs": [
        {
          "output_type": "execute_result",
          "data": {
            "text/plain": [
              "4818721927299402279"
            ]
          },
          "metadata": {},
          "execution_count": 7
        }
      ]
    },
    {
      "cell_type": "code",
      "source": [
        "hash()"
      ],
      "metadata": {
        "id": "U2v7Yk99XL4U"
      },
      "execution_count": null,
      "outputs": []
    }
  ]
}