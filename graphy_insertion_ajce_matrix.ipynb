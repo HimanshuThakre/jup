{
  "nbformat": 4,
  "nbformat_minor": 0,
  "metadata": {
    "colab": {
      "provenance": [],
      "authorship_tag": "ABX9TyN6PnwA70LVRGppSDPZruwg",
      "include_colab_link": true
    },
    "kernelspec": {
      "name": "python3",
      "display_name": "Python 3"
    },
    "language_info": {
      "name": "python"
    }
  },
  "cells": [
    {
      "cell_type": "markdown",
      "metadata": {
        "id": "view-in-github",
        "colab_type": "text"
      },
      "source": [
        "<a href=\"https://colab.research.google.com/github/HimanshuThakre/jup/blob/main/graphy_insertion_ajce_matrix.ipynb\" target=\"_parent\"><img src=\"https://colab.research.google.com/assets/colab-badge.svg\" alt=\"Open In Colab\"/></a>"
      ]
    },
    {
      "cell_type": "code",
      "execution_count": 6,
      "metadata": {
        "colab": {
          "base_uri": "https://localhost:8080/"
        },
        "id": "cXXtPwb6rCg9",
        "outputId": "dc52bc0a-2330-49ae-a51f-fb3472f50aac"
      },
      "outputs": [
        {
          "output_type": "stream",
          "name": "stdout",
          "text": [
            "Before adding nodes\n",
            "[]\n",
            "[]\n",
            "After adding nodes\n",
            "['A', 'B', 'C']\n",
            "[[0, 1, 0], [1, 0, 1], [0, 1, 0]]\n",
            "0 1 0 \n",
            "1 0 1 \n",
            "0 1 0 \n"
          ]
        }
      ],
      "source": [
        "#unweight and undirected with ajce matrix\n",
        "def add_node(v):\n",
        "  global node_count\n",
        "  if v in nodes:\n",
        "    print(v,\"is already present in graph.\")\n",
        "  else:\n",
        "    node_count = node_count + 1\n",
        "    nodes.append(v)\n",
        "    for n in graphy:\n",
        "      n.append(0)\n",
        "    temp =[]\n",
        "    for n in range(node_count):\n",
        "      temp.append(0)\n",
        "    graphy.append(temp)\n",
        "\n",
        "def add_edge(v1,v2):\n",
        "  if v1 not in nodes:\n",
        "    print(v1,\"is not present in graph.\")\n",
        "  elif v2 not in nodes:\n",
        "    print(v2,\"is not present in graph.\")\n",
        "  else:\n",
        "    index1 = nodes.index(v1)\n",
        "    index2 = nodes.index(v2)\n",
        "    graphy[index1][index2] = 1\n",
        "    graphy[index2][index1] = 1\n",
        "def print_graph():\n",
        "  for i in range(node_count):\n",
        "    for j in range(node_count):\n",
        "      print(graphy[i][j],end=\" \")\n",
        "    print()\n",
        "\n",
        "\n",
        "nodes = [] # Initialize nodes here\n",
        "graphy = []\n",
        "print(\"Before adding nodes\")\n",
        "print(nodes)\n",
        "print(graphy)\n",
        "node_count = 0 # Initialize node_count here\n",
        "add_node(\"A\")\n",
        "add_node(\"B\")\n",
        "add_node(\"C\")\n",
        "add_edge(\"A\",\"B\")\n",
        "add_edge(\"B\",\"C\")\n",
        "\n",
        "print(\"After adding nodes\")\n",
        "print(nodes)\n",
        "print(graphy)\n",
        "print_graph()"
      ]
    },
    {
      "cell_type": "code",
      "source": [
        "#weight and undirected\n",
        "def add_node(v):\n",
        "  global node_count\n",
        "  if v in nodes:\n",
        "    print(v,\"is already present in graph.\")\n",
        "  else:\n",
        "    node_count = node_count + 1\n",
        "    nodes.append(v)\n",
        "    for n in graphy:\n",
        "      n.append(0)\n",
        "    temp =[]\n",
        "    for n in range(node_count):\n",
        "      temp.append(0)\n",
        "    graphy.append(temp)\n",
        "\n",
        "def add_edge(v1,v2,cost):\n",
        "  if v1 not in nodes:\n",
        "    print(v1,\"is not present in graph.\")\n",
        "  elif v2 not in nodes:\n",
        "    print(v2,\"is not present in graph.\")\n",
        "  else:\n",
        "    index1 = nodes.index(v1)\n",
        "    index2 = nodes.index(v2)\n",
        "    graphy[index1][index2] = cost\n",
        "    graphy[index2][index1] = cost\n",
        "def print_graph():\n",
        "  for i in range(node_count):\n",
        "    for j in range(node_count):\n",
        "      print(format(graphy[i][j],\"<3\"),end=\" \")\n",
        "    print()\n",
        "\n",
        "\n",
        "nodes = [] # Initialize nodes here\n",
        "graphy = []\n",
        "#print(\"Before adding nodes\")\n",
        "#print(nodes)\n",
        "#print(graphy)\n",
        "node_count = 0 # Initialize node_count here\n",
        "add_node(\"A\")\n",
        "add_node(\"B\")\n",
        "add_node(\"C\")\n",
        "add_edge(\"A\",\"B\",10)\n",
        "add_edge(\"B\",\"C\",34)\n",
        "\n",
        "#print(\"After adding nodes\")\n",
        "#print(nodes)\n",
        "print(graphy)\n",
        "print_graph()"
      ],
      "metadata": {
        "colab": {
          "base_uri": "https://localhost:8080/"
        },
        "id": "wlQ_oTUq3UlI",
        "outputId": "12354fcc-c582-4b82-deeb-c4c4646c9d95"
      },
      "execution_count": 9,
      "outputs": [
        {
          "output_type": "stream",
          "name": "stdout",
          "text": [
            "[[0, 10, 0], [10, 0, 34], [0, 34, 0]]\n",
            "0   10  0   \n",
            "10  0   34  \n",
            "0   34  0   \n"
          ]
        }
      ]
    },
    {
      "cell_type": "code",
      "source": [
        "#weight and directed\n",
        "def add_node(v):\n",
        "  global node_count\n",
        "  if v in nodes:\n",
        "    print(v,\"is already present in graph.\")\n",
        "  else:\n",
        "    node_count = node_count + 1\n",
        "    nodes.append(v)\n",
        "    for n in graphy:\n",
        "      n.append(0)\n",
        "    temp =[]\n",
        "    for n in range(node_count):\n",
        "      temp.append(0)\n",
        "    graphy.append(temp)\n",
        "\n",
        "def add_edge(v1,v2,cost):\n",
        "  if v1 not in nodes:\n",
        "    print(v1,\"is not present in graph.\")\n",
        "  elif v2 not in nodes:\n",
        "    print(v2,\"is not present in graph.\")\n",
        "  else:\n",
        "    index1 = nodes.index(v1)\n",
        "    index2 = nodes.index(v2)\n",
        "    graphy[index1][index2] = cost\n",
        "    #graphy[index2][index1] = cost\n",
        "def print_graph():\n",
        "  for i in range(node_count):\n",
        "    for j in range(node_count):\n",
        "      print(format(graphy[i][j],\"<3\"),end=\" \")\n",
        "    print()\n",
        "\n",
        "\n",
        "nodes = [] # Initialize nodes here\n",
        "graphy = []\n",
        "#print(\"Before adding nodes\")\n",
        "#print(nodes)\n",
        "#print(graphy)\n",
        "node_count = 0 # Initialize node_count here\n",
        "add_node(\"A\")\n",
        "add_node(\"B\")\n",
        "add_node(\"C\")\n",
        "add_edge(\"A\",\"B\",10)\n",
        "add_edge(\"B\",\"C\",34)\n",
        "\n",
        "#print(\"After adding nodes\")\n",
        "#print(nodes)\n",
        "print(graphy)\n",
        "print_graph()"
      ],
      "metadata": {
        "colab": {
          "base_uri": "https://localhost:8080/"
        },
        "id": "eH_SWHN5fbbB",
        "outputId": "b637ddc5-d273-4cb3-c20b-e87bbc7a7f93"
      },
      "execution_count": 2,
      "outputs": [
        {
          "output_type": "stream",
          "name": "stdout",
          "text": [
            "[[0, 10, 0], [0, 0, 34], [0, 0, 0]]\n",
            "0   10  0   \n",
            "0   0   34  \n",
            "0   0   0   \n"
          ]
        }
      ]
    },
    {
      "cell_type": "code",
      "source": [
        "#unweight and directed\n",
        "def add_node(v):\n",
        "  global node_count\n",
        "  if v in nodes:\n",
        "    print(v,\"is already present in graph.\")\n",
        "  else:\n",
        "    node_count = node_count + 1\n",
        "    nodes.append(v)\n",
        "    for n in graphy:\n",
        "      n.append(0)\n",
        "    temp =[]\n",
        "    for n in range(node_count):\n",
        "      temp.append(0)\n",
        "    graphy.append(temp)\n",
        "\n",
        "def add_edge(v1,v2):\n",
        "  if v1 not in nodes:\n",
        "    print(v1,\"is not present in graph.\")\n",
        "  elif v2 not in nodes:\n",
        "    print(v2,\"is not present in graph.\")\n",
        "  else:\n",
        "    index1 = nodes.index(v1)\n",
        "    index2 = nodes.index(v2)\n",
        "    graphy[index1][index2] = 1\n",
        "    #graphy[index2][index1] = cost\n",
        "def print_graph():\n",
        "  for i in range(node_count):\n",
        "    for j in range(node_count):\n",
        "      print(format(graphy[i][j],\"<3\"),end=\" \")\n",
        "    print()\n",
        "\n",
        "\n",
        "nodes = [] # Initialize nodes here\n",
        "graphy = []\n",
        "#print(\"Before adding nodes\")\n",
        "#print(nodes)\n",
        "#print(graphy)\n",
        "node_count = 0 # Initialize node_count here\n",
        "add_node(\"A\")\n",
        "add_node(\"B\")\n",
        "add_node(\"C\")\n",
        "add_edge(\"A\",\"B\")\n",
        "add_edge(\"B\",\"C\")\n",
        "\n",
        "#print(\"After adding nodes\")\n",
        "#print(nodes)\n",
        "print(graphy)\n",
        "print_graph()"
      ],
      "metadata": {
        "colab": {
          "base_uri": "https://localhost:8080/"
        },
        "id": "c2skiVg9kgId",
        "outputId": "819c5a38-f642-4412-8d28-e36949b3378e"
      },
      "execution_count": 4,
      "outputs": [
        {
          "output_type": "stream",
          "name": "stdout",
          "text": [
            "[[0, 1, 0], [0, 0, 1], [0, 0, 0]]\n",
            "0   1   0   \n",
            "0   0   1   \n",
            "0   0   0   \n"
          ]
        }
      ]
    },
    {
      "cell_type": "code",
      "source": [],
      "metadata": {
        "id": "d0tIaLOCptEa"
      },
      "execution_count": null,
      "outputs": []
    }
  ]
}