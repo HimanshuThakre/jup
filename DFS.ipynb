{
  "nbformat": 4,
  "nbformat_minor": 0,
  "metadata": {
    "colab": {
      "provenance": [],
      "authorship_tag": "ABX9TyO+uHhlUpjHj06wCaULglIh",
      "include_colab_link": true
    },
    "kernelspec": {
      "name": "python3",
      "display_name": "Python 3"
    },
    "language_info": {
      "name": "python"
    }
  },
  "cells": [
    {
      "cell_type": "markdown",
      "metadata": {
        "id": "view-in-github",
        "colab_type": "text"
      },
      "source": [
        "<a href=\"https://colab.research.google.com/github/HimanshuThakre/jup/blob/main/DFS.ipynb\" target=\"_parent\"><img src=\"https://colab.research.google.com/assets/colab-badge.svg\" alt=\"Open In Colab\"/></a>"
      ]
    },
    {
      "cell_type": "code",
      "execution_count": 3,
      "metadata": {
        "colab": {
          "base_uri": "https://localhost:8080/"
        },
        "id": "yjYw303EA48O",
        "outputId": "1a5b26c8-3dda-498d-e0f3-ebc2576fc720"
      },
      "outputs": [
        {
          "output_type": "stream",
          "name": "stdout",
          "text": [
            "A\n",
            "B\n",
            "E\n",
            "C\n",
            "D\n"
          ]
        }
      ],
      "source": [
        "graph={\n",
        "    'A': ['B', 'C', 'D'], 'B': ['E'], 'C': ['D', 'E'], 'D':[], 'E': []\n",
        "}\n",
        "visited = set()\n",
        "\n",
        "def dfs(visited, graph, root):\n",
        "\n",
        "  if root not in visited:\n",
        "    print(root)\n",
        "    visited.add(root)\n",
        "    for neighbor in graph[root]:\n",
        "      dfs(visited, graph, neighbor)\n",
        "\n",
        "dfs(visited,graph, 'A')"
      ]
    }
  ]
}