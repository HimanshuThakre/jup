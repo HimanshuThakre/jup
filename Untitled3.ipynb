{
  "nbformat": 4,
  "nbformat_minor": 0,
  "metadata": {
    "colab": {
      "provenance": [],
      "authorship_tag": "ABX9TyPE+qcGO7iHedTvmhW5Wnxj",
      "include_colab_link": true
    },
    "kernelspec": {
      "name": "python3",
      "display_name": "Python 3"
    },
    "language_info": {
      "name": "python"
    }
  },
  "cells": [
    {
      "cell_type": "markdown",
      "metadata": {
        "id": "view-in-github",
        "colab_type": "text"
      },
      "source": [
        "<a href=\"https://colab.research.google.com/github/HimanshuThakre/jup/blob/main/Untitled3.ipynb\" target=\"_parent\"><img src=\"https://colab.research.google.com/assets/colab-badge.svg\" alt=\"Open In Colab\"/></a>"
      ]
    },
    {
      "cell_type": "code",
      "execution_count": null,
      "metadata": {
        "id": "5jGTbnzqsJqR"
      },
      "outputs": [],
      "source": [
        "#class of node\n",
        "class Node:\n",
        "\n",
        "  def __init__(self,value):\n",
        "    self.data = value\n",
        "    self.next = None\n"
      ]
    },
    {
      "cell_type": "code",
      "source": [
        "a = Node(1)\n",
        "b = Node(2)\n",
        "c = Node(3)"
      ],
      "metadata": {
        "id": "gBOzb8dpvT_t"
      },
      "execution_count": null,
      "outputs": []
    },
    {
      "cell_type": "code",
      "source": [
        "print(c.data)"
      ],
      "metadata": {
        "colab": {
          "base_uri": "https://localhost:8080/"
        },
        "id": "muwugt1HvbDP",
        "outputId": "e6024c13-314a-4319-9bf3-841fa579ac48"
      },
      "execution_count": null,
      "outputs": [
        {
          "output_type": "stream",
          "name": "stdout",
          "text": [
            "3\n"
          ]
        }
      ]
    },
    {
      "cell_type": "code",
      "source": [
        "a.next = b\n",
        "b.next = c"
      ],
      "metadata": {
        "id": "Penbj7_qwY_1"
      },
      "execution_count": null,
      "outputs": []
    },
    {
      "cell_type": "code",
      "source": [
        "print(b.next)"
      ],
      "metadata": {
        "colab": {
          "base_uri": "https://localhost:8080/"
        },
        "id": "A9JnJ4-NwZmV",
        "outputId": "f0bb4df2-53bf-4974-ad05-25e18b12500c"
      },
      "execution_count": null,
      "outputs": [
        {
          "output_type": "stream",
          "name": "stdout",
          "text": [
            "<__main__.Node object at 0x79bf5deee390>\n"
          ]
        }
      ]
    },
    {
      "cell_type": "code",
      "source": [
        "int( 0x79bf5deee390)"
      ],
      "metadata": {
        "colab": {
          "base_uri": "https://localhost:8080/"
        },
        "id": "TGFiqIv7xRq7",
        "outputId": "d3c3842e-e32f-478a-8c4f-4a55af3c8993"
      },
      "execution_count": null,
      "outputs": [
        {
          "output_type": "execute_result",
          "data": {
            "text/plain": [
              "133862821651344"
            ]
          },
          "metadata": {},
          "execution_count": 36
        }
      ]
    },
    {
      "cell_type": "code",
      "source": [
        "id(c)"
      ],
      "metadata": {
        "colab": {
          "base_uri": "https://localhost:8080/"
        },
        "id": "kMqWHbSlxjyd",
        "outputId": "785812f7-14d1-4b10-ba93-793933ba4192"
      },
      "execution_count": null,
      "outputs": [
        {
          "output_type": "execute_result",
          "data": {
            "text/plain": [
              "133862821651344"
            ]
          },
          "metadata": {},
          "execution_count": 38
        }
      ]
    },
    {
      "cell_type": "code",
      "source": [
        "a.next = b\n",
        "b.next = c"
      ],
      "metadata": {
        "id": "hr3l5nrnyK2f"
      },
      "execution_count": null,
      "outputs": []
    },
    {
      "cell_type": "code",
      "source": [
        "class Node:\n",
        "\n",
        "  def __init__(self,value):\n",
        "    self.data = value\n",
        "    self.next = None\n"
      ],
      "metadata": {
        "id": "-bZZ3SoEyL4u"
      },
      "execution_count": 1,
      "outputs": []
    },
    {
      "cell_type": "code",
      "source": [
        "class linkedlist:\n",
        "\n",
        "  def __init__(self):\n",
        "    #Emet linked list\n",
        "    self.head = None\n",
        "    # no of nodes in the ll\n",
        "    self.n = 0\n",
        "\n",
        "  def __len__(self):\n",
        "    return self.n\n",
        "\n",
        "  def insert_head(self,value):\n",
        "    #create a new node\n",
        "\n",
        "    new_node = Node(value)\n",
        "    #create connection\n",
        "\n",
        "    new_node.next = self.head\n",
        "    #reassing head\n",
        "\n",
        "    self.head = new_node\n",
        "    #incremen no of nodes\n",
        "\n",
        "    self.n = self.n + 1\n",
        "\n",
        "  def traverse(self):\n",
        "    curr = self.head\n",
        "    while curr != None:\n",
        "      print(curr.data)\n",
        "      curr = curr.next\n",
        "\n",
        "  def __str__(self):\n",
        "\n",
        "      curr = self.head\n",
        "      result = ''\n",
        "      while curr != None:\n",
        "        result = result + str(curr.data) + '->'\n",
        "        curr = curr.next\n",
        "\n",
        "      return result[:-2]\n",
        "\n",
        "\n",
        "  def append(self,value):\n",
        "\n",
        "    new_node = Node(value)\n",
        "\n",
        "#empty\n",
        "    if self.head == None:\n",
        "      self.head = new_node\n",
        "      self.n = self.n + 1\n",
        "      return\n",
        "\n",
        "\n",
        "\n",
        "    curr = self.head\n",
        "\n",
        "    while curr.next != None:\n",
        "      curr = curr.next\n",
        "\n",
        "     #last node\n",
        "    curr.next = new_node\n",
        "    self.n = self.n + 1\n",
        "\n",
        "  def insert_after(self,after,value):\n",
        "\n",
        "    new_node = Node(value)\n",
        "\n",
        "    curr = self.head\n",
        "\n",
        "    while curr != None:\n",
        "      if curr.data == after:\n",
        "        break\n",
        "      curr = curr.next\n",
        "\n",
        "\n",
        "\n",
        "    #case 1 break -> item apko mil gaya -> curr -> not none\n",
        "    if curr != None:\n",
        "      #logic\n",
        "      new_node.next = curr.next\n",
        "      curr.next = new_node\n",
        "      self.n = self.n + 1\n",
        "    else:\n",
        "      return 'Item not found'\n",
        "    #case 2 loop pura chala -> item nai mila -> None\n",
        "  def clear(self):\n",
        "    self.head=None\n",
        "    self.n =0\n",
        "\n",
        "  def delete_head(self):\n",
        "    #emty\n",
        "\n",
        "    if self.head == None:\n",
        "      return 'Empty'\n",
        "\n",
        "    #not empty\n",
        "    self.head = self.head.next\n",
        "    self.n = self.n - 1\n",
        "\n",
        "  def pop(self):\n",
        "      #empty\n",
        "      if self.head == None:\n",
        "          return 'Empty'\n",
        "      curr = self.head\n",
        "      #single node\n",
        "      if curr.next == None:\n",
        "\n",
        "          return self.delete_head()\n",
        "\n",
        "\n",
        "\n",
        "      while curr.next.next != None:\n",
        "          curr = curr.next\n",
        "\n",
        "      # curr is the second last node\n",
        "      curr.next = None\n",
        "      self.n = self.n - 1\n",
        "\n",
        "  def remove(self,value):\n",
        "    #empty\n",
        "    if self.head == None:\n",
        "      return 'Empty'\n",
        "\n",
        "    if self.head.data == value:\n",
        "      # you want to remove the Head node\n",
        "      return self.delete_head()\n",
        "\n",
        "    curr = self.head\n",
        "\n",
        "    while curr.next != None:\n",
        "      if curr.next.data == value:\n",
        "        break\n",
        "      curr = curr.next\n",
        "    # 2 case item mil gaya\n",
        "    #Ite nia milam\n",
        "    if curr.next != None:\n",
        "      curr.next = curr.next.next\n",
        "      self.n = self.n - 1\n",
        "    else:\n",
        "      return 'Item not found'\n",
        "\n",
        "  def search(self,item):\n",
        "    curr = self.head\n",
        "    pos = 0\n",
        "    while curr != None:\n",
        "      if curr.data == item:\n",
        "        return pos\n",
        "      pos = pos + 1\n",
        "      curr = curr.next\n",
        "    return 'Item not found'\n",
        "\n",
        "  def __getitem__(self,index):\n",
        "    curr = self.head\n",
        "    pos = 0\n",
        "    while curr != None:\n",
        "      if pos == index:\n",
        "        return curr.data\n",
        "      pos = pos + 1\n",
        "      curr = curr.next\n",
        "    return 'Item not found'\n",
        "\n",
        "  def replace_max(self,value):\n",
        "\n",
        "    temp = self.head\n",
        "    max = temp\n",
        "\n",
        "    while temp != None:\n",
        "      if temp.data > max.data:\n",
        "        max = temp\n",
        "      temp = temp.next\n",
        "\n",
        "    max.data = value\n",
        "\n",
        "#sum of odd node\n",
        "  def sum_odd_nodes(self):\n",
        "\n",
        "    curr = self.head\n",
        "    counter = 0\n",
        "    result = 0\n",
        "\n",
        "    while curr != None:\n",
        "\n",
        "      if counter %2 != 0:\n",
        "        result = result + curr.data\n",
        "\n",
        "      counter +=1\n",
        "      curr = curr.next\n",
        "\n",
        "    print(result)\n",
        "\n",
        "  #write a python program to reverse a linked list containing integer data\n",
        "  def reverse(self):\n",
        "\n",
        "    prev_node = None\n",
        "    curr_node = self.head\n",
        "\n",
        "    while curr_node != None:\n",
        "      next_node = curr_node.next\n",
        "      curr_node.next = prev_node\n",
        "      prev_node = curr_node\n",
        "      curr_node = next_node\n",
        "      next_node = curr_node.next\n",
        "\n",
        "\n",
        "\n",
        "\n",
        "\n",
        "\n",
        "\n"
      ],
      "metadata": {
        "id": "FfLSz0pRzZ-F"
      },
      "execution_count": 19,
      "outputs": []
    },
    {
      "cell_type": "code",
      "source": [
        "L = linkedlist()"
      ],
      "metadata": {
        "id": "W5qMQ7GX7MFW"
      },
      "execution_count": 20,
      "outputs": []
    },
    {
      "cell_type": "code",
      "source": [
        "L.insert_head(1)\n",
        "L.insert_head(2)\n",
        "L.insert_head(3)\n",
        "L.insert_head(4)\n",
        "L.insert_head(5)"
      ],
      "metadata": {
        "id": "dbBlrkTtRBui"
      },
      "execution_count": 21,
      "outputs": []
    },
    {
      "cell_type": "code",
      "source": [
        "L.traverse()"
      ],
      "metadata": {
        "id": "FeekKIaCF-ae",
        "outputId": "0c79d509-480e-4ed4-b730-e7f33bb48059",
        "colab": {
          "base_uri": "https://localhost:8080/"
        }
      },
      "execution_count": 22,
      "outputs": [
        {
          "output_type": "stream",
          "name": "stdout",
          "text": [
            "5\n",
            "4\n",
            "3\n",
            "2\n",
            "1\n"
          ]
        }
      ]
    },
    {
      "cell_type": "code",
      "source": [
        "L.sum_odd_nodes()"
      ],
      "metadata": {
        "id": "OnrC2iEtP6-h",
        "outputId": "d8006d27-a91f-4d9f-ca5f-fc20fc06d3e7",
        "colab": {
          "base_uri": "https://localhost:8080/"
        }
      },
      "execution_count": 23,
      "outputs": [
        {
          "output_type": "stream",
          "name": "stdout",
          "text": [
            "6\n"
          ]
        }
      ]
    },
    {
      "cell_type": "code",
      "source": [
        "print(L)"
      ],
      "metadata": {
        "colab": {
          "base_uri": "https://localhost:8080/"
        },
        "id": "MvJj1dVjfQmX",
        "outputId": "67d02b90-eb11-4c0f-f668-6755c66e8a63"
      },
      "execution_count": null,
      "outputs": [
        {
          "output_type": "stream",
          "name": "stdout",
          "text": [
            "17->4->3->2->1\n"
          ]
        }
      ]
    },
    {
      "cell_type": "code",
      "source": [
        "L.replace_max(17)"
      ],
      "metadata": {
        "id": "Y1ScrqoPIrUI"
      },
      "execution_count": null,
      "outputs": []
    },
    {
      "cell_type": "code",
      "source": [
        "L[29]"
      ],
      "metadata": {
        "colab": {
          "base_uri": "https://localhost:8080/",
          "height": 36
        },
        "id": "h8He17TLAZSY",
        "outputId": "aae678f2-e8dd-429d-9ed8-25059349f7bf"
      },
      "execution_count": null,
      "outputs": [
        {
          "output_type": "execute_result",
          "data": {
            "text/plain": [
              "'Item not found'"
            ],
            "application/vnd.google.colaboratory.intrinsic+json": {
              "type": "string"
            }
          },
          "metadata": {},
          "execution_count": 53
        }
      ]
    },
    {
      "cell_type": "code",
      "source": [
        "L.search(1)"
      ],
      "metadata": {
        "colab": {
          "base_uri": "https://localhost:8080/"
        },
        "id": "Cd2d_LqaAW1d",
        "outputId": "3ca14ce0-99ff-4d1c-f375-b70968b5bd34"
      },
      "execution_count": null,
      "outputs": [
        {
          "output_type": "execute_result",
          "data": {
            "text/plain": [
              "2"
            ]
          },
          "metadata": {},
          "execution_count": 39
        }
      ]
    },
    {
      "cell_type": "code",
      "source": [
        "L.replace_max"
      ],
      "metadata": {
        "id": "_QVQ7QJCq4Le"
      },
      "execution_count": null,
      "outputs": []
    },
    {
      "cell_type": "code",
      "source": [
        "L.pop()"
      ],
      "metadata": {
        "id": "GpHdm0LSHLXx"
      },
      "execution_count": null,
      "outputs": []
    },
    {
      "cell_type": "code",
      "source": [
        "L.remove (5)"
      ],
      "metadata": {
        "id": "0e77merl6sdF"
      },
      "execution_count": null,
      "outputs": []
    },
    {
      "cell_type": "code",
      "source": [
        "L.delete_head()"
      ],
      "metadata": {
        "id": "PR1igTO_C4Qv"
      },
      "execution_count": null,
      "outputs": []
    },
    {
      "cell_type": "code",
      "source": [
        "L.append(5)"
      ],
      "metadata": {
        "id": "Gsrx--GPzZ3t"
      },
      "execution_count": null,
      "outputs": []
    },
    {
      "cell_type": "code",
      "source": [
        "L.insert_after(2,200)"
      ],
      "metadata": {
        "id": "5ERf-8BlYKRW"
      },
      "execution_count": null,
      "outputs": []
    },
    {
      "cell_type": "markdown",
      "source": [],
      "metadata": {
        "id": "mNY0OCRvOu2Z"
      }
    },
    {
      "cell_type": "code",
      "source": [
        "L.clear()"
      ],
      "metadata": {
        "id": "2fbkEYVMzZSE"
      },
      "execution_count": null,
      "outputs": []
    },
    {
      "cell_type": "code",
      "source": [
        "def fun(head):\n",
        "  if(head==None):\n",
        "    return\n",
        "  if head.next.next!= None:\n",
        "    print(head.data,\"\",end='')\n",
        "    fun(head.next)\n",
        "  print(head.data,\"\",end='')\n"
      ],
      "metadata": {
        "id": "3ulqveNaVcPq"
      },
      "execution_count": null,
      "outputs": []
    },
    {
      "cell_type": "code",
      "metadata": {
        "id": "8e20888b",
        "outputId": "096cbe93-b1ce-4720-efe2-15a2d5618da5",
        "colab": {
          "base_uri": "https://localhost:8080/"
        }
      },
      "source": [
        "print(L)"
      ],
      "execution_count": null,
      "outputs": [
        {
          "output_type": "stream",
          "name": "stdout",
          "text": [
            "5->4->3->2->1\n"
          ]
        }
      ]
    },
    {
      "cell_type": "code",
      "source": [],
      "metadata": {
        "id": "rv6oeMgSFwJe",
        "outputId": "36e97cb2-88e4-4068-bc11-99867c116d7b",
        "colab": {
          "base_uri": "https://localhost:8080/",
          "height": 145
        }
      },
      "execution_count": null,
      "outputs": [
        {
          "output_type": "error",
          "ename": "NameError",
          "evalue": "name 'LL' is not defined",
          "traceback": [
            "\u001b[0;31m---------------------------------------------------------------------------\u001b[0m",
            "\u001b[0;31mNameError\u001b[0m                                 Traceback (most recent call last)",
            "\u001b[0;32m/tmp/ipython-input-7-2133310242.py\u001b[0m in \u001b[0;36m<cell line: 0>\u001b[0;34m()\u001b[0m\n\u001b[0;32m----> 1\u001b[0;31m \u001b[0mL\u001b[0m \u001b[0;34m=\u001b[0m \u001b[0mLL\u001b[0m\u001b[0;34m(\u001b[0m\u001b[0;34m)\u001b[0m\u001b[0;34m\u001b[0m\u001b[0;34m\u001b[0m\u001b[0m\n\u001b[0m",
            "\u001b[0;31mNameError\u001b[0m: name 'LL' is not defined"
          ]
        }
      ]
    }
  ]
}