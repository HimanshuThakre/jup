{
  "nbformat": 4,
  "nbformat_minor": 0,
  "metadata": {
    "colab": {
      "provenance": [],
      "authorship_tag": "ABX9TyMPmTQYLVGZrsKM/6sAbSQE",
      "include_colab_link": true
    },
    "kernelspec": {
      "name": "python3",
      "display_name": "Python 3"
    },
    "language_info": {
      "name": "python"
    }
  },
  "cells": [
    {
      "cell_type": "markdown",
      "metadata": {
        "id": "view-in-github",
        "colab_type": "text"
      },
      "source": [
        "<a href=\"https://colab.research.google.com/github/HimanshuThakre/jup/blob/main/Untitled3.ipynb\" target=\"_parent\"><img src=\"https://colab.research.google.com/assets/colab-badge.svg\" alt=\"Open In Colab\"/></a>"
      ]
    },
    {
      "cell_type": "code",
      "execution_count": null,
      "metadata": {
        "id": "5jGTbnzqsJqR"
      },
      "outputs": [],
      "source": [
        "#class of node\n",
        "class Node:\n",
        "\n",
        "  def __init__(self,value):\n",
        "    self.data = value\n",
        "    self.next = None\n"
      ]
    },
    {
      "cell_type": "code",
      "source": [
        "a = Node(1)\n",
        "b = Node(2)\n",
        "c = Node(3)"
      ],
      "metadata": {
        "id": "gBOzb8dpvT_t"
      },
      "execution_count": null,
      "outputs": []
    },
    {
      "cell_type": "code",
      "source": [
        "print(c.data)"
      ],
      "metadata": {
        "colab": {
          "base_uri": "https://localhost:8080/"
        },
        "id": "muwugt1HvbDP",
        "outputId": "e6024c13-314a-4319-9bf3-841fa579ac48"
      },
      "execution_count": null,
      "outputs": [
        {
          "output_type": "stream",
          "name": "stdout",
          "text": [
            "3\n"
          ]
        }
      ]
    },
    {
      "cell_type": "code",
      "source": [
        "a.next = b\n",
        "b.next = c"
      ],
      "metadata": {
        "id": "Penbj7_qwY_1"
      },
      "execution_count": null,
      "outputs": []
    },
    {
      "cell_type": "code",
      "source": [
        "print(b.next)"
      ],
      "metadata": {
        "colab": {
          "base_uri": "https://localhost:8080/"
        },
        "id": "A9JnJ4-NwZmV",
        "outputId": "f0bb4df2-53bf-4974-ad05-25e18b12500c"
      },
      "execution_count": null,
      "outputs": [
        {
          "output_type": "stream",
          "name": "stdout",
          "text": [
            "<__main__.Node object at 0x79bf5deee390>\n"
          ]
        }
      ]
    },
    {
      "cell_type": "code",
      "source": [
        "int( 0x79bf5deee390)"
      ],
      "metadata": {
        "colab": {
          "base_uri": "https://localhost:8080/"
        },
        "id": "TGFiqIv7xRq7",
        "outputId": "d3c3842e-e32f-478a-8c4f-4a55af3c8993"
      },
      "execution_count": null,
      "outputs": [
        {
          "output_type": "execute_result",
          "data": {
            "text/plain": [
              "133862821651344"
            ]
          },
          "metadata": {},
          "execution_count": 36
        }
      ]
    },
    {
      "cell_type": "code",
      "source": [
        "id(c)"
      ],
      "metadata": {
        "colab": {
          "base_uri": "https://localhost:8080/"
        },
        "id": "kMqWHbSlxjyd",
        "outputId": "785812f7-14d1-4b10-ba93-793933ba4192"
      },
      "execution_count": null,
      "outputs": [
        {
          "output_type": "execute_result",
          "data": {
            "text/plain": [
              "133862821651344"
            ]
          },
          "metadata": {},
          "execution_count": 38
        }
      ]
    },
    {
      "cell_type": "code",
      "source": [
        "a.next = b\n",
        "b.next = c"
      ],
      "metadata": {
        "id": "hr3l5nrnyK2f"
      },
      "execution_count": null,
      "outputs": []
    },
    {
      "cell_type": "code",
      "source": [
        "class Node:\n",
        "\n",
        "  def __init__(self,value):\n",
        "    self.data = value\n",
        "    self.next = None\n"
      ],
      "metadata": {
        "id": "-bZZ3SoEyL4u"
      },
      "execution_count": 2,
      "outputs": []
    },
    {
      "cell_type": "code",
      "source": [
        "class linkedlist:\n",
        "\n",
        "  def __init__(self):\n",
        "    #Emet linked list\n",
        "    self.head = None\n",
        "    # no of nodes in the ll\n",
        "    self.n = 0\n",
        "\n",
        "  def __len__(self):\n",
        "    return self.n\n",
        "\n",
        "  def insert_head(self,value):\n",
        "    #create a new node\n",
        "\n",
        "    new_node = Node(value)\n",
        "    #create connection\n",
        "\n",
        "    new_node.next = self.head\n",
        "    #reassing head\n",
        "\n",
        "    self.head = new_node\n",
        "    #increment no of nodes\n",
        "\n",
        "    self.n = self.n + 1\n",
        "\n",
        "  def __str__(self):\n",
        "\n",
        "      curr = self.head\n",
        "      result = ''\n",
        "      while curr != None:\n",
        "        result = result + str(curr.data) + '->'\n",
        "        curr = curr.next\n",
        "\n",
        "      return result[:-2]\n",
        "\n",
        "\n",
        "  def append(self,value):\n",
        "\n",
        "    new_node = Node(value)\n",
        "\n",
        "#empty\n",
        "    if self.head == None:\n",
        "      self.head = new_node\n",
        "      self.n = self.n + 1\n",
        "      return\n",
        "\n",
        "\n",
        "\n",
        "    curr = self.head\n",
        "\n",
        "    while curr.next != None:\n",
        "      curr = curr.next\n",
        "\n",
        "     #last node\n",
        "    curr.next = new_node\n",
        "    self.n = self.n + 1\n",
        "\n",
        "  def insert_after(self,after,value):\n",
        "\n",
        "    new_node = Node(value)\n",
        "\n",
        "    curr = self.head\n",
        "\n",
        "    while curr != None:\n",
        "      if curr.data == after:\n",
        "        break\n",
        "      curr = curr.next\n",
        "\n",
        "\n",
        "\n",
        "    #case 1 break -> item apko mil gaya -> curr -> not none\n",
        "    if curr != None:\n",
        "      #logic\n",
        "      new_node.next = curr.next\n",
        "      curr.next = new_node\n",
        "      self.n = self.n + 1\n",
        "    else:\n",
        "      return 'Item not found'\n",
        "    #case 2 loop pura chala -> item nai mila -> None\n",
        "  def clear(self):\n",
        "    self.head=None\n",
        "    self.n =0\n",
        "\n",
        "  def delete_head(self):\n",
        "    #emty\n",
        "\n",
        "    if self.head == None:\n",
        "      return 'Empty'\n",
        "\n",
        "    #not empty\n",
        "    self.head = self.head.next\n",
        "    self.n = self.n - 1\n",
        "\n",
        "  def pop(self):\n",
        "      #empty\n",
        "      if self.head == None:\n",
        "          return 'Empty'\n",
        "      curr = self.head\n",
        "      #single node\n",
        "      if curr.next == None:\n",
        "\n",
        "          return self.delete_head()\n",
        "\n",
        "\n",
        "\n",
        "      while curr.next.next != None:\n",
        "          curr = curr.next\n",
        "\n",
        "      # curr is the second last node\n",
        "      curr.next = None\n",
        "      self.n = self.n - 1\n",
        "\n",
        "  def remove(self,value):\n",
        "\n",
        "    curr = self.head\n",
        "\n"
      ],
      "metadata": {
        "id": "FfLSz0pRzZ-F"
      },
      "execution_count": 15,
      "outputs": []
    },
    {
      "cell_type": "code",
      "source": [
        "L = linkedlist()"
      ],
      "metadata": {
        "id": "W5qMQ7GX7MFW"
      },
      "execution_count": 16,
      "outputs": []
    },
    {
      "cell_type": "code",
      "source": [
        "L.insert_head(1)\n",
        "L.insert_head(2)\n",
        "L.insert_head(3)"
      ],
      "metadata": {
        "id": "dbBlrkTtRBui"
      },
      "execution_count": 17,
      "outputs": []
    },
    {
      "cell_type": "code",
      "source": [
        "print(L)"
      ],
      "metadata": {
        "colab": {
          "base_uri": "https://localhost:8080/"
        },
        "id": "MvJj1dVjfQmX",
        "outputId": "7b617ff7-df64-4850-d3dd-bdc1e7480dfb"
      },
      "execution_count": 20,
      "outputs": [
        {
          "output_type": "stream",
          "name": "stdout",
          "text": [
            "3->2\n"
          ]
        }
      ]
    },
    {
      "cell_type": "code",
      "source": [
        "L.pop()"
      ],
      "metadata": {
        "id": "GpHdm0LSHLXx"
      },
      "execution_count": 19,
      "outputs": []
    },
    {
      "cell_type": "code",
      "source": [
        "L.delete_head()"
      ],
      "metadata": {
        "id": "PR1igTO_C4Qv"
      },
      "execution_count": null,
      "outputs": []
    },
    {
      "cell_type": "code",
      "source": [
        "L.append(5)"
      ],
      "metadata": {
        "id": "Gsrx--GPzZ3t"
      },
      "execution_count": null,
      "outputs": []
    },
    {
      "cell_type": "code",
      "source": [
        "L.insert_after(2,200)"
      ],
      "metadata": {
        "id": "5ERf-8BlYKRW",
        "colab": {
          "base_uri": "https://localhost:8080/",
          "height": 109
        },
        "outputId": "5925035e-4290-434b-fdcf-073570252135"
      },
      "execution_count": null,
      "outputs": [
        {
          "output_type": "error",
          "ename": "SyntaxError",
          "evalue": "invalid syntax (ipython-input-58-1883070243.py, line 1)",
          "traceback": [
            "\u001b[0;36m  File \u001b[0;32m\"/tmp/ipython-input-58-1883070243.py\"\u001b[0;36m, line \u001b[0;32m1\u001b[0m\n\u001b[0;31m    L.insert_after(,200)\u001b[0m\n\u001b[0m                   ^\u001b[0m\n\u001b[0;31mSyntaxError\u001b[0m\u001b[0;31m:\u001b[0m invalid syntax\n"
          ]
        }
      ]
    },
    {
      "cell_type": "markdown",
      "source": [],
      "metadata": {
        "id": "mNY0OCRvOu2Z"
      }
    },
    {
      "cell_type": "code",
      "source": [
        "L.clear()"
      ],
      "metadata": {
        "id": "2fbkEYVMzZSE"
      },
      "execution_count": null,
      "outputs": []
    }
  ]
}