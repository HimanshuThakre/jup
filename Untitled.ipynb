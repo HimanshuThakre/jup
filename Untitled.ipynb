{
  "nbformat": 4,
  "nbformat_minor": 0,
  "metadata": {
    "colab": {
      "provenance": [],
      "authorship_tag": "ABX9TyNlZGENrXXnqF+n9W1ZICND",
      "include_colab_link": true
    },
    "kernelspec": {
      "name": "python3",
      "display_name": "Python 3"
    },
    "language_info": {
      "name": "python"
    }
  },
  "cells": [
    {
      "cell_type": "markdown",
      "metadata": {
        "id": "view-in-github",
        "colab_type": "text"
      },
      "source": [
        "<a href=\"https://colab.research.google.com/github/HimanshuThakre/jup/blob/main/Untitled.ipynb\" target=\"_parent\"><img src=\"https://colab.research.google.com/assets/colab-badge.svg\" alt=\"Open In Colab\"/></a>"
      ]
    },
    {
      "cell_type": "code",
      "execution_count": null,
      "metadata": {
        "id": "gKz5mYcL4Nr4"
      },
      "outputs": [],
      "source": [
        "def add_node(v):\n",
        "  global node_count\n",
        "  if v in nodes:\n",
        "    print(v,\"is already present in graph.\")\n",
        "  else:\n",
        "    node_count = node_count + 1\n",
        "    nodes.append(v)\n",
        "    for n in graphy:\n",
        "      n.append(0)\n",
        "    temp =[]\n",
        "    for n in range(node_count):\n",
        "      temp.append(0)\n",
        "    graphy.append(temp)\n",
        "\n",
        "def add_edge(v1,v2):\n",
        "  if v1 not in nodes:\n",
        "    print(v1,\"is not present in graph.\")\n",
        "  elif v2 not in nodes:\n",
        "    print(v2,\"is not present in graph.\")\n",
        "  else:\n",
        "    index1 = nodes.index(v1)\n",
        "    index2 = nodes.index(v2)\n",
        "    graphy[index1][index2] = 1\n",
        "    graphy[index2][index1] = 1\n",
        "\n",
        "def delete_node(v):\n",
        "  if v not in nodes:\n",
        "    print(v,\"is not present in graph.\")\n",
        "  else:\n",
        "    index1 = nodes.index(v)\n",
        "    node_count = node_count - 1\n",
        "    nodes.remove(v)\n",
        "    graphy.pop(index1)\n",
        "    for i in graphy:\n",
        "      i.pop(index1)\n",
        "\n",
        "def print_graph():\n",
        "  for i in range(node_count):\n",
        "    for j in range(node_count):\n",
        "      print(graphy[i][j],end=\" \")\n",
        "    print()\n",
        "\n",
        "\n",
        "#nodes = [] # Initialize nodes here\n",
        "graphy = []\n",
        "# #print(\"Before adding nodes\")\n",
        "# print(nodes)\n",
        "# print(graphy)\n",
        "node_count = 0 # Initialize node_count here\n",
        "add_node(\"A\")\n",
        "add_node(\"B\")\n",
        "add_node(\"C\")\n",
        "add_edge(\"A\",\"B\")\n",
        "add_edge(\"B\",\"C\")\n",
        "\n",
        "#print(\"After adding nodes\")\n",
        "print(nodes)\n",
        "print(graphy)\n",
        "print_graph()"
      ]
    }
  ]
}