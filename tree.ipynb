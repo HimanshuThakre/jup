{
  "nbformat": 4,
  "nbformat_minor": 0,
  "metadata": {
    "colab": {
      "provenance": [],
      "authorship_tag": "ABX9TyNE+AUmE3OOqZu65vipJ30p",
      "include_colab_link": true
    },
    "kernelspec": {
      "name": "python3",
      "display_name": "Python 3"
    },
    "language_info": {
      "name": "python"
    }
  },
  "cells": [
    {
      "cell_type": "markdown",
      "metadata": {
        "id": "view-in-github",
        "colab_type": "text"
      },
      "source": [
        "<a href=\"https://colab.research.google.com/github/HimanshuThakre/jup/blob/main/tree.ipynb\" target=\"_parent\"><img src=\"https://colab.research.google.com/assets/colab-badge.svg\" alt=\"Open In Colab\"/></a>"
      ]
    },
    {
      "cell_type": "code",
      "execution_count": 74,
      "metadata": {
        "id": "1pMkQGj7-fWs"
      },
      "outputs": [],
      "source": [
        "\n",
        "class bst:\n",
        "\n",
        "  def __init__(self,key):\n",
        "    self.key = key #create node (key)\n",
        "    self.lchild = None #left child\n",
        "    self.rchild = None #right child\n",
        "\n",
        "  def insert(self,data):\n",
        "    if self.key is None:\n",
        "      self.key = data# if root node is none\n",
        "      return\n",
        "    if self.key == data:# igore duplicate value\n",
        "      return\n",
        "    if self.key > data:\n",
        "      if self.lchild: # it means root have left  child not none\n",
        "        self.lchild.insert(data)\n",
        "      else:\n",
        "        self.lchild = bst(data)#it means root or node have right chlid none\n",
        "        #creating a new node means creating an object\n",
        "    else:\n",
        "      if self.rchild:# it means root have right child not none\n",
        "        self.rchild.insert(data)\n",
        "      else:\n",
        "        self.rchild = bst(data)#it means root or node have right chlid none\n",
        "        #creating a new node means creating an object\n",
        "\n",
        "  def search(self,data):\n",
        "    if self.key == data:#1st key = data\n",
        "      print(\"Node is found\")\n",
        "      return\n",
        "    if data < self.key:\n",
        "      if self.lchild:\n",
        "        self.lchild.search(data)\n",
        "      else:\n",
        "        print(\"Node is not present in Tree\")\n",
        "    else:\n",
        "      if self.rchild:\n",
        "        self.rchild.search(data)\n",
        "      else:\n",
        "        print(\"Node is not present in Tree\")\n",
        "\n",
        "  def preorder(self):\n",
        "\n",
        "    print(self.key,end = \" \")#root\n",
        "    if self.lchild:\n",
        "      self.lchild.preorder()\n",
        "    if self.rchild:\n",
        "      self.rchild.preorder()\n",
        "\n",
        "  def inorder(self):\n",
        "\n",
        "    if self.lchild:\n",
        "      self.lchild.inorder()\n",
        "    print(self.key,end = \" \")#root\n",
        "    if self.rchild:\n",
        "      self.rchild.inorder()\n",
        "\n",
        "  def postorder(self):\n",
        "\n",
        "    if self.lchild:\n",
        "      self.lchild.postorder()\n",
        "    if self.rchild:\n",
        "      self.rchild.postorder()\n",
        "    print(self.key,end = \" \")#root\n",
        "\n",
        "  def delete(self,data,curr):\n",
        "    if self.key is None:\n",
        "      print(\"Tree is empty\")\n",
        "      return\n",
        "    if data < self.key:\n",
        "      if self.lchild:\n",
        "        self.lchild = self.lchild.delete(data)\n",
        "      else:\n",
        "        print(\"Given Node is not present in the Tree\")\n",
        "    elif data > self.key:\n",
        "      if self.rchild:\n",
        "        self.rchild = self.rchild.delete(data)\n",
        "      else:\n",
        "        print(\"Given Node is not present in the Tree\")\n",
        "    else:\n",
        "      if self.lchild is None:#in this case we remove, parent which have only one child\n",
        "        temp = self.rchild\n",
        "        if data == curr:\n",
        "          self = temp\n",
        "        self = None\n",
        "        return temp\n",
        "      if self.rchild is None:\n",
        "        temp = self.lchild #if rchild is None then return lchild\n",
        "        self = None\n",
        "        return temp\n",
        "      node = self.rchild\n",
        "      while node.lchild:\n",
        "        node = node.lchild\n",
        "      self.key = node.key\n",
        "      self.rchild = self.rchild.delete(node.key)\n",
        "    return self\n",
        "\n",
        "  def count(node):\n",
        "    if node is None:\n",
        "      return 0\n",
        "    return 1 + count(node.lchild) + count(node.rchild)\n",
        "\n",
        "root = bst(10)\n",
        "list1 = [2]\n",
        "for i in list1:\n",
        "  root.insert(i)\n",
        "\n",
        "if count(root)>1:\n",
        "  root.delete(10,root.key)\n",
        "else:\n",
        "  print(\"Root cannot be deleted\")\n",
        "\n",
        "\n",
        "\n",
        ""
      ]
    },
    {
      "cell_type": "code",
      "source": [
        "root.delete(2)"
      ],
      "metadata": {
        "colab": {
          "base_uri": "https://localhost:8080/"
        },
        "id": "w6CBdrUXBkg_",
        "outputId": "be0ee4ce-7a48-4fbc-d8f8-1ae39da5f56c"
      },
      "execution_count": 80,
      "outputs": [
        {
          "output_type": "execute_result",
          "data": {
            "text/plain": [
              "<__main__.bst at 0x7d9fb6c25e50>"
            ]
          },
          "metadata": {},
          "execution_count": 80
        }
      ]
    },
    {
      "cell_type": "code",
      "source": [
        "root.postorder()"
      ],
      "metadata": {
        "colab": {
          "base_uri": "https://localhost:8080/"
        },
        "id": "I89lazblNljq",
        "outputId": "62a2a922-cb29-49ed-eb97-08035e7ffedd"
      },
      "execution_count": 81,
      "outputs": [
        {
          "output_type": "stream",
          "name": "stdout",
          "text": [
            "10 "
          ]
        }
      ]
    },
    {
      "cell_type": "code",
      "source": [
        "root.inorder()"
      ],
      "metadata": {
        "colab": {
          "base_uri": "https://localhost:8080/"
        },
        "id": "z3UyYBycMDJp",
        "outputId": "bc492210-8538-404b-de67-cb697d7826ee"
      },
      "execution_count": 77,
      "outputs": [
        {
          "output_type": "stream",
          "name": "stdout",
          "text": [
            "2 10 "
          ]
        }
      ]
    },
    {
      "cell_type": "code",
      "source": [
        "root.preorder()"
      ],
      "metadata": {
        "colab": {
          "base_uri": "https://localhost:8080/"
        },
        "id": "Np6dUiMrBSwT",
        "outputId": "25af002e-622d-45f5-a361-7619935df3dc"
      },
      "execution_count": 39,
      "outputs": [
        {
          "output_type": "stream",
          "name": "stdout",
          "text": [
            "10 4 "
          ]
        }
      ]
    },
    {
      "cell_type": "code",
      "source": [
        "if count(root)>1:\n",
        "  root.delete(10)\n",
        "else:\n",
        "  print(\"Root cannot be deleted\")"
      ],
      "metadata": {
        "colab": {
          "base_uri": "https://localhost:8080/"
        },
        "id": "3_VyfWwJQCq_",
        "outputId": "31d5c631-2345-436d-9d72-6fea84c7c10f"
      },
      "execution_count": 72,
      "outputs": [
        {
          "output_type": "stream",
          "name": "stdout",
          "text": [
            "Root cannot be deleted\n"
          ]
        }
      ]
    },
    {
      "cell_type": "code",
      "source": [
        "print(count(root))"
      ],
      "metadata": {
        "colab": {
          "base_uri": "https://localhost:8080/"
        },
        "id": "DaBxFsucMKZ5",
        "outputId": "20fb23d2-a410-4424-e495-49aded18a7ca"
      },
      "execution_count": 70,
      "outputs": [
        {
          "output_type": "stream",
          "name": "stdout",
          "text": [
            "1\n"
          ]
        }
      ]
    },
    {
      "cell_type": "code",
      "source": [
        "root.search(60)"
      ],
      "metadata": {
        "id": "0vVYdKGkBR2o"
      },
      "execution_count": null,
      "outputs": []
    },
    {
      "cell_type": "code",
      "source": [
        "root = bst(10)\n",
        "print(root.key)\n",
        "print(root.lchild)\n",
        "print(root.rchild)\n"
      ],
      "metadata": {
        "colab": {
          "base_uri": "https://localhost:8080/"
        },
        "id": "d8NGO5KzAdlV",
        "outputId": "e6bf3a32-f7e9-47ea-8682-8c76ba6e0333"
      },
      "execution_count": null,
      "outputs": [
        {
          "output_type": "stream",
          "name": "stdout",
          "text": [
            "10\n",
            "None\n",
            "None\n"
          ]
        }
      ]
    },
    {
      "cell_type": "code",
      "source": [
        "root.lchild = bst(5)\n",
        "print(root.key)\n",
        "print(root.lchild)\n",
        "print(root.rchild)\n",
        "print(root.lchild.key)\n",
        "print(root.lchild.lchild)\n",
        "print(root.lchild.rchild)#  we will use insertion opertion. not this"
      ],
      "metadata": {
        "colab": {
          "base_uri": "https://localhost:8080/"
        },
        "id": "DpoFrfikAkZC",
        "outputId": "9056fee4-9194-4dd2-8d95-e04b1dcdfbf5"
      },
      "execution_count": null,
      "outputs": [
        {
          "output_type": "stream",
          "name": "stdout",
          "text": [
            "10\n",
            "<__main__.bst object at 0x7c0178f4ca10>\n",
            "None\n",
            "5\n",
            "None\n",
            "None\n"
          ]
        }
      ]
    },
    {
      "cell_type": "code",
      "metadata": {
        "id": "73160d65"
      },
      "source": [],
      "execution_count": 56,
      "outputs": []
    }
  ]
}