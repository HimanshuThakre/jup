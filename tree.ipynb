{
  "nbformat": 4,
  "nbformat_minor": 0,
  "metadata": {
    "colab": {
      "provenance": [],
      "authorship_tag": "ABX9TyO062R0x2n/8KNEu+YJaAE+",
      "include_colab_link": true
    },
    "kernelspec": {
      "name": "python3",
      "display_name": "Python 3"
    },
    "language_info": {
      "name": "python"
    }
  },
  "cells": [
    {
      "cell_type": "markdown",
      "metadata": {
        "id": "view-in-github",
        "colab_type": "text"
      },
      "source": [
        "<a href=\"https://colab.research.google.com/github/HimanshuThakre/jup/blob/main/tree.ipynb\" target=\"_parent\"><img src=\"https://colab.research.google.com/assets/colab-badge.svg\" alt=\"Open In Colab\"/></a>"
      ]
    },
    {
      "cell_type": "code",
      "execution_count": 2,
      "metadata": {
        "id": "1pMkQGj7-fWs"
      },
      "outputs": [],
      "source": [
        "class bst:\n",
        "  def __init__(self,key):\n",
        "    self.key = key #create node (key)\n",
        "    self.lchild = None #left child\n",
        "    self.rchild = None #right child\n",
        "\n",
        "  def insert(self,data):\n",
        "    if self.key is None:\n",
        "      self.key = data# if root node is none\n",
        "      return\n",
        "    if self.key == data:# igore duplicate value\n",
        "      return\n",
        "    if self.key > data:\n",
        "      if self.lchild: # it means root have left  child not none\n",
        "        self.lchild.insert(data)\n",
        "      else:\n",
        "        self.lchild = bst(data)#it means root or node have right chlid none\n",
        "        #creating a new node means creating an object\n",
        "    else:\n",
        "      if self.rchild:# it means root have right child not none\n",
        "        self.rchild.insert(data)\n",
        "      else:\n",
        "        self.rchild = bst(data)#it means root or node have right chlid none\n",
        "        #creating a new node means creating an object\n",
        "\n",
        "  def search(self,data):\n",
        "    if self.key == data:#1st key = data\n",
        "      print(\"Node is found\")\n",
        "      return\n",
        "    if data < self.key:\n",
        "      if self.lchild:\n",
        "        self.lchild.search(data)\n",
        "      else:\n",
        "        print(\"Node is not present in Tree\")\n",
        "    else:\n",
        "      if self.rchild:\n",
        "        self.rchild.search(data)\n",
        "      else:\n",
        "        print(\"Node is not present in Tree\")\n",
        "\n",
        "  def preorder(self):\n",
        "\n",
        "    print(self.key,end = \" \")#root\n",
        "    if self.lchild:\n",
        "      self.lchild.preorder()\n",
        "    if self.rchild:\n",
        "      self.rchild.preorder()\n",
        "\n",
        "  def inorder(self):\n",
        "\n",
        "    if self.lchild:\n",
        "      self.lchild.inorder()\n",
        "    print(self.key,end = \" \")#root\n",
        "    if self.rchild:\n",
        "      self.rchild.inorder()\n",
        "\n",
        "  def postorder(self):\n",
        "\n",
        "    if self.lchild:\n",
        "      self.lchild.postorder()\n",
        "    if self.rchild:\n",
        "      self.rchild.postorder()\n",
        "    print(self.key,end = \" \")#root\n",
        "\n",
        "  def delete(self,data):\n",
        "    if self.key is None:\n",
        "      print(\"Tree is empty\")\n",
        "      return\n",
        "    if data < self.key:\n",
        "      if self.lchild:\n",
        "        self.lchild = self.lchild.delete(data)\n",
        "      else:\n",
        "        print(\"Given Node is not present in the Tree\")\n",
        "    elif data > self.key:\n",
        "      if self.rchild:\n",
        "        self.rchild = self.rchild.delete(data)\n",
        "      else:\n",
        "        print(\"Given Node is not present in the Tree\")\n",
        "    else:\n",
        "      if self.lchild is None:#in this case we remove, parent which have only one child\n",
        "        temp = self.rchild\n",
        "        self = None\n",
        "        return temp\n",
        "      if self.rchild is None:\n",
        "        temp = self.lchild #if rchild is None then return lchild\n",
        "        self = None\n",
        "        return temp\n",
        "      node = self.rchild\n",
        "      while node.lchild:\n",
        "        node = node.lchild\n",
        "      self.key = node.key\n",
        "      self.rchild = self.rchild.delete(node.key)\n",
        "    return self\n",
        "\n",
        "\n",
        "\n",
        "\n",
        "\n",
        "\n",
        "\n",
        "\n",
        "\n",
        "\n",
        "\n",
        "root = bst(10)\n",
        "list1 = [6,3,1,6,98,3,7]\n",
        "for i in list1:\n",
        "  root.insert(i)"
      ]
    },
    {
      "cell_type": "code",
      "source": [
        "root.delete(10)"
      ],
      "metadata": {
        "colab": {
          "base_uri": "https://localhost:8080/"
        },
        "id": "w6CBdrUXBkg_",
        "outputId": "aef96e09-4b3b-4cb6-c404-767faa27c8e9"
      },
      "execution_count": 7,
      "outputs": [
        {
          "output_type": "execute_result",
          "data": {
            "text/plain": [
              "<__main__.bst at 0x7e99cdd294d0>"
            ]
          },
          "metadata": {},
          "execution_count": 7
        }
      ]
    },
    {
      "cell_type": "code",
      "source": [
        "root.postorder()"
      ],
      "metadata": {
        "colab": {
          "base_uri": "https://localhost:8080/"
        },
        "id": "I89lazblNljq",
        "outputId": "180edf5f-76f4-4e35-c21d-da7a87957ef5"
      },
      "execution_count": 8,
      "outputs": [
        {
          "output_type": "stream",
          "name": "stdout",
          "text": [
            "1 3 7 98 "
          ]
        }
      ]
    },
    {
      "cell_type": "code",
      "source": [
        "root.inorder()"
      ],
      "metadata": {
        "colab": {
          "base_uri": "https://localhost:8080/"
        },
        "id": "z3UyYBycMDJp",
        "outputId": "0289ee80-9536-4005-9cc8-c153f52af604"
      },
      "execution_count": null,
      "outputs": [
        {
          "output_type": "stream",
          "name": "stdout",
          "text": [
            "1 3 6 7 10 98 "
          ]
        }
      ]
    },
    {
      "cell_type": "code",
      "source": [
        "root.preorder()"
      ],
      "metadata": {
        "colab": {
          "base_uri": "https://localhost:8080/"
        },
        "id": "Np6dUiMrBSwT",
        "outputId": "08d2fd81-d915-4361-82fa-f8b31973acf5"
      },
      "execution_count": null,
      "outputs": [
        {
          "output_type": "stream",
          "name": "stdout",
          "text": [
            "10 6 3 1 7 98 "
          ]
        }
      ]
    },
    {
      "cell_type": "code",
      "source": [
        "root.search(60)"
      ],
      "metadata": {
        "id": "0vVYdKGkBR2o"
      },
      "execution_count": null,
      "outputs": []
    },
    {
      "cell_type": "code",
      "source": [
        "root = bst(10)\n",
        "print(root.key)\n",
        "print(root.lchild)\n",
        "print(root.rchild)\n"
      ],
      "metadata": {
        "colab": {
          "base_uri": "https://localhost:8080/"
        },
        "id": "d8NGO5KzAdlV",
        "outputId": "e6bf3a32-f7e9-47ea-8682-8c76ba6e0333"
      },
      "execution_count": null,
      "outputs": [
        {
          "output_type": "stream",
          "name": "stdout",
          "text": [
            "10\n",
            "None\n",
            "None\n"
          ]
        }
      ]
    },
    {
      "cell_type": "code",
      "source": [
        "root.lchild = bst(5)\n",
        "print(root.key)\n",
        "print(root.lchild)\n",
        "print(root.rchild)\n",
        "print(root.lchild.key)\n",
        "print(root.lchild.lchild)\n",
        "print(root.lchild.rchild)#  we will use insertion opertion. not this"
      ],
      "metadata": {
        "colab": {
          "base_uri": "https://localhost:8080/"
        },
        "id": "DpoFrfikAkZC",
        "outputId": "9056fee4-9194-4dd2-8d95-e04b1dcdfbf5"
      },
      "execution_count": null,
      "outputs": [
        {
          "output_type": "stream",
          "name": "stdout",
          "text": [
            "10\n",
            "<__main__.bst object at 0x7c0178f4ca10>\n",
            "None\n",
            "5\n",
            "None\n",
            "None\n"
          ]
        }
      ]
    }
  ]
}