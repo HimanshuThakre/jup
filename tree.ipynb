{
  "nbformat": 4,
  "nbformat_minor": 0,
  "metadata": {
    "colab": {
      "provenance": [],
      "authorship_tag": "ABX9TyPK36s6z5RURuRJYOlkUk4g",
      "include_colab_link": true
    },
    "kernelspec": {
      "name": "python3",
      "display_name": "Python 3"
    },
    "language_info": {
      "name": "python"
    }
  },
  "cells": [
    {
      "cell_type": "markdown",
      "metadata": {
        "id": "view-in-github",
        "colab_type": "text"
      },
      "source": [
        "<a href=\"https://colab.research.google.com/github/HimanshuThakre/jup/blob/main/tree.ipynb\" target=\"_parent\"><img src=\"https://colab.research.google.com/assets/colab-badge.svg\" alt=\"Open In Colab\"/></a>"
      ]
    },
    {
      "cell_type": "code",
      "execution_count": 14,
      "metadata": {
        "id": "1pMkQGj7-fWs"
      },
      "outputs": [],
      "source": [
        "class bst:\n",
        "  def __init__(self,key):\n",
        "    self.key = key #create node (key)\n",
        "    self.lchild = None #left child\n",
        "    self.rchild = None #right child\n",
        "\n",
        "  def insert(self,data):\n",
        "    if self.key is None:\n",
        "      self.key = data# if root node is none\n",
        "      return\n",
        "    if self.key == data:# igore duplicate value\n",
        "      return\n",
        "    if self.key > data:\n",
        "      if self.lchild: # it means root have left  child not none\n",
        "        self.lchild.insert(data)\n",
        "      else:\n",
        "        self.lchild = bst(data)#it means root or node have right chlid none\n",
        "        #creating a new node means creating an object\n",
        "    else:\n",
        "      if self.rchild:# it means root have right child not none\n",
        "        self.rchild.insert(data)\n",
        "      else:\n",
        "        self.rchild = bst(data)#it means root or node have right chlid none\n",
        "        #creating a new node means creating an object\n",
        "\n",
        "  def search(self,data):\n",
        "    if self.key == data:\n",
        "      print(\"Node is found\")\n",
        "      return\n",
        "    if data < self.key:\n",
        "      if self.lchild:\n",
        "        self.lchild.search(data)\n",
        "      else:\n",
        "        print(\"Node is not present in Tree\")\n",
        "    else:\n",
        "      if self.rchild:\n",
        "        self.rchild.search(data)\n",
        "\n",
        "\n",
        "\n",
        "\n",
        "root = bst(10)\n",
        "list1 = [20,4,30,4,1,5,6]\n",
        "for i in list1:\n",
        "  root.insert(i)\n"
      ]
    },
    {
      "cell_type": "code",
      "source": [
        "root = bst(10)\n",
        "print(root.key)\n",
        "print(root.lchild)\n",
        "print(root.rchild)\n"
      ],
      "metadata": {
        "colab": {
          "base_uri": "https://localhost:8080/"
        },
        "id": "d8NGO5KzAdlV",
        "outputId": "e6bf3a32-f7e9-47ea-8682-8c76ba6e0333"
      },
      "execution_count": 9,
      "outputs": [
        {
          "output_type": "stream",
          "name": "stdout",
          "text": [
            "10\n",
            "None\n",
            "None\n"
          ]
        }
      ]
    },
    {
      "cell_type": "code",
      "source": [
        "root.lchild = bst(5)\n",
        "print(root.key)\n",
        "print(root.lchild)\n",
        "print(root.rchild)\n",
        "print(root.lchild.key)\n",
        "print(root.lchild.lchild)\n",
        "print(root.lchild.rchild)#  we will use insertion opertion. not this"
      ],
      "metadata": {
        "colab": {
          "base_uri": "https://localhost:8080/"
        },
        "id": "DpoFrfikAkZC",
        "outputId": "9056fee4-9194-4dd2-8d95-e04b1dcdfbf5"
      },
      "execution_count": 10,
      "outputs": [
        {
          "output_type": "stream",
          "name": "stdout",
          "text": [
            "10\n",
            "<__main__.bst object at 0x7c0178f4ca10>\n",
            "None\n",
            "5\n",
            "None\n",
            "None\n"
          ]
        }
      ]
    }
  ]
}