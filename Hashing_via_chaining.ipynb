{
  "nbformat": 4,
  "nbformat_minor": 0,
  "metadata": {
    "colab": {
      "provenance": [],
      "authorship_tag": "ABX9TyNNcP2DwOp23vEYjctKwWtV",
      "include_colab_link": true
    },
    "kernelspec": {
      "name": "python3",
      "display_name": "Python 3"
    },
    "language_info": {
      "name": "python"
    }
  },
  "cells": [
    {
      "cell_type": "markdown",
      "metadata": {
        "id": "view-in-github",
        "colab_type": "text"
      },
      "source": [
        "<a href=\"https://colab.research.google.com/github/HimanshuThakre/jup/blob/main/Hashing_via_chaining.ipynb\" target=\"_parent\"><img src=\"https://colab.research.google.com/assets/colab-badge.svg\" alt=\"Open In Colab\"/></a>"
      ]
    },
    {
      "cell_type": "code",
      "source": [
        "class Node:\n",
        "\n",
        "  def __init__(self,key,value):\n",
        "    self.key = key\n",
        "    self.value = value\n",
        "    self.next = None"
      ],
      "metadata": {
        "id": "fUxPbELS0Qie"
      },
      "execution_count": 24,
      "outputs": []
    },
    {
      "cell_type": "code",
      "execution_count": 38,
      "metadata": {
        "id": "pUdXUv6VysCc"
      },
      "outputs": [],
      "source": [
        "class ll:\n",
        "\n",
        "  def __init__(self):\n",
        "    #Emet linked list\n",
        "    self.head = None\n",
        "    self.size = 0 # Add size attribute\n",
        "\n",
        "  def traverse(self):\n",
        "    curr = self.head\n",
        "    while curr != None:\n",
        "      print(curr.key,\"--->\",curr.value,\"  \",end='')\n",
        "      curr = curr.next\n",
        "    print()\n",
        "\n",
        "  def add(self,key,value):\n",
        "\n",
        "    new_node = Node(key, value)\n",
        "\n",
        "#empty\n",
        "    if self.head == None:\n",
        "      self.head = new_node\n",
        "    else:\n",
        "      curr = self.head\n",
        "      while curr.next != None:\n",
        "        curr = curr.next\n",
        "      curr.next = new_node\n",
        "    self.size += 1 # Increment size\n",
        "\n",
        "  def delete_head(self):\n",
        "    if self.head == None:\n",
        "      return 'Empty'\n",
        "    else:\n",
        "      self.head = self.head.next\n",
        "      self.size -= 1 # Decrement size\n",
        "  def remove(self,key):\n",
        "    #empty\n",
        "    if self.head == None:\n",
        "      return 'Empty'\n",
        "\n",
        "    if self.head.key == key:\n",
        "      # you want to remove the Head node\n",
        "      return self.delete_head()\n",
        "\n",
        "    curr = self.head\n",
        "\n",
        "    while curr.next != None:\n",
        "      if curr.next.key == key:\n",
        "        break\n",
        "      curr = curr.next\n",
        "    # 2 case item mil gaya\n",
        "    #Ite nia milam\n",
        "    if curr.next != None:\n",
        "      curr.next = curr.next.next\n",
        "      self.size -= 1 # Correct self.n to self.size\n",
        "    else:\n",
        "      return 'Item not found'\n",
        "\n",
        "  def search(self,key):\n",
        "    curr = self.head\n",
        "    pos = 0\n",
        "    while curr != None:\n",
        "      if curr.key == key:\n",
        "        return pos\n",
        "      pos = pos + 1\n",
        "      curr = curr.next\n",
        "    return -1\n",
        "  def get_node_at_index(self,index):\n",
        "    curr = self.head\n",
        "    counter = 0\n",
        "\n",
        "    while curr is not None:\n",
        "      if counter == index:\n",
        "        return curr\n",
        "      counter = counter + 1\n",
        "      curr = curr.next\n",
        "    return None\n",
        "  def size(self): # Add size method\n",
        "    return self.size"
      ]
    },
    {
      "cell_type": "code",
      "source": [
        "class Dictionary:\n",
        "\n",
        "  def __init__(self, capacity):\n",
        "    self.capacity = capacity\n",
        "    self.size = 0\n",
        "    #create array of ll\n",
        "    self.buckets = self.make_array(self.capacity)\n",
        "  def make_array(self,capacity):\n",
        "    l=[]\n",
        "    for i in range(capacity):\n",
        "      l.append(ll())\n",
        "    return l\n",
        "\n",
        "  def _setitem__(self,key,value):\n",
        "    self.put(key,value)\n",
        "\n",
        "  def __getitem__(self,key):\n",
        "    return self.get(key)\n",
        "\n",
        "  def __delitem__(self,key):\n",
        "    bucket_index = self.hash_function(key)\n",
        "    self.buckets[bucket_index].remove(key)\n",
        "    self.size = self.size - 1\n",
        "\n",
        "  def __str__(self):\n",
        "    for i in self.buckets:\n",
        "      i.traverse()\n",
        "    return ''\n",
        "\n",
        "  def __len__(self):\n",
        "    return self.size\n",
        "\n",
        "\n",
        "\n",
        "  def get(self,key):\n",
        "    bucket_index = self.hash_function(key)\n",
        "\n",
        "    res = self.buckets[bucket_index].search(key)\n",
        "\n",
        "    if res == -1:\n",
        "      return 'Not found'\n",
        "    else:\n",
        "      node = self.buckets[bucket_index].get_node_at_index(res)\n",
        "      return node.value\n",
        "\n",
        "\n",
        "  def put(self, key, value):\n",
        "\n",
        "    buck_index = self.hash_function(key)\n",
        "\n",
        "    node_index = self.get_node_index(buck_index,key)\n",
        "\n",
        "    if node_index == -1:\n",
        "      #insret\n",
        "      self.buckets[buck_index].add(key,value)\n",
        "      self.size = self.size + 1\n",
        "    else:\n",
        "      #update\n",
        "      node = self.buckets[buck_index].get_node_at_index(node_index)\n",
        "      node.value = value\n",
        "  def rehash(self):\n",
        "    self.capacity = self.capacity * 2\n",
        "    old_buckets = self.buckets\n",
        "    self.size = 0\n",
        "    self.buckets = self.make_array(self.capacity)\n",
        "    for i in old_buckets:\n",
        "      for j in range(i.size()):\n",
        "        node = i.get_node_at_index(j)\n",
        "        key_item = node.key\n",
        "        value_item = node.value\n",
        "        self.put(key_item,value_item)\n",
        "\n",
        "\n",
        "\n",
        "  def get_node_index(self,bucket_index,key):\n",
        "\n",
        "    node_index = self.buckets[bucket_index].search(key)\n",
        "\n",
        "    return node_index\n",
        "\n",
        "\n",
        "  def hash_function(self,key):\n",
        "    return abs(hash(key)) % self.capacity"
      ],
      "metadata": {
        "id": "LHbaHO5mLIPm"
      },
      "execution_count": 59,
      "outputs": []
    },
    {
      "cell_type": "code",
      "source": [
        "l = []\n",
        "\n",
        "for i in range(3):\n",
        "  l.append(ll())"
      ],
      "metadata": {
        "id": "wGPBNEjqNd8j"
      },
      "execution_count": 5,
      "outputs": []
    },
    {
      "cell_type": "code",
      "source": [
        "l"
      ],
      "metadata": {
        "colab": {
          "base_uri": "https://localhost:8080/"
        },
        "id": "isvT63ONOx3L",
        "outputId": "6ed7250a-f880-48f9-c189-0335dd72f060"
      },
      "execution_count": null,
      "outputs": [
        {
          "output_type": "execute_result",
          "data": {
            "text/plain": [
              "[<__main__.ll at 0x7c11ca0a4690>,\n",
              " <__main__.ll at 0x7c11ca11cc10>,\n",
              " <__main__.ll at 0x7c11ca11cbd0>]"
            ]
          },
          "metadata": {},
          "execution_count": 12
        }
      ]
    },
    {
      "cell_type": "code",
      "source": [
        "type(l[0])"
      ],
      "metadata": {
        "colab": {
          "base_uri": "https://localhost:8080/",
          "height": 103
        },
        "id": "z-9033zQOz--",
        "outputId": "84181df9-8db7-49a1-e835-5bd6fe0ddfcb"
      },
      "execution_count": null,
      "outputs": [
        {
          "output_type": "execute_result",
          "data": {
            "text/plain": [
              "__main__.ll"
            ],
            "text/html": [
              "<div style=\"max-width:800px; border: 1px solid var(--colab-border-color);\"><style>\n",
              "      pre.function-repr-contents {\n",
              "        overflow-x: auto;\n",
              "        padding: 8px 12px;\n",
              "        max-height: 500px;\n",
              "      }\n",
              "\n",
              "      pre.function-repr-contents.function-repr-contents-collapsed {\n",
              "        cursor: pointer;\n",
              "        max-height: 100px;\n",
              "      }\n",
              "    </style>\n",
              "    <pre style=\"white-space: initial; background:\n",
              "         var(--colab-secondary-surface-color); padding: 8px 12px;\n",
              "         border-bottom: 1px solid var(--colab-border-color);\"><b>ll</b><br/>def __init__()</pre><pre class=\"function-repr-contents function-repr-contents-collapsed\" style=\"\"><a class=\"filepath\" style=\"display:none\" href=\"#\"></a>&lt;no docstring&gt;</pre></div>"
            ]
          },
          "metadata": {},
          "execution_count": 14
        }
      ]
    },
    {
      "cell_type": "code",
      "source": [
        "l"
      ],
      "metadata": {
        "colab": {
          "base_uri": "https://localhost:8080/"
        },
        "id": "iG-p1s69Pimb",
        "outputId": "ae917af7-ef96-4dcd-f2e0-9240bb64144f"
      },
      "execution_count": null,
      "outputs": [
        {
          "output_type": "execute_result",
          "data": {
            "text/plain": [
              "[<__main__.ll at 0x7c11ca11c950>,\n",
              " <__main__.ll at 0x7c11ca11c950>,\n",
              " <__main__.ll at 0x7c11ca11c950>]"
            ]
          },
          "metadata": {},
          "execution_count": 16
        }
      ]
    },
    {
      "cell_type": "code",
      "source": [
        "l = [ll()] *3 #not give right r"
      ],
      "metadata": {
        "id": "vm5K__xkPHVY"
      },
      "execution_count": null,
      "outputs": []
    },
    {
      "cell_type": "code",
      "source": [
        "l = ll()"
      ],
      "metadata": {
        "id": "QoQl8vkt-RUU"
      },
      "execution_count": null,
      "outputs": []
    },
    {
      "cell_type": "code",
      "source": [
        "l.add(4,5)"
      ],
      "metadata": {
        "id": "w5jX-o6z-VVo"
      },
      "execution_count": null,
      "outputs": []
    },
    {
      "cell_type": "code",
      "source": [
        "l.add(2,3)"
      ],
      "metadata": {
        "id": "WVywWwL4-Yh5"
      },
      "execution_count": null,
      "outputs": []
    },
    {
      "cell_type": "code",
      "source": [
        "l.add(6,7)"
      ],
      "metadata": {
        "id": "uH8IKZlU-bhN"
      },
      "execution_count": null,
      "outputs": []
    },
    {
      "cell_type": "code",
      "source": [
        "l.traverse()"
      ],
      "metadata": {
        "colab": {
          "base_uri": "https://localhost:8080/"
        },
        "id": "dCKxMEWe-0h3",
        "outputId": "fff594f7-bd2e-42ee-eecd-b0749ee65cae"
      },
      "execution_count": null,
      "outputs": [
        {
          "output_type": "stream",
          "name": "stdout",
          "text": [
            "2 ---> 3   4 ---> 5   6 ---> 7   \n"
          ]
        }
      ]
    },
    {
      "cell_type": "code",
      "source": [
        "l.get_node_at_index(2).key"
      ],
      "metadata": {
        "colab": {
          "base_uri": "https://localhost:8080/"
        },
        "id": "5mUahZga_K0L",
        "outputId": "daff4512-038f-4f05-8546-0cd62096e5a3"
      },
      "execution_count": null,
      "outputs": [
        {
          "output_type": "execute_result",
          "data": {
            "text/plain": [
              "6"
            ]
          },
          "metadata": {},
          "execution_count": 30
        }
      ]
    },
    {
      "cell_type": "code",
      "source": [
        "D1 = Dictionary(4)"
      ],
      "metadata": {
        "id": "hrIspz4S_4gN"
      },
      "execution_count": 60,
      "outputs": []
    },
    {
      "cell_type": "code",
      "source": [
        "D1.put(\"python\",34)"
      ],
      "metadata": {
        "id": "Gci7ufstA-go"
      },
      "execution_count": 61,
      "outputs": []
    },
    {
      "cell_type": "code",
      "source": [
        "D1.put(\"java\",1000)"
      ],
      "metadata": {
        "id": "5Zpe6L4nCtvc"
      },
      "execution_count": 62,
      "outputs": []
    },
    {
      "cell_type": "code",
      "source": [
        "D1.put(\"c\",100)\n"
      ],
      "metadata": {
        "id": "IqVoykrEDCcq"
      },
      "execution_count": 63,
      "outputs": []
    },
    {
      "cell_type": "code",
      "source": [
        "D1[\"c\"]"
      ],
      "metadata": {
        "colab": {
          "base_uri": "https://localhost:8080/",
          "height": 35
        },
        "id": "F6Y8OkIEi0tN",
        "outputId": "720b255a-2a64-46cd-8f0b-e00d4ccb7153"
      },
      "execution_count": 46,
      "outputs": [
        {
          "output_type": "execute_result",
          "data": {
            "text/plain": [
              "'Not found'"
            ],
            "application/vnd.google.colaboratory.intrinsic+json": {
              "type": "string"
            }
          },
          "metadata": {},
          "execution_count": 46
        }
      ]
    },
    {
      "cell_type": "code",
      "source": [
        "print(D1)"
      ],
      "metadata": {
        "id": "_khFzRA1k7Kh",
        "outputId": "9cd9bc11-3245-4e2b-a8d5-998f62062b8f",
        "colab": {
          "base_uri": "https://localhost:8080/"
        }
      },
      "execution_count": 67,
      "outputs": [
        {
          "output_type": "stream",
          "name": "stdout",
          "text": [
            "\n",
            "java ---> 1000   \n",
            "\n",
            "python ---> 34   \n",
            "\n"
          ]
        }
      ]
    },
    {
      "cell_type": "code",
      "source": [
        "len(D1)"
      ],
      "metadata": {
        "id": "wZj4BDXaldMN",
        "outputId": "52fb271b-66bd-4045-8c50-6dacc5f0ba52",
        "colab": {
          "base_uri": "https://localhost:8080/"
        }
      },
      "execution_count": 68,
      "outputs": [
        {
          "output_type": "execute_result",
          "data": {
            "text/plain": [
              "2"
            ]
          },
          "metadata": {},
          "execution_count": 68
        }
      ]
    },
    {
      "cell_type": "code",
      "source": [
        "del D1[\"c\"]"
      ],
      "metadata": {
        "id": "-bPzktauj40X"
      },
      "execution_count": 66,
      "outputs": []
    },
    {
      "cell_type": "code",
      "source": [
        "D1.put(\"c+\",1003233400)"
      ],
      "metadata": {
        "id": "U9gKZ_MoDG_w"
      },
      "execution_count": null,
      "outputs": []
    },
    {
      "cell_type": "code",
      "source": [
        "D1.put(\"rrb\",20)"
      ],
      "metadata": {
        "id": "gHke0ygoDMCo"
      },
      "execution_count": null,
      "outputs": []
    },
    {
      "cell_type": "code",
      "source": [
        "D1.buckets"
      ],
      "metadata": {
        "colab": {
          "base_uri": "https://localhost:8080/"
        },
        "id": "wJT4WpClCVLb",
        "outputId": "c42eefab-68a9-400c-b681-77be790353d6"
      },
      "execution_count": 10,
      "outputs": [
        {
          "output_type": "execute_result",
          "data": {
            "text/plain": [
              "[<__main__.ll at 0x7e643e6a8310>,\n",
              " <__main__.ll at 0x7e643e6a81d0>,\n",
              " <__main__.ll at 0x7e643e6a8890>,\n",
              " <__main__.ll at 0x7e643e6a88d0>]"
            ]
          },
          "metadata": {},
          "execution_count": 10
        }
      ]
    },
    {
      "cell_type": "code",
      "source": [
        "D1.buckets[1].traverse()"
      ],
      "metadata": {
        "colab": {
          "base_uri": "https://localhost:8080/"
        },
        "id": "BWPR-cIXCcC3",
        "outputId": "829f8b1c-cb14-4658-a281-461980a84ab3"
      },
      "execution_count": null,
      "outputs": [
        {
          "output_type": "stream",
          "name": "stdout",
          "text": [
            "c+ ---> 1003233400   \n"
          ]
        }
      ]
    },
    {
      "cell_type": "markdown",
      "metadata": {
        "id": "3ee6cbc4"
      },
      "source": [
        "# Task\n",
        "Review the provided Python code for a linked list and a hash table implementation, identify any errors, and suggest improvements."
      ]
    },
    {
      "cell_type": "markdown",
      "metadata": {
        "id": "2b71b1d1"
      },
      "source": [
        "## Review node class\n",
        "\n",
        "### Subtask:\n",
        "Examine the `Node` class for correctness and potential improvements.\n"
      ]
    },
    {
      "cell_type": "markdown",
      "metadata": {
        "id": "aaf3a485"
      },
      "source": [
        "## Review ll class\n",
        "\n",
        "### Subtask:\n",
        "Examine the `ll` class (linked list) for correctness and potential improvements.\n"
      ]
    },
    {
      "cell_type": "markdown",
      "metadata": {
        "id": "9ba4fe4e"
      },
      "source": [
        "**Reasoning**:\n",
        "Review the `ll` class methods as per the instructions, specifically focusing on the `__init__`, `traverse`, `add`, `delete_head`, `remove`, `search`, and `get_node_at_index` methods for correctness and potential improvements, including the lack of a `size` attribute.\n",
        "\n"
      ]
    },
    {
      "cell_type": "code",
      "metadata": {
        "colab": {
          "base_uri": "https://localhost:8080/"
        },
        "id": "45176347",
        "outputId": "48bac572-73d4-4fac-a07b-28b25d309df2"
      },
      "source": [
        "# Reviewing the __init__ method\n",
        "print(\"__init__ review: The head is correctly initialized to None.\")\n",
        "\n",
        "# Reviewing the traverse method\n",
        "print(\"\\ntraverse review: The method iterates through the list and prints key-value pairs correctly.\")\n",
        "# Example usage (already done in previous cells, confirming output)\n",
        "# l.traverse()\n",
        "\n",
        "# Reviewing the add method\n",
        "print(\"\\nadd review: The method handles both empty and non-empty lists correctly by adding the new node at the end.\")\n",
        "# Example usage (already done in previous cells, confirming output)\n",
        "# l.add(4,5)\n",
        "# l.add(2,3)\n",
        "# l.add(6,7)\n",
        "\n",
        "# Reviewing the delete_head method\n",
        "print(\"\\ndelete_head review: The method correctly handles an empty list and updates the head to the next node.\")\n",
        "# Example usage (not explicitly done in previous cells, but logic is sound)\n",
        "# temp_ll = ll()\n",
        "# print(f\"delete_head on empty list: {temp_ll.delete_head()}\")\n",
        "# temp_ll.add(1,1)\n",
        "# temp_ll.add(2,2)\n",
        "# print(\"List before delete_head:\")\n",
        "# temp_ll.traverse()\n",
        "# temp_ll.delete_head()\n",
        "# print(\"List after delete_head:\")\n",
        "# temp_ll.traverse()\n",
        "\n",
        "# Reviewing the remove method\n",
        "print(\"\\nremove review: The method correctly finds and removes a node by key.\")\n",
        "print(\"It handles edge cases like empty list, head removal, and key not found.\")\n",
        "print(\"Potential improvement: The method attempts to decrement `self.n`, but the `ll` class does not have a `n` or `size` attribute. This should be added for accurate size tracking.\")\n",
        "# Example usage (not explicitly done in previous cells, but logic is sound)\n",
        "# temp_ll = ll()\n",
        "# temp_ll.add(1,1)\n",
        "# temp_ll.add(2,2)\n",
        "# temp_ll.add(3,3)\n",
        "# print(\"List before remove:\")\n",
        "# temp_ll.traverse()\n",
        "# print(f\"Removing key 2: {temp_ll.remove(2)}\")\n",
        "# print(\"List after removing key 2:\")\n",
        "# temp_ll.traverse()\n",
        "# print(f\"Removing head (key 1): {temp_ll.remove(1)}\")\n",
        "# print(\"List after removing key 1:\")\n",
        "# temp_ll.traverse()\n",
        "# print(f\"Removing non-existent key 4: {temp_ll.remove(4)}\")\n",
        "# print(\"List after attempting to remove key 4:\")\n",
        "# temp_ll.traverse()\n",
        "# print(f\"Removing remaining key 3: {temp_ll.remove(3)}\")\n",
        "# print(\"List after removing key 3:\")\n",
        "# temp_ll.traverse()\n",
        "# print(f\"Removing from empty list: {temp_ll.remove(1)}\")\n",
        "\n",
        "\n",
        "# Reviewing the search method\n",
        "print(\"\\nsearch review: The method iterates through the list and returns the correct index of a node with a matching key or -1 if not found.\")\n",
        "# Example usage (already done in previous cells implicitly)\n",
        "# print(f\"Search for key 6: {l.search(6)}\")\n",
        "# print(f\"Search for key 10: {l.search(10)}\")\n",
        "\n",
        "\n",
        "# Reviewing the get_node_at_index method\n",
        "print(\"\\nget_node_at_index review: The method retrieves the node at a given index or returns None if the index is out of bounds.\")\n",
        "# Example usage (already done in previous cells)\n",
        "# print(f\"Node at index 2 key: {l.get_node_at_index(2).key}\")\n",
        "# print(f\"Node at index 10: {l.get_node_at_index(10)}\")\n",
        "\n",
        "# Identifying potential areas for improvement\n",
        "print(\"\\nPotential Improvements:\")\n",
        "print(\"- Add a `size` attribute to the `ll` class to keep track of the number of nodes. Update this attribute in `add` and `remove` methods.\")\n",
        "print(\"- The `remove` method incorrectly attempts to decrement `self.n`. This should be `self.size` after adding the `size` attribute.\")\n",
        "print(\"- Consider adding a method to get the size of the linked list.\")"
      ],
      "execution_count": 27,
      "outputs": [
        {
          "output_type": "stream",
          "name": "stdout",
          "text": [
            "__init__ review: The head is correctly initialized to None.\n",
            "\n",
            "traverse review: The method iterates through the list and prints key-value pairs correctly.\n",
            "\n",
            "add review: The method handles both empty and non-empty lists correctly by adding the new node at the end.\n",
            "\n",
            "delete_head review: The method correctly handles an empty list and updates the head to the next node.\n",
            "\n",
            "remove review: The method correctly finds and removes a node by key.\n",
            "It handles edge cases like empty list, head removal, and key not found.\n",
            "Potential improvement: The method attempts to decrement `self.n`, but the `ll` class does not have a `n` or `size` attribute. This should be added for accurate size tracking.\n",
            "\n",
            "search review: The method iterates through the list and returns the correct index of a node with a matching key or -1 if not found.\n",
            "\n",
            "get_node_at_index review: The method retrieves the node at a given index or returns None if the index is out of bounds.\n",
            "\n",
            "Potential Improvements:\n",
            "- Add a `size` attribute to the `ll` class to keep track of the number of nodes. Update this attribute in `add` and `remove` methods.\n",
            "- The `remove` method incorrectly attempts to decrement `self.n`. This should be `self.size` after adding the `size` attribute.\n",
            "- Consider adding a method to get the size of the linked list.\n"
          ]
        }
      ]
    },
    {
      "cell_type": "markdown",
      "metadata": {
        "id": "198aab8d"
      },
      "source": [
        "**Reasoning**:\n",
        "Based on the review, the main improvement for the `ll` class is to add a `size` attribute and manage it correctly within the `add` and `remove` methods. This next step will provide a summary of the findings and explicitly state the identified improvements.\n",
        "\n"
      ]
    },
    {
      "cell_type": "code",
      "metadata": {
        "colab": {
          "base_uri": "https://localhost:8080/"
        },
        "id": "193c7e99",
        "outputId": "13842136-62fc-433c-db6c-3cb9bc1cc6a1"
      },
      "source": [
        "print(\"Summary of ll class review:\")\n",
        "print(\"- `__init__`, `traverse`, `add`, `delete_head`, `search`, and `get_node_at_index` methods are correctly implemented.\")\n",
        "print(\"- The `remove` method is mostly correct but attempts to use a non-existent attribute `self.n` for size decrement.\")\n",
        "print(\"\\nIdentified Improvements:\")\n",
        "print(\"1. Add a `size` attribute to the `ll` class, initialized to 0 in `__init__`.\")\n",
        "print(\"2. Increment the `size` attribute in the `add` method when a new node is added.\")\n",
        "print(\"3. Decrement the `size` attribute in the `remove` method when a node is successfully removed. Correct `self.n` to `self.size`.\")\n",
        "print(\"4. (Optional) Add a method like `size()` to return the current number of nodes.\")\n"
      ],
      "execution_count": 28,
      "outputs": [
        {
          "output_type": "stream",
          "name": "stdout",
          "text": [
            "Summary of ll class review:\n",
            "- `__init__`, `traverse`, `add`, `delete_head`, `search`, and `get_node_at_index` methods are correctly implemented.\n",
            "- The `remove` method is mostly correct but attempts to use a non-existent attribute `self.n` for size decrement.\n",
            "\n",
            "Identified Improvements:\n",
            "1. Add a `size` attribute to the `ll` class, initialized to 0 in `__init__`.\n",
            "2. Increment the `size` attribute in the `add` method when a new node is added.\n",
            "3. Decrement the `size` attribute in the `remove` method when a node is successfully removed. Correct `self.n` to `self.size`.\n",
            "4. (Optional) Add a method like `size()` to return the current number of nodes.\n"
          ]
        }
      ]
    },
    {
      "cell_type": "markdown",
      "metadata": {
        "id": "db30e47b"
      },
      "source": [
        "## Review dictionary class\n",
        "\n",
        "### Subtask:\n",
        "Examine the `Dictionary` class (hash table) for correctness and potential improvements.\n"
      ]
    },
    {
      "cell_type": "markdown",
      "metadata": {
        "id": "5b62465a"
      },
      "source": [
        "**Reasoning**:\n",
        "Review the `Dictionary` class methods as per the instructions, identifying correctness and potential errors or improvements.\n",
        "\n"
      ]
    },
    {
      "cell_type": "code",
      "metadata": {
        "colab": {
          "base_uri": "https://localhost:8080/"
        },
        "id": "0cf4b790",
        "outputId": "ea67d60b-8b11-4355-911c-89ea053cf836"
      },
      "source": [
        "# 1. Examine the __init__ method\n",
        "print(\"Reviewing __init__ method:\")\n",
        "print(\"- capacity is initialized correctly.\")\n",
        "print(\"- size is initialized correctly to 0.\")\n",
        "print(\"- buckets is initialized as a list using make_array with the specified capacity. This seems correct.\")\n",
        "\n",
        "# 2. Review the make_array method\n",
        "print(\"\\nReviewing make_array method:\")\n",
        "print(\"- The method correctly creates a list of the given capacity.\")\n",
        "print(\"- Each element in the list is a new instance of the ll class. This is correct.\")\n",
        "\n",
        "# 3. Examine the _setitem__ and __getitem__ methods\n",
        "print(\"\\nReviewing _setitem__ and __getitem__ methods:\")\n",
        "print(\"- ERROR: The method names are `_setitem__` and `__getitem__`.\")\n",
        "print(\"- These should be `__setitem__` and `__getitem__` (with two leading underscores) to function as special methods for item assignment and access using [] syntax.\")\n",
        "\n",
        "# 4. Examine the __delitem__ method\n",
        "print(\"\\nReviewing __delitem__ method:\")\n",
        "print(\"- Calculates bucket index using hash_function: Correct.\")\n",
        "print(\"- Calls remove on the linked list in the bucket: Correct.\")\n",
        "print(\"- Decrements size: Correct.\")\n",
        "print(\"- Potential issue: The `remove` method in `ll` class attempts to decrement `self.n` which does not exist. This will cause an error when `__delitem__` is called.\")\n",
        "\n",
        "# 5. Review the get method\n",
        "print(\"\\nReviewing get method:\")\n",
        "print(\"- Calculates bucket index using hash_function: Correct.\")\n",
        "print(\"- Calls search on the linked list: Correct.\")\n",
        "print(\"- Returns value if found or 'Not found': Correct.\")\n",
        "\n",
        "# 6. Examine the put method\n",
        "print(\"\\nReviewing put method:\")\n",
        "print(\"- Calculates bucket index using hash_function: Correct.\")\n",
        "print(\"- Calls get_node_index to find if the key exists: Correct.\")\n",
        "print(\"- If node_index is -1 (not found), it calls add on the linked list and increments size: Correct.\")\n",
        "print(\"- If node_index is not -1 (found), it gets the node and updates its value: Correct.\")\n",
        "\n",
        "# 7. Review the rehash method\n",
        "print(\"\\nReviewing rehash method:\")\n",
        "print(\"- Doubles capacity: Correct.\")\n",
        "print(\"- Creates new buckets: Correct.\")\n",
        "print(\"- Resets size to 0: Correct.\")\n",
        "print(\"- Iterates through old buckets: Correct.\")\n",
        "print(\"- Iterates through nodes in each old linked list:\")\n",
        "print(\"  - ERROR: It calls `i.size()` which is not a method or attribute in the `ll` class. This will cause an error.\")\n",
        "print(\"  - It gets the node, key, and value: Correct.\")\n",
        "print(\"  - It calls put to re-insert into new buckets: Correct.\")\n",
        "\n",
        "# 8. Examine the get_node_index method\n",
        "print(\"\\nReviewing get_node_index method:\")\n",
        "print(\"- Calculates node index within the specified bucket using the search method of the linked list: Correct.\")\n",
        "\n",
        "# 9. Review the hash_function method\n",
        "print(\"\\nReviewing hash_function method:\")\n",
        "print(\"- Calculates hash of the key and takes the absolute value: Correct.\")\n",
        "print(\"- Uses modulo with capacity to get the bucket index: Correct.\")\n",
        "\n",
        "# 10. Identify errors and missing functionalities\n",
        "print(\"\\nIdentified Errors and Missing Functionalities:\")\n",
        "print(\"1. Incorrect special method names: `_setitem__` and `__getitem__` should be `__setitem__` and `__getitem__`.\")\n",
        "print(\"2. Dependency on missing `size()` method/attribute in `ll` class: The `rehash` method calls `i.size()` which does not exist in the `ll` class.\")\n",
        "print(\"3. Dependency on incorrect size decrement in `ll.remove`: The `__delitem__` method relies on `ll.remove` which attempts to decrement a non-existent `self.n`.\")\n",
        "\n",
        "# 11. Summarize correctness and list errors/improvements\n",
        "print(\"\\nSummary of Dictionary class review:\")\n",
        "print(\"- `__init__`, `make_array`, `get`, `put`, `get_node_index`, and `hash_function` methods are largely correct in their logic, assuming the underlying `ll` methods work as intended (with noted exceptions).\")\n",
        "print(\"- `__delitem__` is logically correct but relies on a flawed `ll.remove`.\")\n",
        "print(\"- `rehash` is logically correct but relies on a non-existent `ll.size()` method/attribute.\")\n",
        "print(\"- `_setitem__` and `__getitem__` are incorrectly named special methods.\")\n",
        "\n",
        "print(\"\\nErrors and Areas for Improvement:\")\n",
        "print(\"1. Rename `_setitem__` to `__setitem__` to enable dictionary-like item assignment (`D1[key] = value`).\")\n",
        "print(\"2. Rename `__getitem__` to `__getitem__` to enable dictionary-like item access (`D1[key]`).\")\n",
        "print(\"3. Modify the `ll` class to include a `size` attribute and update it correctly in `add` and `remove`. Correct `self.n` to `self.size` in `ll.remove`.\")\n",
        "print(\"4. Modify the `rehash` method to correctly get the size of the linked list in each bucket. This will require a `size` attribute/method in the `ll` class.\")"
      ],
      "execution_count": 29,
      "outputs": [
        {
          "output_type": "stream",
          "name": "stdout",
          "text": [
            "Reviewing __init__ method:\n",
            "- capacity is initialized correctly.\n",
            "- size is initialized correctly to 0.\n",
            "- buckets is initialized as a list using make_array with the specified capacity. This seems correct.\n",
            "\n",
            "Reviewing make_array method:\n",
            "- The method correctly creates a list of the given capacity.\n",
            "- Each element in the list is a new instance of the ll class. This is correct.\n",
            "\n",
            "Reviewing _setitem__ and __getitem__ methods:\n",
            "- ERROR: The method names are `_setitem__` and `__getitem__`.\n",
            "- These should be `__setitem__` and `__getitem__` (with two leading underscores) to function as special methods for item assignment and access using [] syntax.\n",
            "\n",
            "Reviewing __delitem__ method:\n",
            "- Calculates bucket index using hash_function: Correct.\n",
            "- Calls remove on the linked list in the bucket: Correct.\n",
            "- Decrements size: Correct.\n",
            "- Potential issue: The `remove` method in `ll` class attempts to decrement `self.n` which does not exist. This will cause an error when `__delitem__` is called.\n",
            "\n",
            "Reviewing get method:\n",
            "- Calculates bucket index using hash_function: Correct.\n",
            "- Calls search on the linked list: Correct.\n",
            "- Returns value if found or 'Not found': Correct.\n",
            "\n",
            "Reviewing put method:\n",
            "- Calculates bucket index using hash_function: Correct.\n",
            "- Calls get_node_index to find if the key exists: Correct.\n",
            "- If node_index is -1 (not found), it calls add on the linked list and increments size: Correct.\n",
            "- If node_index is not -1 (found), it gets the node and updates its value: Correct.\n",
            "\n",
            "Reviewing rehash method:\n",
            "- Doubles capacity: Correct.\n",
            "- Creates new buckets: Correct.\n",
            "- Resets size to 0: Correct.\n",
            "- Iterates through old buckets: Correct.\n",
            "- Iterates through nodes in each old linked list:\n",
            "  - ERROR: It calls `i.size()` which is not a method or attribute in the `ll` class. This will cause an error.\n",
            "  - It gets the node, key, and value: Correct.\n",
            "  - It calls put to re-insert into new buckets: Correct.\n",
            "\n",
            "Reviewing get_node_index method:\n",
            "- Calculates node index within the specified bucket using the search method of the linked list: Correct.\n",
            "\n",
            "Reviewing hash_function method:\n",
            "- Calculates hash of the key and takes the absolute value: Correct.\n",
            "- Uses modulo with capacity to get the bucket index: Correct.\n",
            "\n",
            "Identified Errors and Missing Functionalities:\n",
            "1. Incorrect special method names: `_setitem__` and `__getitem__` should be `__setitem__` and `__getitem__`.\n",
            "2. Dependency on missing `size()` method/attribute in `ll` class: The `rehash` method calls `i.size()` which does not exist in the `ll` class.\n",
            "3. Dependency on incorrect size decrement in `ll.remove`: The `__delitem__` method relies on `ll.remove` which attempts to decrement a non-existent `self.n`.\n",
            "\n",
            "Summary of Dictionary class review:\n",
            "- `__init__`, `make_array`, `get`, `put`, `get_node_index`, and `hash_function` methods are largely correct in their logic, assuming the underlying `ll` methods work as intended (with noted exceptions).\n",
            "- `__delitem__` is logically correct but relies on a flawed `ll.remove`.\n",
            "- `rehash` is logically correct but relies on a non-existent `ll.size()` method/attribute.\n",
            "- `_setitem__` and `__getitem__` are incorrectly named special methods.\n",
            "\n",
            "Errors and Areas for Improvement:\n",
            "1. Rename `_setitem__` to `__setitem__` to enable dictionary-like item assignment (`D1[key] = value`).\n",
            "2. Rename `__getitem__` to `__getitem__` to enable dictionary-like item access (`D1[key]`).\n",
            "3. Modify the `ll` class to include a `size` attribute and update it correctly in `add` and `remove`. Correct `self.n` to `self.size` in `ll.remove`.\n",
            "4. Modify the `rehash` method to correctly get the size of the linked list in each bucket. This will require a `size` attribute/method in the `ll` class.\n"
          ]
        }
      ]
    }
  ]
}