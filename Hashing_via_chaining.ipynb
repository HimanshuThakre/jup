{
  "nbformat": 4,
  "nbformat_minor": 0,
  "metadata": {
    "colab": {
      "provenance": [],
      "authorship_tag": "ABX9TyP/Wk49a9rooj66ybFxXvhB",
      "include_colab_link": true
    },
    "kernelspec": {
      "name": "python3",
      "display_name": "Python 3"
    },
    "language_info": {
      "name": "python"
    }
  },
  "cells": [
    {
      "cell_type": "markdown",
      "metadata": {
        "id": "view-in-github",
        "colab_type": "text"
      },
      "source": [
        "<a href=\"https://colab.research.google.com/github/HimanshuThakre/jup/blob/main/Hashing_via_chaining.ipynb\" target=\"_parent\"><img src=\"https://colab.research.google.com/assets/colab-badge.svg\" alt=\"Open In Colab\"/></a>"
      ]
    },
    {
      "cell_type": "code",
      "source": [
        "class Node:\n",
        "\n",
        "  def __init__(self,key,value):\n",
        "    self.key = key\n",
        "    self.value = value\n",
        "    self.next = None"
      ],
      "metadata": {
        "id": "fUxPbELS0Qie"
      },
      "execution_count": 45,
      "outputs": []
    },
    {
      "cell_type": "code",
      "execution_count": 46,
      "metadata": {
        "id": "pUdXUv6VysCc"
      },
      "outputs": [],
      "source": [
        "class ll:\n",
        "\n",
        "  def __init__(self):\n",
        "    #Emet linked list\n",
        "    self.head = None\n",
        "\n",
        "  def traverse(self):\n",
        "    curr = self.head\n",
        "    while curr != None:\n",
        "      print(curr.key,\"--->\",curr.value,\"  \",end='')\n",
        "      curr = curr.next\n",
        "    print()\n",
        "\n",
        "  def add(self,key,value):\n",
        "\n",
        "    new_node = Node(key, value)\n",
        "\n",
        "#empty\n",
        "    if self.head == None:\n",
        "      self.head = new_node\n",
        "    else:\n",
        "      curr = self.head\n",
        "      while curr.next != None:\n",
        "        curr = curr.next\n",
        "      curr.next = new_node\n",
        "\n",
        "  def delete_head(self):\n",
        "    if self.head == None:\n",
        "      return 'Empty'\n",
        "    else:\n",
        "      self.head = self.head.next\n",
        "  def remove(self,key):\n",
        "    #empty\n",
        "    if self.head == None:\n",
        "      return 'Empty'\n",
        "\n",
        "    if self.head.key == key:\n",
        "      # you want to remove the Head node\n",
        "      return self.delete_head()\n",
        "\n",
        "    curr = self.head\n",
        "\n",
        "    while curr.next != None:\n",
        "      if curr.next.key == key:\n",
        "        break\n",
        "      curr = curr.next\n",
        "    # 2 case item mil gaya\n",
        "    #Ite nia milam\n",
        "    if curr.next != None:\n",
        "      curr.next = curr.next.next\n",
        "      self.n = self.n - 1\n",
        "    else:\n",
        "      return 'Item not found'\n",
        "\n",
        "  def search(self,key):\n",
        "    curr = self.head\n",
        "    pos = 0\n",
        "    while curr != None:\n",
        "      if curr.key == key:\n",
        "        return pos\n",
        "      pos = pos + 1\n",
        "      curr = curr.next\n",
        "    return -1\n",
        "  def get_node_at_index(self,index):\n",
        "    curr = self.head\n",
        "    counter = 0\n",
        "\n",
        "    while curr is not None:\n",
        "      if counter == index:\n",
        "        return curr\n",
        "      counter = counter + 1\n",
        "      curr = curr.next\n",
        "    return None\n",
        "\n"
      ]
    },
    {
      "cell_type": "code",
      "source": [
        "class Dictionary:\n",
        "\n",
        "  def __init__(self, capacity):\n",
        "    self.capacity = capacity\n",
        "    self.size = 0\n",
        "    #create array of ll\n",
        "    self.buckets = self.make_array(self.capacity)\n",
        "  def make_array(self,capacity):\n",
        "    l=[]\n",
        "    for i in range(capacity):\n",
        "      l.append(ll())\n",
        "    return l\n",
        "\n",
        "  def put(self, key, value):\n",
        "\n",
        "    buck_index = self.hash_function(key)\n",
        "\n",
        "    node_index = self.get_node_index(buck_index,key)\n",
        "\n",
        "    if node_index == -1:\n",
        "      #insret\n",
        "      self.buckets[buck_index].add(key,value)\n",
        "      self.size = self.size + 1\n",
        "    else:\n",
        "      #update\n",
        "      node = self.buckets[buck_index].get_node_at_index(node_index)\n",
        "      node.value = value\n",
        "\n",
        "\n",
        "  def get_node_index(self,bucket_index,key):\n",
        "\n",
        "    node_index = self.buckets[bucket_index].search(key)\n",
        "\n",
        "    return node_index\n",
        "\n",
        "\n",
        "  def hash_function(self,key):\n",
        "    return abs(hash(key)) % self.capacity"
      ],
      "metadata": {
        "id": "LHbaHO5mLIPm"
      },
      "execution_count": 47,
      "outputs": []
    },
    {
      "cell_type": "code",
      "source": [
        "l = []\n",
        "\n",
        "for i in range(3):\n",
        "  l.append(ll())"
      ],
      "metadata": {
        "id": "wGPBNEjqNd8j"
      },
      "execution_count": null,
      "outputs": []
    },
    {
      "cell_type": "code",
      "source": [
        "l"
      ],
      "metadata": {
        "colab": {
          "base_uri": "https://localhost:8080/"
        },
        "id": "isvT63ONOx3L",
        "outputId": "6ed7250a-f880-48f9-c189-0335dd72f060"
      },
      "execution_count": null,
      "outputs": [
        {
          "output_type": "execute_result",
          "data": {
            "text/plain": [
              "[<__main__.ll at 0x7c11ca0a4690>,\n",
              " <__main__.ll at 0x7c11ca11cc10>,\n",
              " <__main__.ll at 0x7c11ca11cbd0>]"
            ]
          },
          "metadata": {},
          "execution_count": 12
        }
      ]
    },
    {
      "cell_type": "code",
      "source": [
        "type(l[0])"
      ],
      "metadata": {
        "colab": {
          "base_uri": "https://localhost:8080/",
          "height": 103
        },
        "id": "z-9033zQOz--",
        "outputId": "84181df9-8db7-49a1-e835-5bd6fe0ddfcb"
      },
      "execution_count": null,
      "outputs": [
        {
          "output_type": "execute_result",
          "data": {
            "text/plain": [
              "__main__.ll"
            ],
            "text/html": [
              "<div style=\"max-width:800px; border: 1px solid var(--colab-border-color);\"><style>\n",
              "      pre.function-repr-contents {\n",
              "        overflow-x: auto;\n",
              "        padding: 8px 12px;\n",
              "        max-height: 500px;\n",
              "      }\n",
              "\n",
              "      pre.function-repr-contents.function-repr-contents-collapsed {\n",
              "        cursor: pointer;\n",
              "        max-height: 100px;\n",
              "      }\n",
              "    </style>\n",
              "    <pre style=\"white-space: initial; background:\n",
              "         var(--colab-secondary-surface-color); padding: 8px 12px;\n",
              "         border-bottom: 1px solid var(--colab-border-color);\"><b>ll</b><br/>def __init__()</pre><pre class=\"function-repr-contents function-repr-contents-collapsed\" style=\"\"><a class=\"filepath\" style=\"display:none\" href=\"#\"></a>&lt;no docstring&gt;</pre></div>"
            ]
          },
          "metadata": {},
          "execution_count": 14
        }
      ]
    },
    {
      "cell_type": "code",
      "source": [
        "l"
      ],
      "metadata": {
        "colab": {
          "base_uri": "https://localhost:8080/"
        },
        "id": "iG-p1s69Pimb",
        "outputId": "ae917af7-ef96-4dcd-f2e0-9240bb64144f"
      },
      "execution_count": null,
      "outputs": [
        {
          "output_type": "execute_result",
          "data": {
            "text/plain": [
              "[<__main__.ll at 0x7c11ca11c950>,\n",
              " <__main__.ll at 0x7c11ca11c950>,\n",
              " <__main__.ll at 0x7c11ca11c950>]"
            ]
          },
          "metadata": {},
          "execution_count": 16
        }
      ]
    },
    {
      "cell_type": "code",
      "source": [
        "l = [ll()] *3 #not give right r"
      ],
      "metadata": {
        "id": "vm5K__xkPHVY"
      },
      "execution_count": null,
      "outputs": []
    },
    {
      "cell_type": "code",
      "source": [
        "l = ll()"
      ],
      "metadata": {
        "id": "QoQl8vkt-RUU"
      },
      "execution_count": 23,
      "outputs": []
    },
    {
      "cell_type": "code",
      "source": [
        "l.add(4,5)"
      ],
      "metadata": {
        "id": "w5jX-o6z-VVo"
      },
      "execution_count": 25,
      "outputs": []
    },
    {
      "cell_type": "code",
      "source": [
        "l.add(2,3)"
      ],
      "metadata": {
        "id": "WVywWwL4-Yh5"
      },
      "execution_count": 24,
      "outputs": []
    },
    {
      "cell_type": "code",
      "source": [
        "l.add(6,7)"
      ],
      "metadata": {
        "id": "uH8IKZlU-bhN"
      },
      "execution_count": 26,
      "outputs": []
    },
    {
      "cell_type": "code",
      "source": [
        "l.traverse()"
      ],
      "metadata": {
        "colab": {
          "base_uri": "https://localhost:8080/"
        },
        "id": "dCKxMEWe-0h3",
        "outputId": "fff594f7-bd2e-42ee-eecd-b0749ee65cae"
      },
      "execution_count": 27,
      "outputs": [
        {
          "output_type": "stream",
          "name": "stdout",
          "text": [
            "2 ---> 3   4 ---> 5   6 ---> 7   \n"
          ]
        }
      ]
    },
    {
      "cell_type": "code",
      "source": [
        "l.get_node_at_index(2).key"
      ],
      "metadata": {
        "colab": {
          "base_uri": "https://localhost:8080/"
        },
        "id": "5mUahZga_K0L",
        "outputId": "daff4512-038f-4f05-8546-0cd62096e5a3"
      },
      "execution_count": 30,
      "outputs": [
        {
          "output_type": "execute_result",
          "data": {
            "text/plain": [
              "6"
            ]
          },
          "metadata": {},
          "execution_count": 30
        }
      ]
    },
    {
      "cell_type": "code",
      "source": [
        "D1 = Dictionary(4)"
      ],
      "metadata": {
        "id": "hrIspz4S_4gN"
      },
      "execution_count": 48,
      "outputs": []
    },
    {
      "cell_type": "code",
      "source": [
        "D1.put(\"python\",34)"
      ],
      "metadata": {
        "id": "Gci7ufstA-go"
      },
      "execution_count": 49,
      "outputs": []
    },
    {
      "cell_type": "code",
      "source": [
        "D1.put(\"java\",1000)"
      ],
      "metadata": {
        "id": "5Zpe6L4nCtvc"
      },
      "execution_count": 61,
      "outputs": []
    },
    {
      "cell_type": "code",
      "source": [
        "D1.put(\"c\",100)\n"
      ],
      "metadata": {
        "id": "IqVoykrEDCcq"
      },
      "execution_count": 63,
      "outputs": []
    },
    {
      "cell_type": "code",
      "source": [
        "D1.put(\"c+\",1003233400)"
      ],
      "metadata": {
        "id": "U9gKZ_MoDG_w"
      },
      "execution_count": 76,
      "outputs": []
    },
    {
      "cell_type": "code",
      "source": [
        "D1.put(\"rrb\",20)"
      ],
      "metadata": {
        "id": "gHke0ygoDMCo"
      },
      "execution_count": 74,
      "outputs": []
    },
    {
      "cell_type": "code",
      "source": [
        "D1.buckets"
      ],
      "metadata": {
        "colab": {
          "base_uri": "https://localhost:8080/"
        },
        "id": "wJT4WpClCVLb",
        "outputId": "fea8ab1f-6fc3-47b8-c79b-41733de6ef50"
      },
      "execution_count": 56,
      "outputs": [
        {
          "output_type": "execute_result",
          "data": {
            "text/plain": [
              "[<__main__.ll at 0x7d1a4d020950>,\n",
              " <__main__.ll at 0x7d1a4d020750>,\n",
              " <__main__.ll at 0x7d1a4d020150>,\n",
              " <__main__.ll at 0x7d1a4d020b50>]"
            ]
          },
          "metadata": {},
          "execution_count": 56
        }
      ]
    },
    {
      "cell_type": "code",
      "source": [
        "D1.buckets[1].traverse()"
      ],
      "metadata": {
        "colab": {
          "base_uri": "https://localhost:8080/"
        },
        "id": "BWPR-cIXCcC3",
        "outputId": "829f8b1c-cb14-4658-a281-461980a84ab3"
      },
      "execution_count": 79,
      "outputs": [
        {
          "output_type": "stream",
          "name": "stdout",
          "text": [
            "c+ ---> 1003233400   \n"
          ]
        }
      ]
    }
  ]
}