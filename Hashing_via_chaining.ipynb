{
  "nbformat": 4,
  "nbformat_minor": 0,
  "metadata": {
    "colab": {
      "provenance": [],
      "authorship_tag": "ABX9TyNbjjI73VcaRGLWRlMICKds",
      "include_colab_link": true
    },
    "kernelspec": {
      "name": "python3",
      "display_name": "Python 3"
    },
    "language_info": {
      "name": "python"
    }
  },
  "cells": [
    {
      "cell_type": "markdown",
      "metadata": {
        "id": "view-in-github",
        "colab_type": "text"
      },
      "source": [
        "<a href=\"https://colab.research.google.com/github/HimanshuThakre/jup/blob/main/Hashing_via_chaining.ipynb\" target=\"_parent\"><img src=\"https://colab.research.google.com/assets/colab-badge.svg\" alt=\"Open In Colab\"/></a>"
      ]
    },
    {
      "cell_type": "code",
      "source": [
        "class Node:\n",
        "\n",
        "  def __init__(self,key,value):\n",
        "    self.key = key\n",
        "    self.value = value\n",
        "    self.next = None\n",
        "\n"
      ],
      "metadata": {
        "id": "fUxPbELS0Qie"
      },
      "execution_count": null,
      "outputs": []
    },
    {
      "cell_type": "code",
      "execution_count": null,
      "metadata": {
        "id": "pUdXUv6VysCc"
      },
      "outputs": [],
      "source": [
        "class ll:\n",
        "\n",
        "  def __init__(self):\n",
        "    #Emet linked list\n",
        "    self.head = None\n",
        "    # no of nodes in the ll\n",
        "\n",
        "\n",
        "  def traverse(self):\n",
        "    curr = self.head\n",
        "    while curr != None:\n",
        "      print(curr.data,end='')\n",
        "      curr = curr.next\n",
        "    print()\n",
        "\n",
        "\n",
        "\n",
        "\n",
        "  def add(self,value):\n",
        "\n",
        "    new_node = Node(key, value)\n",
        "\n",
        "#empty\n",
        "    if self.head == None:\n",
        "      self.head = new_node\n",
        "    else:\n",
        "      curr = self.head\n",
        "      while curr.next != None:\n",
        "        curr = curr.next\n",
        "      curr.next = new_node\n",
        "\n",
        "  def delete_head(self):\n",
        "    if self.head == None:\n",
        "      return 'Empty'\n",
        "    else:\n",
        "      self.head = self.head.next\n",
        "  def remove(self,key):\n",
        "    #empty\n",
        "    if self.head == None:\n",
        "      return 'Empty'\n",
        "\n",
        "    if self.head.key == key:\n",
        "      # you want to remove the Head node\n",
        "      return self.delete_head()\n",
        "\n",
        "    curr = self.head\n",
        "\n",
        "    while curr.next != None:\n",
        "      if curr.next.data == value:\n",
        "        break\n",
        "      curr = curr.next\n",
        "    # 2 case item mil gaya\n",
        "    #Ite nia milam\n",
        "    if curr.next != None:\n",
        "      curr.next = curr.next.next\n",
        "      self.n = self.n - 1\n",
        "    else:\n",
        "      return 'Item not found'\n",
        "\n",
        "  def search(self,item):\n",
        "    curr = self.head\n",
        "    pos = 0\n",
        "    while curr != None:\n",
        "      if curr.data == item:\n",
        "        return pos\n",
        "      pos = pos + 1\n",
        "      curr = curr.next\n",
        "    return 'Item not found'\n"
      ]
    }
  ]
}