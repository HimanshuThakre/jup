{
  "nbformat": 4,
  "nbformat_minor": 0,
  "metadata": {
    "colab": {
      "provenance": [],
      "authorship_tag": "ABX9TyMwvwHtzqgL4S088u6T+JjL",
      "include_colab_link": true
    },
    "kernelspec": {
      "name": "python3",
      "display_name": "Python 3"
    },
    "language_info": {
      "name": "python"
    }
  },
  "cells": [
    {
      "cell_type": "markdown",
      "metadata": {
        "id": "view-in-github",
        "colab_type": "text"
      },
      "source": [
        "<a href=\"https://colab.research.google.com/github/HimanshuThakre/jup/blob/main/Hashing_via_chaining.ipynb\" target=\"_parent\"><img src=\"https://colab.research.google.com/assets/colab-badge.svg\" alt=\"Open In Colab\"/></a>"
      ]
    },
    {
      "cell_type": "code",
      "source": [
        "class Node:\n",
        "\n",
        "  def __init__(self,key,value):\n",
        "    self.key = key\n",
        "    self.value = value\n",
        "    self.next = None"
      ],
      "metadata": {
        "id": "fUxPbELS0Qie"
      },
      "execution_count": 3,
      "outputs": []
    },
    {
      "cell_type": "code",
      "execution_count": 4,
      "metadata": {
        "id": "pUdXUv6VysCc"
      },
      "outputs": [],
      "source": [
        "class ll:\n",
        "\n",
        "  def __init__(self):\n",
        "    #Emet linked list\n",
        "    self.head = None\n",
        "    # no of nodes in the ll\n",
        "\n",
        "\n",
        "  def traverse(self):\n",
        "    curr = self.head\n",
        "    while curr != None:\n",
        "      print(curr.key,\"--->\",temp.value,\"  \",end='')\n",
        "      curr = curr.next\n",
        "    print()\n",
        "\n",
        "\n",
        "\n",
        "\n",
        "  def add(self,value):\n",
        "\n",
        "    new_node = Node(key, value)\n",
        "\n",
        "#empty\n",
        "    if self.head == None:\n",
        "      self.head = new_node\n",
        "    else:\n",
        "      curr = self.head\n",
        "      while curr.next != None:\n",
        "        curr = curr.next\n",
        "      curr.next = new_node\n",
        "\n",
        "  def delete_head(self):\n",
        "    if self.head == None:\n",
        "      return 'Empty'\n",
        "    else:\n",
        "      self.head = self.head.next\n",
        "  def remove(self,key):\n",
        "    #empty\n",
        "    if self.head == None:\n",
        "      return 'Empty'\n",
        "\n",
        "    if self.head.key == key:\n",
        "      # you want to remove the Head node\n",
        "      return self.delete_head()\n",
        "\n",
        "    curr = self.head\n",
        "\n",
        "    while curr.next != None:\n",
        "      if curr.next.key == key:\n",
        "        break\n",
        "      curr = curr.next\n",
        "    # 2 case item mil gaya\n",
        "    #Ite nia milam\n",
        "    if curr.next != None:\n",
        "      curr.next = curr.next.next\n",
        "      self.n = self.n - 1\n",
        "    else:\n",
        "      return 'Item not found'\n",
        "\n",
        "  def search(self,key):\n",
        "    curr = self.head\n",
        "    pos = 0\n",
        "    while curr != None:\n",
        "      if curr.key == key:\n",
        "        return pos\n",
        "      pos = pos + 1\n",
        "      curr = curr.next\n",
        "    return -1"
      ]
    },
    {
      "cell_type": "code",
      "source": [
        "class Dictionary:\n",
        "\n",
        "  def __init__(self, capacity):\n",
        "    self.capacity = capacity\n",
        "    self.size = 0\n",
        "    #create array of ll\n",
        "    self.buckets = self.make_array(self.capacity)\n",
        "  def make_array(self,capacity):\n",
        "    l=[]\n",
        "    for i in range(capacity):\n",
        "      l.append(ll())\n",
        "    return l"
      ],
      "metadata": {
        "id": "LHbaHO5mLIPm"
      },
      "execution_count": 7,
      "outputs": []
    },
    {
      "cell_type": "code",
      "source": [
        "l = []\n",
        "\n",
        "for i in range(3):\n",
        "  l.append(ll())"
      ],
      "metadata": {
        "id": "wGPBNEjqNd8j"
      },
      "execution_count": 11,
      "outputs": []
    },
    {
      "cell_type": "code",
      "source": [
        "l"
      ],
      "metadata": {
        "colab": {
          "base_uri": "https://localhost:8080/"
        },
        "id": "isvT63ONOx3L",
        "outputId": "6ed7250a-f880-48f9-c189-0335dd72f060"
      },
      "execution_count": 12,
      "outputs": [
        {
          "output_type": "execute_result",
          "data": {
            "text/plain": [
              "[<__main__.ll at 0x7c11ca0a4690>,\n",
              " <__main__.ll at 0x7c11ca11cc10>,\n",
              " <__main__.ll at 0x7c11ca11cbd0>]"
            ]
          },
          "metadata": {},
          "execution_count": 12
        }
      ]
    },
    {
      "cell_type": "code",
      "source": [
        "type(l[0])"
      ],
      "metadata": {
        "colab": {
          "base_uri": "https://localhost:8080/",
          "height": 103
        },
        "id": "z-9033zQOz--",
        "outputId": "84181df9-8db7-49a1-e835-5bd6fe0ddfcb"
      },
      "execution_count": 14,
      "outputs": [
        {
          "output_type": "execute_result",
          "data": {
            "text/plain": [
              "__main__.ll"
            ],
            "text/html": [
              "<div style=\"max-width:800px; border: 1px solid var(--colab-border-color);\"><style>\n",
              "      pre.function-repr-contents {\n",
              "        overflow-x: auto;\n",
              "        padding: 8px 12px;\n",
              "        max-height: 500px;\n",
              "      }\n",
              "\n",
              "      pre.function-repr-contents.function-repr-contents-collapsed {\n",
              "        cursor: pointer;\n",
              "        max-height: 100px;\n",
              "      }\n",
              "    </style>\n",
              "    <pre style=\"white-space: initial; background:\n",
              "         var(--colab-secondary-surface-color); padding: 8px 12px;\n",
              "         border-bottom: 1px solid var(--colab-border-color);\"><b>ll</b><br/>def __init__()</pre><pre class=\"function-repr-contents function-repr-contents-collapsed\" style=\"\"><a class=\"filepath\" style=\"display:none\" href=\"#\"></a>&lt;no docstring&gt;</pre></div>"
            ]
          },
          "metadata": {},
          "execution_count": 14
        }
      ]
    },
    {
      "cell_type": "code",
      "source": [
        "l"
      ],
      "metadata": {
        "colab": {
          "base_uri": "https://localhost:8080/"
        },
        "id": "iG-p1s69Pimb",
        "outputId": "ae917af7-ef96-4dcd-f2e0-9240bb64144f"
      },
      "execution_count": 16,
      "outputs": [
        {
          "output_type": "execute_result",
          "data": {
            "text/plain": [
              "[<__main__.ll at 0x7c11ca11c950>,\n",
              " <__main__.ll at 0x7c11ca11c950>,\n",
              " <__main__.ll at 0x7c11ca11c950>]"
            ]
          },
          "metadata": {},
          "execution_count": 16
        }
      ]
    },
    {
      "cell_type": "code",
      "source": [
        "l = [ll()] *3 #not give right r"
      ],
      "metadata": {
        "id": "vm5K__xkPHVY"
      },
      "execution_count": 15,
      "outputs": []
    }
  ]
}