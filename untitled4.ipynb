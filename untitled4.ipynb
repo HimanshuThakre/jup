{
  "nbformat": 4,
  "nbformat_minor": 0,
  "metadata": {
    "colab": {
      "provenance": [],
      "authorship_tag": "ABX9TyPsEgeYGejrduxkLa6vxuo+",
      "include_colab_link": true
    },
    "kernelspec": {
      "name": "python3",
      "display_name": "Python 3"
    },
    "language_info": {
      "name": "python"
    }
  },
  "cells": [
    {
      "cell_type": "markdown",
      "metadata": {
        "id": "view-in-github",
        "colab_type": "text"
      },
      "source": [
        "<a href=\"https://colab.research.google.com/github/HimanshuThakre/jup/blob/main/untitled4.ipynb\" target=\"_parent\"><img src=\"https://colab.research.google.com/assets/colab-badge.svg\" alt=\"Open In Colab\"/></a>"
      ]
    },
    {
      "cell_type": "code",
      "source": [
        "class Node:\n",
        "\n",
        "  def __init__(self,value):\n",
        "    self.data = value\n",
        "    self.next = None"
      ],
      "metadata": {
        "id": "zWS1b3ILbauA"
      },
      "execution_count": null,
      "outputs": []
    },
    {
      "cell_type": "code",
      "source": [
        "class Stack:\n",
        "\n",
        "  def __init__(self) :\n",
        "    self.top = None\n",
        "    self._size = 0  # Add size attribute\n",
        "\n",
        "  def isempty(self):\n",
        "    return self.top == None\n",
        "\n",
        "  def push(self,value):\n",
        "\n",
        "    new_node = Node(value)\n",
        "\n",
        "    new_node.next = self.top\n",
        "\n",
        "    self.top = new_node\n",
        "    self._size += 1 # Increment size on push\n",
        "\n",
        "  def peek(self):\n",
        "    if(self.isempty()):\n",
        "      return \"stack Empty\"\n",
        "    else:\n",
        "      return self.top.data\n",
        "\n",
        "  def pop(self):\n",
        "\n",
        "    if(self.isempty()):\n",
        "      return \"stack Empty\"\n",
        "    else:\n",
        "      data = self.top.data\n",
        "      self.top = self.top.next\n",
        "      self._size -= 1 # Decrement size on pop\n",
        "      return data\n",
        "\n",
        "  def size(self): # Add size method\n",
        "    return self._size\n",
        "\n",
        "\n",
        "  def traverse(self):\n",
        "     temp = self.top\n",
        "\n",
        "     while temp != None:\n",
        "\n",
        "      print(temp.data)\n",
        "      temp = temp.next"
      ],
      "metadata": {
        "id": "RrzPHdo-dR_a"
      },
      "execution_count": null,
      "outputs": []
    },
    {
      "cell_type": "code",
      "source": [
        "def reverse_string(text):\n",
        "\n",
        "  s = Stack()\n",
        "\n",
        "  for i in text:\n",
        "    s.push(i)\n",
        "\n",
        "  res = \"\"\n",
        "\n",
        "  while(not s.isempty()):\n",
        "    res = res + s.pop()\n",
        "\n",
        "  print(res)"
      ],
      "metadata": {
        "id": "cYcHFHARrrNU"
      },
      "execution_count": null,
      "outputs": []
    },
    {
      "cell_type": "code",
      "source": [
        "reverse_string(\"hello\")"
      ],
      "metadata": {
        "colab": {
          "base_uri": "https://localhost:8080/"
        },
        "id": "LwxER0XxtEl3",
        "outputId": "22552fcc-34c9-4907-923e-1ed1ec44da89"
      },
      "execution_count": null,
      "outputs": [
        {
          "output_type": "stream",
          "name": "stdout",
          "text": [
            "olleh\n"
          ]
        }
      ]
    },
    {
      "cell_type": "code",
      "source": [
        "def text_editor(text,pattern):\n",
        "\n",
        "  u = Stack()\n",
        "  r = Stack()\n",
        "  for i in text:\n",
        "    u.push(i)\n",
        "\n",
        "  for i in pattern:\n",
        "\n",
        "    if i == 'u':\n",
        "      data = u.pop()\n",
        "      r.push(data)\n",
        "    else:\n",
        "      data= r.pop()\n",
        "      u.push(data)\n",
        "\n",
        "  res = \"\"\n",
        "\n",
        "  while(not u.isempty()):\n",
        "    res = u.pop() + res\n",
        "\n",
        "  print(res)\n",
        "\n",
        "\n",
        "\n"
      ],
      "metadata": {
        "id": "8rvgd0fyZqnI"
      },
      "execution_count": null,
      "outputs": []
    },
    {
      "cell_type": "code",
      "source": [
        "text_editor(\"hello\",\"uruuruuruur\")"
      ],
      "metadata": {
        "colab": {
          "base_uri": "https://localhost:8080/"
        },
        "id": "KspKA2zfrxOt",
        "outputId": "7644d448-234a-401e-e820-d88057160928"
      },
      "execution_count": null,
      "outputs": [
        {
          "output_type": "stream",
          "name": "stdout",
          "text": [
            "he\n"
          ]
        }
      ]
    },
    {
      "cell_type": "code",
      "source": [
        "s = Stack()"
      ],
      "metadata": {
        "id": "K4xhsJg6f47i"
      },
      "execution_count": null,
      "outputs": []
    },
    {
      "cell_type": "code",
      "source": [
        "s.isempty()"
      ],
      "metadata": {
        "id": "EqOLaNzNfmp1",
        "colab": {
          "base_uri": "https://localhost:8080/"
        },
        "outputId": "f285bcae-8971-40d1-a152-e55a77f5e713"
      },
      "execution_count": null,
      "outputs": [
        {
          "output_type": "execute_result",
          "data": {
            "text/plain": [
              "True"
            ]
          },
          "metadata": {},
          "execution_count": 27
        }
      ]
    },
    {
      "cell_type": "markdown",
      "source": [],
      "metadata": {
        "id": "Tu9An2JTVYe3"
      }
    },
    {
      "cell_type": "code",
      "execution_count": null,
      "metadata": {
        "id": "AMbjr2rTTn8p"
      },
      "outputs": [],
      "source": [
        "s.push(1)\n",
        "s.push(2)\n",
        "s.push(3)\n",
        "s.push(4)\n",
        "s.push(5)"
      ]
    },
    {
      "cell_type": "code",
      "source": [
        "s.traverse()"
      ],
      "metadata": {
        "id": "zDauckgrXpyb",
        "colab": {
          "base_uri": "https://localhost:8080/"
        },
        "outputId": "0ec8430d-081b-4c4d-c9fb-935fe5e7936f"
      },
      "execution_count": null,
      "outputs": [
        {
          "output_type": "stream",
          "name": "stdout",
          "text": [
            "5\n",
            "4\n",
            "3\n",
            "2\n",
            "1\n"
          ]
        }
      ]
    },
    {
      "cell_type": "code",
      "source": [
        "s.peek()"
      ],
      "metadata": {
        "colab": {
          "base_uri": "https://localhost:8080/",
          "height": 35
        },
        "id": "9rK4JZBG-Hvv",
        "outputId": "5f435848-3c03-4f86-db85-70bb42ef43e4"
      },
      "execution_count": null,
      "outputs": [
        {
          "output_type": "execute_result",
          "data": {
            "text/plain": [
              "'stack Empty'"
            ],
            "application/vnd.google.colaboratory.intrinsic+json": {
              "type": "string"
            }
          },
          "metadata": {},
          "execution_count": 40
        }
      ]
    },
    {
      "cell_type": "code",
      "source": [
        "s.pop()\n"
      ],
      "metadata": {
        "id": "fDhUmgNe-CLR"
      },
      "execution_count": null,
      "outputs": []
    },
    {
      "cell_type": "code",
      "source": [
        "L = [\n",
        "    [0,0,1,1],\n",
        "    [0,0,1,0],\n",
        "    [1,0,0,0],\n",
        "    [0,0,1,0]\n",
        "]"
      ],
      "metadata": {
        "id": "UWI61h8Z5HrL"
      },
      "execution_count": null,
      "outputs": []
    },
    {
      "cell_type": "code",
      "source": [
        "def find_the_celeb(L):\n",
        "  s = Stack()\n",
        "\n",
        "  for i in range(len(L)):\n",
        "    s.push(i)\n",
        "\n",
        "  while s.size() >= 2:\n",
        "\n",
        "    i = s.pop()\n",
        "    j = s.pop()\n",
        "\n",
        "    if L[i][j] == 0:\n",
        "      # j is not a celebr\n",
        "      s.push(i)\n",
        "    else:\n",
        "      # i is not a celeb\n",
        "      s.push(j)\n",
        "  celeb = s.pop()\n",
        "\n",
        "  for i in range(len(L)):\n",
        "\n",
        "    if i != celeb:\n",
        "      if L[i][celeb] == 0 or L[celeb][i] == 1:\n",
        "        print(\"No one is a celebrity\")\n",
        "        return\n",
        "  print(\"The celebrity is\",celeb)\n",
        "\n"
      ],
      "metadata": {
        "id": "qcWkRQBeZoIB"
      },
      "execution_count": null,
      "outputs": []
    },
    {
      "cell_type": "code",
      "source": [
        "L[0][3]"
      ],
      "metadata": {
        "colab": {
          "base_uri": "https://localhost:8080/"
        },
        "id": "89KDX4mvq3JB",
        "outputId": "0ff0f150-2312-48e7-dfb3-ebe8555f8741"
      },
      "execution_count": null,
      "outputs": [
        {
          "output_type": "execute_result",
          "data": {
            "text/plain": [
              "1"
            ]
          },
          "metadata": {},
          "execution_count": 29
        }
      ]
    },
    {
      "cell_type": "code",
      "source": [
        "find_the_celeb(L)"
      ],
      "metadata": {
        "id": "DYO5mRbF5lsV",
        "colab": {
          "base_uri": "https://localhost:8080/"
        },
        "outputId": "87eb558a-3d11-4444-a491-d1346f1a1e42"
      },
      "execution_count": null,
      "outputs": [
        {
          "output_type": "stream",
          "name": "stdout",
          "text": [
            "No one is a celebrity\n"
          ]
        }
      ]
    },
    {
      "cell_type": "code",
      "source": [],
      "metadata": {
        "id": "SE3O2VViq-7a"
      },
      "execution_count": null,
      "outputs": []
    }
  ]
}