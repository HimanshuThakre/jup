{
  "nbformat": 4,
  "nbformat_minor": 0,
  "metadata": {
    "colab": {
      "provenance": [],
      "authorship_tag": "ABX9TyOwjtRf0Dwu6lX16L3JmyIZ",
      "include_colab_link": true
    },
    "kernelspec": {
      "name": "python3",
      "display_name": "Python 3"
    },
    "language_info": {
      "name": "python"
    }
  },
  "cells": [
    {
      "cell_type": "markdown",
      "metadata": {
        "id": "view-in-github",
        "colab_type": "text"
      },
      "source": [
        "<a href=\"https://colab.research.google.com/github/HimanshuThakre/jup/blob/main/Untitled1.ipynb\" target=\"_parent\"><img src=\"https://colab.research.google.com/assets/colab-badge.svg\" alt=\"Open In Colab\"/></a>"
      ]
    },
    {
      "cell_type": "code",
      "execution_count": 8,
      "metadata": {
        "id": "lsKGNVzLKX4C"
      },
      "outputs": [],
      "source": [
        "import ctypes"
      ]
    },
    {
      "cell_type": "code",
      "source": [
        "class MeraList:\n",
        "  def __init__(self):\n",
        "    self.size = 1\n",
        "    self.n = 0\n",
        "    # create a ctype array with size =  self.size\n",
        "    self.A = self.__make_array(self.size)\n",
        "\n",
        "  def __len__(self):\n",
        "    return self.n\n",
        "\n",
        "  def __str__(self):\n",
        "    result = ''\n",
        "    for i in range(self.n):\n",
        "      result = result + str(self.A[i]) + ','\n",
        "    return '[' + result[:-1] + ']'\n",
        "\n",
        "  def __getitem__(self,index):\n",
        "    if 0 <= index < self.n:\n",
        "      return self.A[index]\n",
        "    else:\n",
        "      return 'IndexError: Index out of range'\n",
        "\n",
        "  def __delitem__(self,pos):\n",
        "    #delete\n",
        "    if 0 <= pos < self.n:\n",
        "      for i in range(pos,self.n-1):\n",
        "        self.A[i] = self.A[i+1]\n",
        "      self.n = self.n - 1\n",
        "\n",
        "    def remove (self,item):\n",
        "      pos = self.find(item)\n",
        "      if type(pos) == int:\n",
        "        self.__delitem__(pos)\n",
        "      else:\n",
        "        return pos\n",
        "\n",
        "\n",
        "\n",
        "\n",
        "  def append(self,item):\n",
        "    if self.n == self.size:\n",
        "      #resize\n",
        "      self.__resize(self.size*2)\n",
        "    #append\n",
        "    self.A[self.n] = item\n",
        "    self.n = self.n + 1\n",
        "\n",
        "\n",
        "\n",
        "\n",
        "\n",
        "\n",
        "\n",
        "  def __resize(self,new_capacity):\n",
        "    # create a new new array with new capacity\n",
        "    B = self.__make_array(new_capacity)\n",
        "    self.size = new_capacity\n",
        "    # copy the content of ato b\n",
        "    for i in range(self.n):\n",
        "      B[i] = self.A[i]\n",
        "    #reassign A\n",
        "    self.A = B\n",
        "\n",
        "  def pop(self):\n",
        "    if self.n == 0:\n",
        "      return 'Empty List'\n",
        "    print(self.A[self.n-1])\n",
        "    self.n = self.n - 1\n",
        "\n",
        "  def clear(self):\n",
        "    self.n = 0\n",
        "    self.size = 1\n",
        "\n",
        "  def find(self,item):\n",
        "    for i in range(self.n):\n",
        "      if self.A[i] == item:\n",
        "        return i\n",
        "    return 'ValueError: Not in List'\n",
        "\n",
        "  def insert(self,pos,item):\n",
        "    if self.n == self.size:\n",
        "      self.__resize(self.size*2)\n",
        "    for i in range(self.n,pos,-1):\n",
        "      self.A[i] = self.A[i-1]\n",
        "\n",
        "      self.A[pos] = item\n",
        "    self.n = self.n + 1\n",
        "\n",
        "  def remove(self,item):\n",
        "    pos=self.find(item)\n",
        "\n",
        "    if type(pos) == int:\n",
        "     self.__delitem__(pos)\n",
        "    else:\n",
        "      return pos\n",
        "  def miniMaxSum(arr):\n",
        "    min=max=arr[0]\n",
        "    sum=0\n",
        "    for i in range(len(arr)):\n",
        "        sum+=arr[i]\n",
        "        if arr[i]<min:\n",
        "            min=arr[i]\n",
        "        if arr[i]>max:\n",
        "            max=arr[i]\n",
        "\n",
        "\n",
        "\n",
        "\n",
        "\n",
        "\n",
        "\n",
        "\n",
        "\n",
        "\n",
        "  def __make_array(self,capacity):\n",
        "    #crreates a C tpype array(static, referential) with size capacity\n",
        "    return(capacity * ctypes.py_object)()"
      ],
      "metadata": {
        "id": "3xLySOPVTC0W"
      },
      "execution_count": 63,
      "outputs": []
    },
    {
      "cell_type": "code",
      "source": [
        "L = MeraList()"
      ],
      "metadata": {
        "id": "K-XpEpvZW3iv"
      },
      "execution_count": 57,
      "outputs": []
    },
    {
      "cell_type": "code",
      "source": [
        "L.append(1)\n",
        "L.append(2)\n",
        "L.append(3)\n",
        "L.append(4)\n",
        "L.append(5)"
      ],
      "metadata": {
        "id": "KBRUQx0MYEMj"
      },
      "execution_count": 58,
      "outputs": []
    },
    {
      "cell_type": "code",
      "source": [
        "len(L)"
      ],
      "metadata": {
        "colab": {
          "base_uri": "https://localhost:8080/"
        },
        "id": "Y0-zc5_1W3fK",
        "outputId": "2c19eb3b-fc5c-4173-a27d-f436399c9592"
      },
      "execution_count": 44,
      "outputs": [
        {
          "output_type": "execute_result",
          "data": {
            "text/plain": [
              "5"
            ]
          },
          "metadata": {},
          "execution_count": 44
        }
      ]
    },
    {
      "cell_type": "code",
      "source": [
        "L.remove(5)"
      ],
      "metadata": {
        "id": "fd5unjsWlCqb"
      },
      "execution_count": 61,
      "outputs": []
    },
    {
      "cell_type": "code",
      "source": [
        "del L[4]"
      ],
      "metadata": {
        "id": "ek3LPAmOjCir"
      },
      "execution_count": 52,
      "outputs": []
    },
    {
      "cell_type": "code",
      "source": [
        "L.insert(4,'mj')"
      ],
      "metadata": {
        "id": "fMRd-UI0gOMk"
      },
      "execution_count": 46,
      "outputs": []
    },
    {
      "cell_type": "code",
      "source": [
        "print(L)"
      ],
      "metadata": {
        "colab": {
          "base_uri": "https://localhost:8080/"
        },
        "id": "fBlEa8_LW3bc",
        "outputId": "421b833c-aa6f-414c-b1a6-d303f2621592"
      },
      "execution_count": 62,
      "outputs": [
        {
          "output_type": "stream",
          "name": "stdout",
          "text": [
            "[1,2,4]\n"
          ]
        }
      ]
    },
    {
      "cell_type": "code",
      "source": [
        "L[0]"
      ],
      "metadata": {
        "colab": {
          "base_uri": "https://localhost:8080/"
        },
        "id": "Tt8Wvb_hW3Yo",
        "outputId": "786582ad-d44f-4a47-e563-5f751c5f7703"
      },
      "execution_count": null,
      "outputs": [
        {
          "output_type": "execute_result",
          "data": {
            "text/plain": [
              "1"
            ]
          },
          "metadata": {},
          "execution_count": 78
        }
      ]
    },
    {
      "cell_type": "code",
      "source": [
        "L.pop()"
      ],
      "metadata": {
        "colab": {
          "base_uri": "https://localhost:8080/"
        },
        "id": "eK3igX32fW-X",
        "outputId": "769f9182-7974-4c7f-da30-4f12870fd779"
      },
      "execution_count": null,
      "outputs": [
        {
          "output_type": "stream",
          "name": "stdout",
          "text": [
            "3\n"
          ]
        }
      ]
    },
    {
      "cell_type": "code",
      "source": [
        "L.clear()"
      ],
      "metadata": {
        "id": "wAo_IYqHW3Vn"
      },
      "execution_count": null,
      "outputs": []
    },
    {
      "cell_type": "code",
      "source": [
        "L.find(3)"
      ],
      "metadata": {
        "colab": {
          "base_uri": "https://localhost:8080/"
        },
        "id": "h2QSKuksW3S_",
        "outputId": "eabe167f-54c4-4f16-955a-52f49de8206a"
      },
      "execution_count": 49,
      "outputs": [
        {
          "output_type": "execute_result",
          "data": {
            "text/plain": [
              "2"
            ]
          },
          "metadata": {},
          "execution_count": 49
        }
      ]
    },
    {
      "cell_type": "code",
      "source": [
        ""
      ],
      "metadata": {
        "id": "y9Xtl5OgW3Py"
      },
      "execution_count": null,
      "outputs": []
    }
  ]
}