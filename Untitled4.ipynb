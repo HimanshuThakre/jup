{
  "nbformat": 4,
  "nbformat_minor": 0,
  "metadata": {
    "colab": {
      "provenance": [],
      "authorship_tag": "ABX9TyN76wfbN7f56KHlm1Iqa11Y",
      "include_colab_link": true
    },
    "kernelspec": {
      "name": "python3",
      "display_name": "Python 3"
    },
    "language_info": {
      "name": "python"
    }
  },
  "cells": [
    {
      "cell_type": "markdown",
      "metadata": {
        "id": "view-in-github",
        "colab_type": "text"
      },
      "source": [
        "<a href=\"https://colab.research.google.com/github/HimanshuThakre/jup/blob/main/Untitled4.ipynb\" target=\"_parent\"><img src=\"https://colab.research.google.com/assets/colab-badge.svg\" alt=\"Open In Colab\"/></a>"
      ]
    },
    {
      "cell_type": "code",
      "source": [
        "class Node:\n",
        "\n",
        "  def __init__(self,value):\n",
        "    self.data = value\n",
        "    self.next = None"
      ],
      "metadata": {
        "id": "zWS1b3ILbauA"
      },
      "execution_count": 19,
      "outputs": []
    },
    {
      "cell_type": "code",
      "source": [
        "class linkedlist:\n",
        "  def __init__(self):\n",
        "    self.head = None\n",
        "    self.n = 0\n",
        "\n",
        "  def insert_head(self,value):\n",
        "    #create a new node\n",
        "\n",
        "   new_node = Node(value)\n",
        "    #create connection\n",
        "\n",
        "   new_node.next = self.head\n",
        "    #reassing head\n",
        "\n",
        "   self.head = new_node\n",
        "    #increment no of nodes\n",
        "\n",
        "   self.n = self.n + 1\n",
        "\n",
        ""
      ],
      "metadata": {
        "id": "RrzPHdo-dR_a"
      },
      "execution_count": 20,
      "outputs": []
    },
    {
      "cell_type": "code",
      "source": [
        "L = linkedlist()"
      ],
      "metadata": {
        "id": "K4xhsJg6f47i"
      },
      "execution_count": 21,
      "outputs": []
    },
    {
      "cell_type": "code",
      "source": [
        "L.insert_head(1)\n",
        "L.insert_head(2)\n",
        "L.insert_head(3)"
      ],
      "metadata": {
        "id": "EqOLaNzNfmp1"
      },
      "execution_count": 22,
      "outputs": []
    },
    {
      "cell_type": "markdown",
      "source": [
        "\n",
        "\n",
        "1.   #what is the output of following function when head node of following ll is pased input.\n",
        "12345\n",
        "\n",
        "\n"
      ],
      "metadata": {
        "id": "Tu9An2JTVYe3"
      }
    },
    {
      "cell_type": "code",
      "execution_count": 23,
      "metadata": {
        "id": "AMbjr2rTTn8p"
      },
      "outputs": [],
      "source": [
        "\n",
        "\n",
        "def fun(head):\n",
        "  if(head==None):\n",
        "    return\n",
        "  if head.next.next!= None:\n",
        "    print(head.data,\"\",end='')\n",
        "    fun(head.next)\n",
        "  print(head.data,\"\",end='')\n",
        "\n"
      ]
    },
    {
      "cell_type": "code",
      "source": [],
      "metadata": {
        "id": "zDauckgrXpyb"
      },
      "execution_count": null,
      "outputs": []
    }
  ]
}