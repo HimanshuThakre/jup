{
  "nbformat": 4,
  "nbformat_minor": 0,
  "metadata": {
    "colab": {
      "provenance": [],
      "authorship_tag": "ABX9TyMde751ESrqrPI+EnYMM8tx",
      "include_colab_link": true
    },
    "kernelspec": {
      "name": "python3",
      "display_name": "Python 3"
    },
    "language_info": {
      "name": "python"
    }
  },
  "cells": [
    {
      "cell_type": "markdown",
      "metadata": {
        "id": "view-in-github",
        "colab_type": "text"
      },
      "source": [
        "<a href=\"https://colab.research.google.com/github/HimanshuThakre/jup/blob/main/Untitled4.ipynb\" target=\"_parent\"><img src=\"https://colab.research.google.com/assets/colab-badge.svg\" alt=\"Open In Colab\"/></a>"
      ]
    },
    {
      "cell_type": "code",
      "source": [
        "class Node:\n",
        "\n",
        "  def __init__(self,value):\n",
        "    self.data = value\n",
        "    self.next = None"
      ],
      "metadata": {
        "id": "zWS1b3ILbauA"
      },
      "execution_count": 24,
      "outputs": []
    },
    {
      "cell_type": "code",
      "source": [
        "class Stack:\n",
        "\n",
        "  def __init__(self) :\n",
        "    self.top = None\n",
        "\n",
        "  def isempty(self):\n",
        "    return self.top == None\n",
        "\n",
        "  def push(self,value):\n",
        "\n",
        "    new_node = Node(value)\n",
        "\n",
        "    new_node.next = self.top\n",
        "\n",
        "    self.top = new_node\n",
        "\n",
        "  def peek(self):\n",
        "    if(self.isempty()):\n",
        "      return \"stack Empty\"\n",
        "    else:\n",
        "      return self.top.data\n",
        "\n",
        "  def pop(self):\n",
        "\n",
        "    if(self.isempty()):\n",
        "      return \"stack Empty\"\n",
        "    else:\n",
        "      self.top = self.top.next\n",
        "\n",
        "\n",
        "  def traverse(self):\n",
        "     temp = self.top\n",
        "\n",
        "     while temp != None:\n",
        "\n",
        "      print(temp.data)\n",
        "      temp = temp.next\n",
        "\n",
        "  def size(self):\n",
        "\n",
        "\n",
        "\n"
      ],
      "metadata": {
        "id": "RrzPHdo-dR_a"
      },
      "execution_count": 25,
      "outputs": []
    },
    {
      "cell_type": "code",
      "source": [
        "s = Stack()"
      ],
      "metadata": {
        "id": "K4xhsJg6f47i"
      },
      "execution_count": 26,
      "outputs": []
    },
    {
      "cell_type": "code",
      "source": [
        "s.isempty()"
      ],
      "metadata": {
        "id": "EqOLaNzNfmp1",
        "colab": {
          "base_uri": "https://localhost:8080/"
        },
        "outputId": "f285bcae-8971-40d1-a152-e55a77f5e713"
      },
      "execution_count": 27,
      "outputs": [
        {
          "output_type": "execute_result",
          "data": {
            "text/plain": [
              "True"
            ]
          },
          "metadata": {},
          "execution_count": 27
        }
      ]
    },
    {
      "cell_type": "markdown",
      "source": [],
      "metadata": {
        "id": "Tu9An2JTVYe3"
      }
    },
    {
      "cell_type": "code",
      "execution_count": 28,
      "metadata": {
        "id": "AMbjr2rTTn8p"
      },
      "outputs": [],
      "source": [
        "s.push(1)\n",
        "s.push(2)\n",
        "s.push(3)\n",
        "s.push(4)\n",
        "s.push(5)"
      ]
    },
    {
      "cell_type": "code",
      "source": [
        "s.traverse()"
      ],
      "metadata": {
        "id": "zDauckgrXpyb",
        "colab": {
          "base_uri": "https://localhost:8080/"
        },
        "outputId": "0ec8430d-081b-4c4d-c9fb-935fe5e7936f"
      },
      "execution_count": 29,
      "outputs": [
        {
          "output_type": "stream",
          "name": "stdout",
          "text": [
            "5\n",
            "4\n",
            "3\n",
            "2\n",
            "1\n"
          ]
        }
      ]
    },
    {
      "cell_type": "code",
      "source": [
        "s.peek()"
      ],
      "metadata": {
        "colab": {
          "base_uri": "https://localhost:8080/",
          "height": 35
        },
        "id": "9rK4JZBG-Hvv",
        "outputId": "5f435848-3c03-4f86-db85-70bb42ef43e4"
      },
      "execution_count": 40,
      "outputs": [
        {
          "output_type": "execute_result",
          "data": {
            "text/plain": [
              "'stack Empty'"
            ],
            "application/vnd.google.colaboratory.intrinsic+json": {
              "type": "string"
            }
          },
          "metadata": {},
          "execution_count": 40
        }
      ]
    },
    {
      "cell_type": "code",
      "source": [
        "s.pop()\n"
      ],
      "metadata": {
        "id": "fDhUmgNe-CLR"
      },
      "execution_count": 39,
      "outputs": []
    }
  ]
}