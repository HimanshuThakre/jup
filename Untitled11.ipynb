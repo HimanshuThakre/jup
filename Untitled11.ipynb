{
  "nbformat": 4,
  "nbformat_minor": 0,
  "metadata": {
    "colab": {
      "provenance": [],
      "authorship_tag": "ABX9TyNKG7aAiAaVfUx7cIQ079EM",
      "include_colab_link": true
    },
    "kernelspec": {
      "name": "python3",
      "display_name": "Python 3"
    },
    "language_info": {
      "name": "python"
    }
  },
  "cells": [
    {
      "cell_type": "markdown",
      "metadata": {
        "id": "view-in-github",
        "colab_type": "text"
      },
      "source": [
        "<a href=\"https://colab.research.google.com/github/HimanshuThakre/jup/blob/main/Untitled11.ipynb\" target=\"_parent\"><img src=\"https://colab.research.google.com/assets/colab-badge.svg\" alt=\"Open In Colab\"/></a>"
      ]
    },
    {
      "cell_type": "code",
      "execution_count": 5,
      "metadata": {
        "colab": {
          "base_uri": "https://localhost:8080/"
        },
        "id": "ZVONw5H3V7Fm",
        "outputId": "5b66275f-8608-47bb-ac48-17173de6b286"
      },
      "outputs": [
        {
          "output_type": "stream",
          "name": "stdout",
          "text": [
            "{'A': [], 'B': []}\n"
          ]
        }
      ],
      "source": [
        "def add_node(v):\n",
        "  if v in graph:\n",
        "    print(V,\"is already present in graph\")\n",
        "  else:\n",
        "    graph[v] = []\n",
        "\n",
        "\n",
        "\n",
        "graph = {}\n",
        "add_node(\"A\")\n",
        "add_node(\"B\")\n",
        "print(graph)"
      ]
    }
  ]
}