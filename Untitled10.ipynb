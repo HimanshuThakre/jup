{
  "nbformat": 4,
  "nbformat_minor": 0,
  "metadata": {
    "colab": {
      "provenance": [],
      "authorship_tag": "ABX9TyNWuSsjZDWOXxtdWf0fPZVo",
      "include_colab_link": true
    },
    "kernelspec": {
      "name": "python3",
      "display_name": "Python 3"
    },
    "language_info": {
      "name": "python"
    }
  },
  "cells": [
    {
      "cell_type": "markdown",
      "metadata": {
        "id": "view-in-github",
        "colab_type": "text"
      },
      "source": [
        "<a href=\"https://colab.research.google.com/github/HimanshuThakre/jup/blob/main/Untitled10.ipynb\" target=\"_parent\"><img src=\"https://colab.research.google.com/assets/colab-badge.svg\" alt=\"Open In Colab\"/></a>"
      ]
    },
    {
      "cell_type": "code",
      "execution_count": 9,
      "metadata": {
        "colab": {
          "base_uri": "https://localhost:8080/"
        },
        "id": "cXXtPwb6rCg9",
        "outputId": "aecae089-c4d7-4c76-88f5-d6542feabb50"
      },
      "outputs": [
        {
          "output_type": "stream",
          "name": "stdout",
          "text": [
            "Before adding nodes\n",
            "[]\n",
            "[]\n",
            "After adding nodes\n",
            "['A', 'B', 'C']\n",
            "[[0, 0, 0], [0, 0, 0], [0, 0, 0]]\n",
            "0 0 0 \n",
            "0 0 0 \n",
            "0 0 0 \n"
          ]
        }
      ],
      "source": [
        "def add_node(v):\n",
        "  global node_count\n",
        "  if v in nodes:\n",
        "    print(v,\"is already present in graph.\")\n",
        "  else:\n",
        "    node_count = node_count + 1\n",
        "    nodes.append(v)\n",
        "    for n in graphy:\n",
        "      n.append(0)\n",
        "    temp =[]\n",
        "    for n in range(node_count):\n",
        "      temp.append(0)\n",
        "    graphy.append(temp)\n",
        "\n",
        "def print_graph():\n",
        "  for i in range(node_count):\n",
        "    for j in range(node_count):\n",
        "      print(graphy[i][j],end=\" \")\n",
        "    print()\n",
        "\n",
        "\n",
        "nodes = [] # Initialize nodes here\n",
        "graphy = []\n",
        "print(\"Before adding nodes\")\n",
        "print(nodes)\n",
        "print(graphy)\n",
        "node_count = 0 # Initialize node_count here\n",
        "add_node(\"A\")\n",
        "add_node(\"B\")\n",
        "add_node(\"C\")\n",
        "\n",
        "print(\"After adding nodes\")\n",
        "print(nodes)\n",
        "print(graphy)\n",
        "print_graph()"
      ]
    },
    {
      "cell_type": "code",
      "source": [
        "print_graph()"
      ],
      "metadata": {
        "colab": {
          "base_uri": "https://localhost:8080/",
          "height": 141
        },
        "id": "wlQ_oTUq3UlI",
        "outputId": "69cc4f35-40b7-4071-e948-23a3b59f2560"
      },
      "execution_count": 8,
      "outputs": [
        {
          "output_type": "error",
          "ename": "NameError",
          "evalue": "name 'print_graph' is not defined",
          "traceback": [
            "\u001b[0;31m---------------------------------------------------------------------------\u001b[0m",
            "\u001b[0;31mNameError\u001b[0m                                 Traceback (most recent call last)",
            "\u001b[0;32m/tmp/ipython-input-1503357846.py\u001b[0m in \u001b[0;36m<cell line: 0>\u001b[0;34m()\u001b[0m\n\u001b[0;32m----> 1\u001b[0;31m \u001b[0mprint_graph\u001b[0m\u001b[0;34m(\u001b[0m\u001b[0;34m)\u001b[0m\u001b[0;34m\u001b[0m\u001b[0;34m\u001b[0m\u001b[0m\n\u001b[0m",
            "\u001b[0;31mNameError\u001b[0m: name 'print_graph' is not defined"
          ]
        }
      ]
    }
  ]
}