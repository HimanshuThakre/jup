{
  "nbformat": 4,
  "nbformat_minor": 0,
  "metadata": {
    "colab": {
      "provenance": [],
      "authorship_tag": "ABX9TyMhCiCs/hUUHtzKStd9otLF",
      "include_colab_link": true
    },
    "kernelspec": {
      "name": "python3",
      "display_name": "Python 3"
    },
    "language_info": {
      "name": "python"
    }
  },
  "cells": [
    {
      "cell_type": "markdown",
      "metadata": {
        "id": "view-in-github",
        "colab_type": "text"
      },
      "source": [
        "<a href=\"https://colab.research.google.com/github/HimanshuThakre/jup/blob/main/searching_sorting.ipynb\" target=\"_parent\"><img src=\"https://colab.research.google.com/assets/colab-badge.svg\" alt=\"Open In Colab\"/></a>"
      ]
    },
    {
      "cell_type": "code",
      "execution_count": null,
      "metadata": {
        "id": "AoVXDhhUwSho"
      },
      "outputs": [],
      "source": [
        "#linear search\n",
        "#bryte force\n",
        "#worst case time complexity is O(N)\n",
        "#no sorting requried\n",
        "\n",
        "def linear_search(arr,item):\n",
        "  for i in range(len(arr)):\n",
        "    if arr[i] == item:\n",
        "      return i\n",
        "\n",
        "  return -1\n",
        "\n"
      ]
    },
    {
      "cell_type": "code",
      "source": [
        "arr = [12,34,56,1,67,100,47,99]\n",
        "linear_search(arr,14)"
      ],
      "metadata": {
        "colab": {
          "base_uri": "https://localhost:8080/"
        },
        "id": "R1OMy_3Ow9pr",
        "outputId": "29231978-5ccd-44f5-f9b3-6e8e2abebec8"
      },
      "execution_count": null,
      "outputs": [
        {
          "output_type": "execute_result",
          "data": {
            "text/plain": [
              "-1"
            ]
          },
          "metadata": {},
          "execution_count": 8
        }
      ]
    },
    {
      "cell_type": "code",
      "source": [
        "#Binary\n",
        "#sorted array\n",
        "\n",
        "def binary_search(arr,low,high,item):\n",
        "\n",
        "  print(\"low = \",low,\"high =\",high,end =' ')\n",
        "\n",
        "\n",
        "  if low <= high:\n",
        "    #search\n",
        "    mid = (low+high)//2\n",
        "\n",
        "    print(\"mid value is\",arr[mid])\n",
        "    if arr[mid] == item:\n",
        "      return mid\n",
        "    elif arr[mid] > item:\n",
        "      return binary_search(arr,low,mid-1,item)\n",
        "    else:\n",
        "      return binary_search(arr,mid+1,high,item)\n",
        "  else:\n",
        "    return -1\n",
        "\n"
      ],
      "metadata": {
        "id": "VP4kIKjsytCH"
      },
      "execution_count": null,
      "outputs": []
    },
    {
      "cell_type": "code",
      "source": [
        "arr = [12,34,56,78,90,97]\n",
        "print(binary_search(arr,0,len(arr)-1,100))"
      ],
      "metadata": {
        "colab": {
          "base_uri": "https://localhost:8080/"
        },
        "id": "u1LhltCP5SOZ",
        "outputId": "a2e3859c-581e-4a51-a483-810a5d6459b9"
      },
      "execution_count": null,
      "outputs": [
        {
          "output_type": "stream",
          "name": "stdout",
          "text": [
            "low =  0 high = 5 mid value is 56\n",
            "low =  3 high = 5 mid value is 90\n",
            "low =  5 high = 5 mid value is 97\n",
            "low =  6 high = 5 -1\n"
          ]
        }
      ]
    },
    {
      "cell_type": "code",
      "source": [
        "#sorting\n",
        "\n",
        "def is_sorted(arr):\n",
        "\n",
        "  sorted = True\n",
        "\n",
        "  for i in range(len(arr)-1):\n",
        "    if arr[i] > arr[i+1]:\n",
        "      sorted = False\n",
        "\n",
        "\n",
        "  return sorted\n"
      ],
      "metadata": {
        "id": "rttfGm-X_Y12"
      },
      "execution_count": 3,
      "outputs": []
    },
    {
      "cell_type": "code",
      "source": [
        "arr = [1,2,3,64,5,6]\n",
        "is_sorted(arr)"
      ],
      "metadata": {
        "colab": {
          "base_uri": "https://localhost:8080/"
        },
        "id": "0ZBJIL2s_sG2",
        "outputId": "d14863c7-7e6a-4fb7-ad4b-b4a4ebf73033"
      },
      "execution_count": null,
      "outputs": [
        {
          "output_type": "execute_result",
          "data": {
            "text/plain": [
              "False"
            ]
          },
          "metadata": {},
          "execution_count": 23
        }
      ]
    },
    {
      "cell_type": "code",
      "source": [
        "#Monke sort\n",
        "\n",
        "import random\n",
        "a=[1,2,3,4]\n",
        "random.shuffle(a)\n",
        "a"
      ],
      "metadata": {
        "colab": {
          "base_uri": "https://localhost:8080/"
        },
        "id": "wR7JsWBKAB8E",
        "outputId": "1af68687-86d5-4e6c-cc6b-7c7fec95f39a"
      },
      "execution_count": 4,
      "outputs": [
        {
          "output_type": "execute_result",
          "data": {
            "text/plain": [
              "[1, 2, 3, 4]"
            ]
          },
          "metadata": {},
          "execution_count": 4
        }
      ]
    },
    {
      "cell_type": "code",
      "source": [
        "import time\n",
        "def monkey_sort(arr):\n",
        "  while not is_sorted(arr):\n",
        "    time.sleep(1)\n",
        "    random.shuffle(arr)\n",
        "    print(arr)\n",
        "  print(arr)"
      ],
      "metadata": {
        "id": "93KsfLJlBXlZ"
      },
      "execution_count": 5,
      "outputs": []
    },
    {
      "cell_type": "code",
      "source": [
        "a = ([23,14,11,67,45,61])\n",
        "monkey_sort(a)\n"
      ],
      "metadata": {
        "colab": {
          "base_uri": "https://localhost:8080/",
          "height": 158
        },
        "id": "b01m8yJtBtTk",
        "outputId": "7fa81c61-eb11-44f2-bbb7-40298b401446"
      },
      "execution_count": 10,
      "outputs": [
        {
          "output_type": "error",
          "ename": "NameError",
          "evalue": "name 'monkey_sort' is not defined",
          "traceback": [
            "\u001b[0;31m---------------------------------------------------------------------------\u001b[0m",
            "\u001b[0;31mNameError\u001b[0m                                 Traceback (most recent call last)",
            "\u001b[0;32m/tmp/ipython-input-3753448076.py\u001b[0m in \u001b[0;36m<cell line: 0>\u001b[0;34m()\u001b[0m\n\u001b[1;32m      1\u001b[0m \u001b[0ma\u001b[0m \u001b[0;34m=\u001b[0m \u001b[0;34m(\u001b[0m\u001b[0;34m[\u001b[0m\u001b[0;36m23\u001b[0m\u001b[0;34m,\u001b[0m\u001b[0;36m14\u001b[0m\u001b[0;34m,\u001b[0m\u001b[0;36m11\u001b[0m\u001b[0;34m,\u001b[0m\u001b[0;36m67\u001b[0m\u001b[0;34m,\u001b[0m\u001b[0;36m45\u001b[0m\u001b[0;34m,\u001b[0m\u001b[0;36m61\u001b[0m\u001b[0;34m]\u001b[0m\u001b[0;34m)\u001b[0m\u001b[0;34m\u001b[0m\u001b[0;34m\u001b[0m\u001b[0m\n\u001b[0;32m----> 2\u001b[0;31m \u001b[0mmonkey_sort\u001b[0m\u001b[0;34m(\u001b[0m\u001b[0ma\u001b[0m\u001b[0;34m)\u001b[0m\u001b[0;34m\u001b[0m\u001b[0;34m\u001b[0m\u001b[0m\n\u001b[0m",
            "\u001b[0;31mNameError\u001b[0m: name 'monkey_sort' is not defined"
          ]
        }
      ]
    },
    {
      "cell_type": "code",
      "source": [
        "def bubble_sort(arr):\n",
        "  for i in range(len(arr) - 1):\n",
        "    flag = 0\n",
        "    for j in range(len(arr) - 1 - i):\n",
        "      if arr[j] > arr[j+1]:\n",
        "        arr[j],arr[j+1] = arr[j+1],arr[j]\n",
        "        flag =1\n",
        "\n",
        "    if flag == 0:\n",
        "      break\n",
        "  return arr\n",
        "\n",
        "\n",
        "\n"
      ],
      "metadata": {
        "id": "h7xZf6aZDotJ"
      },
      "execution_count": 10,
      "outputs": []
    },
    {
      "cell_type": "code",
      "source": [
        "arr = [23,14,11,67,45,61]\n",
        "bubble_sort(arr)"
      ],
      "metadata": {
        "colab": {
          "base_uri": "https://localhost:8080/"
        },
        "id": "6mFaszrCZ6Eu",
        "outputId": "ee09a9ff-7e1b-4628-fe7d-b777f1df4cf0"
      },
      "execution_count": 11,
      "outputs": [
        {
          "output_type": "execute_result",
          "data": {
            "text/plain": [
              "[11, 14, 23, 45, 61, 67]"
            ]
          },
          "metadata": {},
          "execution_count": 11
        }
      ]
    },
    {
      "cell_type": "code",
      "source": [
        "#selection sort\n",
        "#time complexity - o(n^2)\n",
        "#space complexity - o(1)\n",
        "def selection_sort(arr):\n",
        "  for i in range(len(arr)-1):\n",
        "    print(i+1,\"pass\",end=\" \")\n",
        "    min = i\n",
        "    print(\"current min is\",arr[min])\n",
        "    for j in range(i+1,len(arr)):\n",
        "      print(\"current item under observation\",arr[j])\n",
        "      if arr[j] < arr[min]:\n",
        "        print(\"current item is less then min \")\n",
        "        min = j\n",
        "        print(\"now the min has become\",arr[min])\n",
        "\n",
        "    arr[i],arr[min] = arr[min],arr[i]\n",
        "    print(arr)\n",
        "    print(\"*\"*50)\n",
        "\n",
        "\n",
        "  print(arr)\n",
        "\n"
      ],
      "metadata": {
        "id": "2jFezCkB13CW"
      },
      "execution_count": 3,
      "outputs": []
    },
    {
      "cell_type": "code",
      "source": [
        "def selection_sort(arr):\n",
        "  for i in range(len(arr)-1):\n",
        "\n",
        "    min = i\n",
        "\n",
        "    for j in range(i+1,len(arr)):\n",
        "\n",
        "      if arr[j] < arr[min]:\n",
        "\n",
        "        min = j\n",
        "\n",
        "    arr[i],arr[min] = arr[min],arr[i]\n",
        "\n",
        "\n",
        "\n",
        "  return arr\n",
        "\n"
      ],
      "metadata": {
        "id": "mPfCd4OAWWpR"
      },
      "execution_count": 1,
      "outputs": []
    },
    {
      "cell_type": "code",
      "source": [
        "arr = [23,12,34,11,100,56,78]\n",
        "selection_sort(arr)"
      ],
      "metadata": {
        "colab": {
          "base_uri": "https://localhost:8080/"
        },
        "id": "Bhgb85pjdbON",
        "outputId": "59547a3d-3fdd-4010-f845-6716a8b067ca"
      },
      "execution_count": 4,
      "outputs": [
        {
          "output_type": "stream",
          "name": "stdout",
          "text": [
            "1 pass current min is 23\n",
            "current item under observation 12\n",
            "current item is less then min \n",
            "now the min has become 12\n",
            "current item under observation 34\n",
            "current item under observation 11\n",
            "current item is less then min \n",
            "now the min has become 11\n",
            "current item under observation 100\n",
            "current item under observation 56\n",
            "current item under observation 78\n",
            "[11, 12, 34, 23, 100, 56, 78]\n",
            "**************************************************\n",
            "2 pass current min is 12\n",
            "current item under observation 34\n",
            "current item under observation 23\n",
            "current item under observation 100\n",
            "current item under observation 56\n",
            "current item under observation 78\n",
            "[11, 12, 34, 23, 100, 56, 78]\n",
            "**************************************************\n",
            "3 pass current min is 34\n",
            "current item under observation 23\n",
            "current item is less then min \n",
            "now the min has become 23\n",
            "current item under observation 100\n",
            "current item under observation 56\n",
            "current item under observation 78\n",
            "[11, 12, 23, 34, 100, 56, 78]\n",
            "**************************************************\n",
            "4 pass current min is 34\n",
            "current item under observation 100\n",
            "current item under observation 56\n",
            "current item under observation 78\n",
            "[11, 12, 23, 34, 100, 56, 78]\n",
            "**************************************************\n",
            "5 pass current min is 100\n",
            "current item under observation 56\n",
            "current item is less then min \n",
            "now the min has become 56\n",
            "current item under observation 78\n",
            "[11, 12, 23, 34, 56, 100, 78]\n",
            "**************************************************\n",
            "6 pass current min is 100\n",
            "current item under observation 78\n",
            "current item is less then min \n",
            "now the min has become 78\n",
            "[11, 12, 23, 34, 56, 78, 100]\n",
            "**************************************************\n",
            "[11, 12, 23, 34, 56, 78, 100]\n"
          ]
        }
      ]
    },
    {
      "cell_type": "code",
      "source": [
        "L =[]\n",
        "import random\n",
        "\n",
        "for i in range(10000):\n",
        "  L.append(random.randint(1,1000))"
      ],
      "metadata": {
        "id": "VyL0tokzWrO7"
      },
      "execution_count": 5,
      "outputs": []
    },
    {
      "cell_type": "code",
      "source": [
        "L[15:25]\n"
      ],
      "metadata": {
        "colab": {
          "base_uri": "https://localhost:8080/"
        },
        "id": "LvENXKo9XzLx",
        "outputId": "1e89c64a-f2bd-493b-b230-d39a18cf7412"
      },
      "execution_count": 8,
      "outputs": [
        {
          "output_type": "execute_result",
          "data": {
            "text/plain": [
              "[390, 288, 224, 914, 116, 920, 914, 428, 718, 643]"
            ]
          },
          "metadata": {},
          "execution_count": 8
        }
      ]
    },
    {
      "cell_type": "code",
      "source": [
        "L1 =L[:]\n",
        "#cloning"
      ],
      "metadata": {
        "id": "q8yAwslvX-jN"
      },
      "execution_count": 9,
      "outputs": []
    },
    {
      "cell_type": "code",
      "source": [
        "import time\n",
        "\n",
        "start = time.time()\n",
        "bubble_sort(L)\n",
        "p"
      ],
      "metadata": {
        "id": "UtBMXwcIYGHx"
      },
      "execution_count": null,
      "outputs": []
    }
  ]
}