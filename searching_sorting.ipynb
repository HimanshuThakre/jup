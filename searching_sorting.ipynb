{
  "nbformat": 4,
  "nbformat_minor": 0,
  "metadata": {
    "colab": {
      "provenance": [],
      "authorship_tag": "ABX9TyOjejAMBHOdU/xRH5GQAV5j",
      "include_colab_link": true
    },
    "kernelspec": {
      "name": "python3",
      "display_name": "Python 3"
    },
    "language_info": {
      "name": "python"
    }
  },
  "cells": [
    {
      "cell_type": "markdown",
      "metadata": {
        "id": "view-in-github",
        "colab_type": "text"
      },
      "source": [
        "<a href=\"https://colab.research.google.com/github/HimanshuThakre/jup/blob/main/searching_sorting.ipynb\" target=\"_parent\"><img src=\"https://colab.research.google.com/assets/colab-badge.svg\" alt=\"Open In Colab\"/></a>"
      ]
    },
    {
      "cell_type": "code",
      "execution_count": 5,
      "metadata": {
        "id": "AoVXDhhUwSho"
      },
      "outputs": [],
      "source": [
        "#linear search\n",
        "#bryte force\n",
        "#worst case time complexity is O(N)\n",
        "#no sorting requried\n",
        "\n",
        "def linear_search(arr,item):\n",
        "  for i in range(len(arr)):\n",
        "    if arr[i] == item:\n",
        "      return i\n",
        "\n",
        "  return -1\n",
        "\n",
        ""
      ]
    },
    {
      "cell_type": "code",
      "source": [
        "arr = [12,34,56,1,67,100,47,99]\n",
        "linear_search(arr,14)"
      ],
      "metadata": {
        "colab": {
          "base_uri": "https://localhost:8080/"
        },
        "id": "R1OMy_3Ow9pr",
        "outputId": "29231978-5ccd-44f5-f9b3-6e8e2abebec8"
      },
      "execution_count": 8,
      "outputs": [
        {
          "output_type": "execute_result",
          "data": {
            "text/plain": [
              "-1"
            ]
          },
          "metadata": {},
          "execution_count": 8
        }
      ]
    },
    {
      "cell_type": "code",
      "source": [
        "#Binary\n",
        "#sorted array\n",
        "\n",
        "def binary_search(arr,low,high,item):\n",
        "\n",
        "  print(\"low = \",low,\"high =\",high,end =' ')\n",
        "\n",
        "\n",
        "  if low <= high:\n",
        "    #search\n",
        "    mid = (low+high)//2\n",
        "\n",
        "    print(\"mid value is\",arr[mid])\n",
        "    if arr[mid] == item:\n",
        "      return mid\n",
        "    elif arr[mid] > item:\n",
        "      return binary_search(arr,low,mid-1,item)\n",
        "    else:\n",
        "      return binary_search(arr,mid+1,high,item)\n",
        "  else:\n",
        "    return -1\n",
        "\n"
      ],
      "metadata": {
        "id": "VP4kIKjsytCH"
      },
      "execution_count": 14,
      "outputs": []
    },
    {
      "cell_type": "code",
      "source": [
        "arr = [12,34,56,78,90,97]\n",
        "print(binary_search(arr,0,len(arr)-1,100))"
      ],
      "metadata": {
        "colab": {
          "base_uri": "https://localhost:8080/"
        },
        "id": "u1LhltCP5SOZ",
        "outputId": "a2e3859c-581e-4a51-a483-810a5d6459b9"
      },
      "execution_count": 17,
      "outputs": [
        {
          "output_type": "stream",
          "name": "stdout",
          "text": [
            "low =  0 high = 5 mid value is 56\n",
            "low =  3 high = 5 mid value is 90\n",
            "low =  5 high = 5 mid value is 97\n",
            "low =  6 high = 5 -1\n"
          ]
        }
      ]
    },
    {
      "cell_type": "code",
      "source": [
        "#sorting\n",
        "\n",
        "def is_sorted(arr):\n",
        "\n",
        "  sorted = True\n",
        "\n",
        "  for i in range(len(arr)-1):\n",
        "    if arr[i] > arr[i+1]:\n",
        "      sorted = False\n",
        "\n",
        "\n",
        "  return sorted\n"
      ],
      "metadata": {
        "id": "rttfGm-X_Y12"
      },
      "execution_count": 19,
      "outputs": []
    },
    {
      "cell_type": "code",
      "source": [
        "arr = [1,2,3,64,5,6]\n",
        "is_sorted(arr)"
      ],
      "metadata": {
        "colab": {
          "base_uri": "https://localhost:8080/"
        },
        "id": "0ZBJIL2s_sG2",
        "outputId": "d14863c7-7e6a-4fb7-ad4b-b4a4ebf73033"
      },
      "execution_count": 23,
      "outputs": [
        {
          "output_type": "execute_result",
          "data": {
            "text/plain": [
              "False"
            ]
          },
          "metadata": {},
          "execution_count": 23
        }
      ]
    },
    {
      "cell_type": "code",
      "source": [
        "#Monke sort\n",
        "\n",
        "import random\n",
        "a=[1,2,3,4]\n",
        "random.shuffle(a)\n",
        "a"
      ],
      "metadata": {
        "colab": {
          "base_uri": "https://localhost:8080/"
        },
        "id": "wR7JsWBKAB8E",
        "outputId": "8b4c5d0a-b5f6-4cd4-a475-7b0e8b832993"
      },
      "execution_count": 30,
      "outputs": [
        {
          "output_type": "execute_result",
          "data": {
            "text/plain": [
              "[2, 4, 1, 3]"
            ]
          },
          "metadata": {},
          "execution_count": 30
        }
      ]
    },
    {
      "cell_type": "code",
      "source": [
        "import time\n",
        "def monkey_sort(arr):\n",
        "  while not is_sorted(arr):\n",
        "    time.sleep(1)\n",
        "    random.shuffle(arr)\n",
        "    print(arr)\n",
        "  print(arr)"
      ],
      "metadata": {
        "id": "93KsfLJlBXlZ"
      },
      "execution_count": 36,
      "outputs": []
    },
    {
      "cell_type": "code",
      "source": [
        "a = ([23,14,11,67,45,61])\n",
        "monkey_sort(a)\n"
      ],
      "metadata": {
        "colab": {
          "base_uri": "https://localhost:8080/",
          "height": 1000
        },
        "id": "b01m8yJtBtTk",
        "outputId": "c3c50dd3-8e57-4a56-c71b-20104de38db2"
      },
      "execution_count": 38,
      "outputs": [
        {
          "output_type": "stream",
          "name": "stdout",
          "text": [
            "[23, 61, 45, 11, 67, 14]\n",
            "[61, 11, 23, 14, 67, 45]\n",
            "[67, 23, 14, 11, 61, 45]\n",
            "[14, 61, 45, 67, 23, 11]\n",
            "[11, 45, 67, 14, 61, 23]\n",
            "[23, 11, 45, 61, 67, 14]\n",
            "[11, 14, 61, 23, 67, 45]\n",
            "[11, 61, 67, 45, 14, 23]\n",
            "[61, 14, 45, 11, 23, 67]\n",
            "[67, 61, 23, 11, 14, 45]\n",
            "[14, 23, 11, 61, 67, 45]\n",
            "[23, 11, 14, 61, 45, 67]\n",
            "[61, 67, 23, 11, 14, 45]\n",
            "[67, 14, 11, 61, 23, 45]\n",
            "[14, 67, 61, 45, 23, 11]\n",
            "[67, 23, 61, 14, 45, 11]\n",
            "[61, 67, 45, 14, 11, 23]\n",
            "[11, 45, 61, 23, 14, 67]\n",
            "[23, 61, 14, 45, 11, 67]\n",
            "[23, 67, 45, 14, 11, 61]\n",
            "[67, 23, 45, 11, 14, 61]\n",
            "[61, 23, 67, 45, 14, 11]\n",
            "[11, 45, 23, 61, 14, 67]\n",
            "[45, 14, 67, 11, 61, 23]\n",
            "[14, 11, 67, 23, 61, 45]\n",
            "[14, 23, 61, 45, 11, 67]\n",
            "[23, 11, 14, 67, 61, 45]\n",
            "[14, 61, 23, 45, 11, 67]\n",
            "[67, 14, 23, 61, 11, 45]\n",
            "[23, 45, 61, 11, 14, 67]\n",
            "[61, 14, 45, 67, 11, 23]\n",
            "[11, 23, 61, 45, 67, 14]\n",
            "[23, 67, 61, 14, 11, 45]\n",
            "[23, 67, 14, 11, 61, 45]\n",
            "[61, 45, 11, 67, 23, 14]\n",
            "[23, 45, 14, 67, 11, 61]\n",
            "[23, 67, 61, 14, 45, 11]\n",
            "[14, 67, 45, 61, 23, 11]\n",
            "[67, 11, 23, 45, 61, 14]\n",
            "[23, 45, 67, 11, 14, 61]\n",
            "[45, 67, 61, 23, 11, 14]\n",
            "[23, 45, 61, 14, 67, 11]\n",
            "[61, 67, 45, 14, 11, 23]\n",
            "[11, 45, 23, 67, 14, 61]\n",
            "[23, 61, 45, 11, 67, 14]\n",
            "[61, 23, 45, 11, 14, 67]\n",
            "[23, 14, 67, 11, 45, 61]\n",
            "[14, 61, 23, 11, 67, 45]\n",
            "[14, 11, 67, 45, 23, 61]\n",
            "[14, 61, 11, 23, 45, 67]\n",
            "[11, 61, 45, 67, 14, 23]\n",
            "[67, 23, 61, 11, 14, 45]\n",
            "[23, 11, 14, 61, 45, 67]\n",
            "[67, 61, 45, 11, 14, 23]\n",
            "[11, 14, 67, 45, 23, 61]\n",
            "[14, 45, 11, 61, 67, 23]\n",
            "[45, 11, 67, 61, 23, 14]\n",
            "[23, 45, 14, 67, 11, 61]\n",
            "[14, 11, 45, 67, 23, 61]\n",
            "[23, 61, 14, 45, 67, 11]\n",
            "[61, 67, 14, 23, 45, 11]\n",
            "[14, 67, 61, 23, 11, 45]\n",
            "[61, 11, 67, 45, 23, 14]\n",
            "[67, 45, 61, 11, 23, 14]\n",
            "[23, 14, 61, 67, 45, 11]\n",
            "[67, 45, 11, 23, 61, 14]\n",
            "[61, 67, 11, 23, 14, 45]\n",
            "[67, 45, 14, 23, 11, 61]\n",
            "[45, 11, 67, 61, 14, 23]\n"
          ]
        },
        {
          "output_type": "error",
          "ename": "KeyboardInterrupt",
          "evalue": "",
          "traceback": [
            "\u001b[0;31m---------------------------------------------------------------------------\u001b[0m",
            "\u001b[0;31mKeyboardInterrupt\u001b[0m                         Traceback (most recent call last)",
            "\u001b[0;32m/tmp/ipython-input-3753448076.py\u001b[0m in \u001b[0;36m<cell line: 0>\u001b[0;34m()\u001b[0m\n\u001b[1;32m      1\u001b[0m \u001b[0ma\u001b[0m \u001b[0;34m=\u001b[0m \u001b[0;34m(\u001b[0m\u001b[0;34m[\u001b[0m\u001b[0;36m23\u001b[0m\u001b[0;34m,\u001b[0m\u001b[0;36m14\u001b[0m\u001b[0;34m,\u001b[0m\u001b[0;36m11\u001b[0m\u001b[0;34m,\u001b[0m\u001b[0;36m67\u001b[0m\u001b[0;34m,\u001b[0m\u001b[0;36m45\u001b[0m\u001b[0;34m,\u001b[0m\u001b[0;36m61\u001b[0m\u001b[0;34m]\u001b[0m\u001b[0;34m)\u001b[0m\u001b[0;34m\u001b[0m\u001b[0;34m\u001b[0m\u001b[0m\n\u001b[0;32m----> 2\u001b[0;31m \u001b[0mmonkey_sort\u001b[0m\u001b[0;34m(\u001b[0m\u001b[0ma\u001b[0m\u001b[0;34m)\u001b[0m\u001b[0;34m\u001b[0m\u001b[0;34m\u001b[0m\u001b[0m\n\u001b[0m",
            "\u001b[0;32m/tmp/ipython-input-531122844.py\u001b[0m in \u001b[0;36mmonkey_sort\u001b[0;34m(arr)\u001b[0m\n\u001b[1;32m      2\u001b[0m \u001b[0;32mdef\u001b[0m \u001b[0mmonkey_sort\u001b[0m\u001b[0;34m(\u001b[0m\u001b[0marr\u001b[0m\u001b[0;34m)\u001b[0m\u001b[0;34m:\u001b[0m\u001b[0;34m\u001b[0m\u001b[0;34m\u001b[0m\u001b[0m\n\u001b[1;32m      3\u001b[0m   \u001b[0;32mwhile\u001b[0m \u001b[0;32mnot\u001b[0m \u001b[0mis_sorted\u001b[0m\u001b[0;34m(\u001b[0m\u001b[0marr\u001b[0m\u001b[0;34m)\u001b[0m\u001b[0;34m:\u001b[0m\u001b[0;34m\u001b[0m\u001b[0;34m\u001b[0m\u001b[0m\n\u001b[0;32m----> 4\u001b[0;31m     \u001b[0mtime\u001b[0m\u001b[0;34m.\u001b[0m\u001b[0msleep\u001b[0m\u001b[0;34m(\u001b[0m\u001b[0;36m1\u001b[0m\u001b[0;34m)\u001b[0m\u001b[0;34m\u001b[0m\u001b[0;34m\u001b[0m\u001b[0m\n\u001b[0m\u001b[1;32m      5\u001b[0m     \u001b[0mrandom\u001b[0m\u001b[0;34m.\u001b[0m\u001b[0mshuffle\u001b[0m\u001b[0;34m(\u001b[0m\u001b[0marr\u001b[0m\u001b[0;34m)\u001b[0m\u001b[0;34m\u001b[0m\u001b[0;34m\u001b[0m\u001b[0m\n\u001b[1;32m      6\u001b[0m     \u001b[0mprint\u001b[0m\u001b[0;34m(\u001b[0m\u001b[0marr\u001b[0m\u001b[0;34m)\u001b[0m\u001b[0;34m\u001b[0m\u001b[0;34m\u001b[0m\u001b[0m\n",
            "\u001b[0;31mKeyboardInterrupt\u001b[0m: "
          ]
        }
      ]
    },
    {
      "cell_type": "code",
      "source": [
        " def bubble_"
      ],
      "metadata": {
        "id": "h7xZf6aZDotJ"
      },
      "execution_count": null,
      "outputs": []
    }
  ]
}